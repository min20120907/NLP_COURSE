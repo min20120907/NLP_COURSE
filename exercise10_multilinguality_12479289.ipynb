{
 "cells": [
  {
   "cell_type": "markdown",
   "id": "e3e7cd94",
   "metadata": {},
   "source": [
    "# Exercise 10: Multilingual Representation Learning\n",
    "\n",
    "In this exercise, you will induce and explore multilingual text representations, cross-lingual word embeddings and multilingual encoders.\n",
    "\n",
    "You should complete the parts of the exercise that are marked as **TODO**.\n",
    "A correctly completed **TODO** gives 2 bonus points. Partially correct answers give 1 bonus point.\n",
    "Some **TODO**s are inside a comment in a code block: Here, you should complete the line of code.\n",
    "Other **TODO**s are inside a text block: Here, you should write a few sentences to answer the question.\n",
    "\n",
    "**Important:** Some students were under the impression that you have to complete a TODO in a _single_ line of code. That is not the case, you can use as many lines as you need.\n",
    "\n",
    "**Submission deadline:** 31.01.2022, 23:59 Central European Time\n",
    "\n",
    "**Instructions for submission:** After completing the exercise, save a copy of the notebook as exercise10_multilinguality_MATRIKELNUMMER.ipynb, where MATRIKELNUMMER is your student ID number. Then upload the notebook to moodle (submission exercise sheet 10).\n",
    "\n",
    "In order to understand the code, it can be helpful to experiment a bit during development, e.g., to print vectors, matrices, and tensors or their shapes. But please remove these changes before submitting the notebook. If we cannot run your notebook, or if a print statement is congesting stdout too much, then we cannot grade it. \n",
    "\n",
    "To make the most of this exercise, you should try to read and understand the entire code, not just the parts that contain a **TODO**. If you have questions, write them down for the exercise, which will happen in the week after the submission deadline.\n",
    "\n",
    "**CUDA:** You can use a GPU for this exercise (on colab: Runtime -> Change Runtime Type -> GPU). This is not mandatory (nor particularly crucial for this exercise), but it may speed up the execution of the code. "
   ]
  },
  {
   "cell_type": "markdown",
   "id": "d35a1d1b",
   "metadata": {},
   "source": [
    "# Required libraries\n",
    "\n",
    "When working with or any fast-changing software library, you should be extra careful to fix the library versions when you begin your project, and not change versions while you're developing.\n"
   ]
  },
  {
   "cell_type": "markdown",
   "id": "00920e7f",
   "metadata": {},
   "source": [
    "## Data\n",
    "\n",
    "This exercise requires various data files (monolingual embeddings, translation dictionaries, training and evaluation data for cross-lingual transfer for sentiment classification) which have been zipped and need to be obtained from: \n",
    "\n",
    "https://tinyurl.com/2p9x4crt\n",
    "\n",
    "You need to place the content of the archive into a directory named **data** and place it in the same directory with this notebook (so that the files can be accessed by the code via a relative path \"data/file_name\"). "
   ]
  },
  {
   "cell_type": "code",
   "execution_count": 3,
   "id": "93bc76e2",
   "metadata": {
    "ExecuteTime": {
     "end_time": "2022-01-21T18:33:52.239392Z",
     "start_time": "2022-01-21T18:32:05.179702Z"
    }
   },
   "outputs": [
    {
     "name": "stdout",
     "output_type": "stream",
     "text": [
      "Requirement already satisfied: sentence-transformers==2.1.0 in /home/min20120907/.local/lib/python3.8/site-packages (2.1.0)\n",
      "Requirement already satisfied: transformers<5.0.0,>=4.6.0 in /home/min20120907/.local/lib/python3.8/site-packages (from sentence-transformers==2.1.0) (4.15.0)\n",
      "Requirement already satisfied: tokenizers>=0.10.3 in /home/min20120907/.local/lib/python3.8/site-packages (from sentence-transformers==2.1.0) (0.10.3)\n",
      "Requirement already satisfied: numpy in /home/min20120907/.local/lib/python3.8/site-packages (from sentence-transformers==2.1.0) (1.20.0)\n",
      "Requirement already satisfied: nltk in /home/min20120907/.local/lib/python3.8/site-packages (from sentence-transformers==2.1.0) (3.2.5)\n",
      "Requirement already satisfied: huggingface-hub in /home/min20120907/.local/lib/python3.8/site-packages (from sentence-transformers==2.1.0) (0.4.0)\n",
      "Requirement already satisfied: tqdm in /home/min20120907/.local/lib/python3.8/site-packages (from sentence-transformers==2.1.0) (4.62.3)\n",
      "Requirement already satisfied: torchvision in /home/min20120907/.local/lib/python3.8/site-packages (from sentence-transformers==2.1.0) (0.11.2)\n",
      "Requirement already satisfied: scipy in /home/min20120907/.local/lib/python3.8/site-packages (from sentence-transformers==2.1.0) (1.6.2)\n",
      "Requirement already satisfied: torch>=1.6.0 in /home/min20120907/.local/lib/python3.8/site-packages (from sentence-transformers==2.1.0) (1.7.0)\n",
      "Requirement already satisfied: sentencepiece in /home/min20120907/.local/lib/python3.8/site-packages (from sentence-transformers==2.1.0) (0.1.95)\n",
      "Requirement already satisfied: scikit-learn in /home/min20120907/.local/lib/python3.8/site-packages (from sentence-transformers==2.1.0) (1.0)\n",
      "Requirement already satisfied: packaging>=20.0 in /home/min20120907/.local/lib/python3.8/site-packages (from transformers<5.0.0,>=4.6.0->sentence-transformers==2.1.0) (21.3)\n",
      "Requirement already satisfied: requests in /usr/lib/python3/dist-packages (from transformers<5.0.0,>=4.6.0->sentence-transformers==2.1.0) (2.22.0)\n",
      "Requirement already satisfied: regex!=2019.12.17 in /home/min20120907/.local/lib/python3.8/site-packages (from transformers<5.0.0,>=4.6.0->sentence-transformers==2.1.0) (2021.4.4)\n",
      "Requirement already satisfied: pyyaml>=5.1 in /usr/lib/python3/dist-packages (from transformers<5.0.0,>=4.6.0->sentence-transformers==2.1.0) (5.3.1)\n",
      "Requirement already satisfied: filelock in /home/min20120907/.local/lib/python3.8/site-packages (from transformers<5.0.0,>=4.6.0->sentence-transformers==2.1.0) (3.0.12)\n",
      "Requirement already satisfied: sacremoses in /home/min20120907/.local/lib/python3.8/site-packages (from transformers<5.0.0,>=4.6.0->sentence-transformers==2.1.0) (0.0.45)\n",
      "Requirement already satisfied: six in /usr/lib/python3/dist-packages (from nltk->sentence-transformers==2.1.0) (1.14.0)\n",
      "Requirement already satisfied: typing-extensions>=3.7.4.3 in /home/min20120907/.local/lib/python3.8/site-packages (from huggingface-hub->sentence-transformers==2.1.0) (4.0.1)\n",
      "Requirement already satisfied: pillow!=8.3.0,>=5.3.0 in /usr/lib/python3/dist-packages (from torchvision->sentence-transformers==2.1.0) (7.0.0)\n",
      "Requirement already satisfied: future in /usr/lib/python3/dist-packages (from torch>=1.6.0->sentence-transformers==2.1.0) (0.18.2)\n",
      "Requirement already satisfied: dataclasses in /home/min20120907/.local/lib/python3.8/site-packages (from torch>=1.6.0->sentence-transformers==2.1.0) (0.6)\n",
      "Requirement already satisfied: threadpoolctl>=2.0.0 in /home/min20120907/.local/lib/python3.8/site-packages (from scikit-learn->sentence-transformers==2.1.0) (2.1.0)\n",
      "Requirement already satisfied: joblib>=0.11 in /home/min20120907/.local/lib/python3.8/site-packages (from scikit-learn->sentence-transformers==2.1.0) (1.0.1)\n",
      "Requirement already satisfied: pyparsing!=3.0.5,>=2.0.2 in /usr/lib/python3/dist-packages (from packaging>=20.0->transformers<5.0.0,>=4.6.0->sentence-transformers==2.1.0) (2.4.6)\n",
      "Requirement already satisfied: click in /usr/lib/python3/dist-packages (from sacremoses->transformers<5.0.0,>=4.6.0->sentence-transformers==2.1.0) (7.0)\n",
      "Requirement already satisfied: numpy==1.20.0 in /home/min20120907/.local/lib/python3.8/site-packages (1.20.0)\n",
      "Requirement already satisfied: pandas==1.2.2 in /home/min20120907/.local/lib/python3.8/site-packages (1.2.2)\n",
      "Requirement already satisfied: pytz>=2017.3 in /home/min20120907/.local/lib/python3.8/site-packages (from pandas==1.2.2) (2021.3)\n",
      "Requirement already satisfied: python-dateutil>=2.7.3 in /usr/lib/python3/dist-packages (from pandas==1.2.2) (2.7.3)\n",
      "Requirement already satisfied: numpy>=1.16.5 in /home/min20120907/.local/lib/python3.8/site-packages (from pandas==1.2.2) (1.20.0)\n",
      "Requirement already satisfied: scikit-learn==1.0 in /home/min20120907/.local/lib/python3.8/site-packages (1.0)\n",
      "Requirement already satisfied: threadpoolctl>=2.0.0 in /home/min20120907/.local/lib/python3.8/site-packages (from scikit-learn==1.0) (2.1.0)\n",
      "Requirement already satisfied: numpy>=1.14.6 in /home/min20120907/.local/lib/python3.8/site-packages (from scikit-learn==1.0) (1.20.0)\n",
      "Requirement already satisfied: scipy>=1.1.0 in /home/min20120907/.local/lib/python3.8/site-packages (from scikit-learn==1.0) (1.6.2)\n",
      "Requirement already satisfied: joblib>=0.11 in /home/min20120907/.local/lib/python3.8/site-packages (from scikit-learn==1.0) (1.0.1)\n"
     ]
    }
   ],
   "source": [
    "!pip install sentence-transformers==2.1.0\n",
    "!pip install numpy==1.20.0 # other numpy versions most likely also ok\n",
    "!pip install pandas==1.2.2\n",
    "!pip install scikit-learn==1.0"
   ]
  },
  {
   "cell_type": "markdown",
   "id": "40698597",
   "metadata": {},
   "source": [
    "### Multilingual word embeddings\n",
    "\n",
    "We will start by exploring multilingual word embedding spaces. We will start from monolingually-trained (that is, mutually unaligned) word vectors of several languages: English, German, Italian, and Croatian. \n",
    "\n",
    "Each monolingual embedding space is serialized in two files: a *pickled Python dictionary* (.vocab) that maps words to indices in the embedding matrix, and an embedding matrix (*a serialized 2D numpy array*, .vectors) that contains the actual embeddings. All embedding files should be in the **data** subdirectory, which should be in the same directory as this notebook. "
   ]
  },
  {
   "cell_type": "code",
   "execution_count": 4,
   "id": "90dadf82",
   "metadata": {
    "ExecuteTime": {
     "end_time": "2022-01-21T18:54:52.088135Z",
     "start_time": "2022-01-21T18:54:51.943742Z"
    }
   },
   "outputs": [
    {
     "name": "stdout",
     "output_type": "stream",
     "text": [
      "199984\n",
      "(199984, 300)\n"
     ]
    }
   ],
   "source": [
    "# we will load pre-trained serialized monolingual vectors\n",
    "import pickle\n",
    "import numpy, io, json\n",
    "def load_vectors(fname):\n",
    "    fin = io.open(fname, 'r', encoding='utf-8', newline='\\n', errors='ignore')\n",
    "    n, d = map(int, fin.readline().split())\n",
    "    data = {}\n",
    "    for line in fin:\n",
    "        tokens = line.rstrip().split(' ')\n",
    "        data[tokens[0]] = map(float, tokens[1:])\n",
    "    return data\n",
    "# Load (that is, \"unpickle\") the vocabularies for all languages \n",
    "vocab_en = pickle.load(open(\"data/ft.wiki.en.300.vocab\",\"rb\"))#TODO: load the English vocabulary \n",
    "vectors_en = numpy.load(open(\"data/ft.wiki.en.300.vectors\",\"rb\"))#TODO: load the English embedding vectors (2D numpy array) \n",
    "\n",
    "# let's see how many words we have in the vocabulary\n",
    "print(len(vocab_en))\n",
    "\n",
    "# let's see the dimensions of the embedding matrix\n",
    "print(vectors_en.shape)"
   ]
  },
  {
   "cell_type": "code",
   "execution_count": 5,
   "id": "99ff932e",
   "metadata": {
    "ExecuteTime": {
     "end_time": "2022-01-21T18:54:52.384579Z",
     "start_time": "2022-01-21T18:54:52.377783Z"
    },
    "scrolled": true
   },
   "outputs": [
    {
     "name": "stdout",
     "output_type": "stream",
     "text": [
      "Index of dog: 2344\n",
      "Vector of dog: \n",
      "[ 1.9083e-01  6.5282e-02 -2.6465e-01  1.1757e-01 -2.8956e-01  9.8984e-02\n",
      " -3.2181e-01 -2.7679e-01  7.2732e-02  2.1486e-01 -6.5308e-02  1.7848e-01\n",
      "  1.2327e-01 -3.1839e-01  2.1547e-01 -1.8138e-01 -1.3029e-02 -7.6652e-02\n",
      "  4.3791e-03 -5.3426e-03  2.8255e-01 -4.0270e-02 -3.2650e-01 -1.8132e-01\n",
      "  2.3960e-01 -1.5806e-03 -1.1625e-01  1.7114e-01  2.9568e-01  2.1059e-01\n",
      "  3.7243e-01  7.5459e-02 -7.6080e-02 -1.7011e-01  2.2723e-01 -3.4284e-02\n",
      " -1.2251e-01 -2.4276e-01 -3.3694e-03  3.5631e-01 -1.4193e-02 -1.7566e-01\n",
      "  2.5879e-02  2.3394e-01  1.4237e-01  3.1281e-01  1.2284e-01 -2.6890e-01\n",
      "  1.5700e-01  1.1626e-01  8.6337e-02  1.9307e-01 -2.5144e-01  9.4174e-02\n",
      " -5.6797e-03  4.1143e-01  4.1341e-01 -3.2283e-01  1.0963e-01  3.5649e-01\n",
      "  2.8923e-02 -3.6037e-01  1.6095e-01  9.2830e-02 -2.0297e-02 -2.6669e-01\n",
      "  2.5275e-01  1.9916e-01 -2.8537e-02  1.1633e-01  2.5918e-01 -2.8496e-01\n",
      "  1.1494e-01 -3.7263e-01 -2.2344e-01  1.5158e-01  2.0357e-01  3.7800e-01\n",
      " -2.8566e-01 -9.9053e-02  3.8159e-02 -3.1521e-01  9.6536e-02 -2.5665e-01\n",
      "  6.1173e-02  1.5873e-01 -3.9491e-01  3.3006e-01  4.7139e-01  2.3006e-01\n",
      "  4.7565e-05 -6.5095e-02  1.2047e-01 -1.9384e-01  2.7395e-01 -5.7680e-05\n",
      " -2.5384e-01 -1.6553e-01 -4.7913e-01  6.2247e-02  1.2553e-01 -2.9764e-01\n",
      " -9.1895e-02  5.0407e-02 -1.4738e-01 -6.1843e-02 -1.4092e-02  2.3917e-01\n",
      "  2.0768e-01  1.7241e-01 -2.7756e-02 -1.1868e-01 -2.0675e-01 -1.5717e-01\n",
      " -2.2924e-02 -1.6982e-02  2.1530e-01 -4.9361e-01  1.9408e-02  1.1691e-02\n",
      "  8.2529e-02 -1.3947e-01  2.6889e-01  3.8933e-01  1.1702e-01  2.8647e-01\n",
      "  2.7144e-01  3.1660e-01  3.0898e-01  2.3877e-01 -1.9923e-01  2.2674e-01\n",
      " -1.1387e-01  2.9445e-01  4.0965e-02 -2.0100e-02  8.3845e-02  4.9759e-02\n",
      " -3.7744e-01  2.8037e-01  9.9089e-02  2.8553e-01  2.4158e-01  4.4449e-01\n",
      " -3.4167e-01  2.1107e-01  2.7957e-02 -2.6059e-01  3.0444e-01  3.8547e-01\n",
      " -1.1501e-02  1.5258e-01 -3.3638e-01  5.4402e-02 -1.8534e-01  1.7321e-01\n",
      " -9.1289e-02 -9.2462e-02  2.4857e-01 -1.7104e-01 -7.1494e-02  3.4757e-01\n",
      " -4.4734e-01 -1.3155e-01 -2.9966e-04 -1.0785e-03  9.4522e-03  4.3495e-02\n",
      "  2.5981e-01  1.5368e-01 -2.2894e-01 -3.8846e-01 -1.9119e-01  1.2154e-01\n",
      "  1.1874e-01  3.1175e-01 -2.3321e-01 -2.0500e-01  1.3640e-01 -1.5422e-01\n",
      " -3.1583e-01 -4.5400e-01  4.0108e-01 -2.0065e-01  1.2388e-02 -1.8864e-01\n",
      " -1.1024e-01 -2.6553e-01  1.0344e-01  5.4484e-01  1.4496e-02 -3.1781e-01\n",
      " -2.0949e-01  2.6126e-01 -4.3257e-01 -1.9532e-01 -1.7705e-01 -1.4516e-01\n",
      " -4.4121e-01 -2.1661e-01 -1.0137e-01  2.2169e-01  9.5503e-02  1.6577e-01\n",
      " -1.7706e-01 -2.5324e-01 -1.5005e-01 -3.3146e-01 -2.8290e-01 -2.8176e-01\n",
      "  3.8221e-01 -2.0048e-01  1.4992e-01  1.1568e-02  2.0405e-01 -5.4298e-02\n",
      " -1.0175e-01 -1.4784e-01 -2.0378e-01 -3.1528e-02 -2.5997e-01 -1.5582e-01\n",
      " -3.3472e-01  4.5353e-01 -3.9242e-01 -1.2339e-01 -2.0721e-01  2.9162e-01\n",
      " -1.1094e-01  4.2159e-01  6.8438e-02 -9.7242e-02  1.4375e-01 -2.0389e-01\n",
      "  1.8583e-02  4.4613e-01 -2.5042e-01  4.6029e-02 -4.6916e-02 -8.6965e-02\n",
      " -1.8162e-01  2.6523e-01  1.9693e-01  1.7798e-01 -2.6220e-01  1.4805e-02\n",
      " -1.3308e-02 -9.2347e-02 -2.0535e-02  9.5261e-02  5.3205e-02 -2.6888e-01\n",
      " -3.2491e-01  1.3117e-01  2.7215e-01 -7.4799e-02  4.3493e-02 -5.4941e-01\n",
      "  2.4630e-01  7.9618e-03  4.4391e-01  2.3019e-01  1.9137e-01 -2.8542e-01\n",
      " -2.9572e-01 -8.0531e-02 -1.0830e-02 -3.0165e-02  9.9977e-03 -1.8972e-01\n",
      " -2.3506e-01  2.1370e-01 -2.2882e-02 -6.1634e-02  3.9061e-02 -2.3975e-01\n",
      "  2.0139e-01 -8.0132e-02  5.5597e-02  5.9890e-02  3.4245e-01 -3.2367e-02\n",
      "  2.5544e-01  4.4595e-01  1.1330e-01 -2.0008e-01  2.3563e-01  1.3326e-01\n",
      " -4.3943e-01 -2.9521e-01 -2.9299e-02 -3.5537e-01  4.6142e-01 -1.0947e-01\n",
      " -2.8796e-01  2.2494e-01  7.0217e-03  2.5265e-01  3.0453e-01  2.0472e-01]\n"
     ]
    }
   ],
   "source": [
    "# let's see what the vector of some word looks like\n",
    "word = \"dog\"\n",
    "print(\"Index of \" + word + \": \" + str(vocab_en[word]))\n",
    "\n",
    "vector = vectors_en[vocab_en[word.lower()]]#TODO: print the embedding vector of the above specified word \n",
    "#(currently \"dog\", but feel free to change to any other word)\n",
    "\n",
    "print(\"Vector of \" + word + \": \")\n",
    "print(vector)\n"
   ]
  },
  {
   "cell_type": "code",
   "execution_count": 6,
   "id": "4ac6cd3f",
   "metadata": {
    "ExecuteTime": {
     "end_time": "2022-01-21T18:54:53.452235Z",
     "start_time": "2022-01-21T18:54:52.691570Z"
    }
   },
   "outputs": [
    {
     "name": "stdout",
     "output_type": "stream",
     "text": [
      "DE 199968 (199968, 300)\n",
      "IT 199994 (199994, 300)\n",
      "HR 199931 (199931, 300)\n"
     ]
    }
   ],
   "source": [
    "# let us now load vectors and vocabularies of a few other languages\n",
    "\n",
    "# German\n",
    "vocab_de = pickle.load(open(\"data/ft.wiki.de.300.vocab\",\"rb\"))#TODO: load the German vocabulary \n",
    "vectors_de = numpy.load(open(\"data/ft.wiki.de.300.vectors\",\"rb\"))#TODO: load the German embeddings (2D numpy array) \n",
    "\n",
    "# Italian\n",
    "vocab_it = pickle.load(open(\"data/ft.wiki.it.300.vocab\",\"rb\"))#TODO: load the Italian vocabulary \n",
    "vectors_it = numpy.load(open(\"data/ft.wiki.it.300.vectors\",\"rb\"))#TODO: load the Italian embeddings (2D numpy array) \n",
    "\n",
    "# Croatian\n",
    "vocab_hr = pickle.load(open(\"data/ft.wiki.hr.300.vocab\",\"rb\"))#TODO: load the Croatian vocabulary  \n",
    "vectors_hr = numpy.load(open(\"data/ft.wiki.hr.300.vectors\",\"rb\"))#TODO: load the Croatian embeddings (2D numpy array) \n",
    "\n",
    "# let's see how many entries we have in vocabularies of languages\n",
    "print(\"DE\", len(vocab_de), vectors_de.shape)\n",
    "print(\"IT\", len(vocab_it), vectors_it.shape)\n",
    "print(\"HR\", len(vocab_hr), vectors_hr.shape)\n",
    "\n",
    "# TODO: What is the dimensionality of the embeddings (same for all languages :)?\n",
    "# ANS: 300"
   ]
  },
  {
   "cell_type": "markdown",
   "id": "5dc21d7a",
   "metadata": {},
   "source": [
    "Are the vectors from individual monolingual embedding spaces **comparable**? **No, they are not**. Let's verify that. Let's compare vector similarities within language and across languages"
   ]
  },
  {
   "cell_type": "code",
   "execution_count": 7,
   "id": "e59f35e2",
   "metadata": {
    "ExecuteTime": {
     "end_time": "2022-01-21T18:54:54.059844Z",
     "start_time": "2022-01-21T18:54:54.056261Z"
    }
   },
   "outputs": [],
   "source": [
    "# cosine similarity is a common measure of similarity in vector space in NLP\n",
    "# we just define a function that compute the cosine of the angle between the two vectors\n",
    "# cosine similarity is a dot-product between the vectors normalized by the Euclidean (L2) norm of each vector\n",
    "def cosine_sim(vec1, vec2):\n",
    "    norm1 = numpy.linalg.norm(vec1)\n",
    "    norm2 = numpy.linalg.norm(vec2)\n",
    "    return numpy.dot(vec1, vec2) / (norm1 * norm2)"
   ]
  },
  {
   "cell_type": "code",
   "execution_count": 8,
   "id": "a328173f",
   "metadata": {
    "ExecuteTime": {
     "end_time": "2022-01-21T18:54:54.845229Z",
     "start_time": "2022-01-21T18:54:54.840676Z"
    }
   },
   "outputs": [
    {
     "name": "stdout",
     "output_type": "stream",
     "text": [
      "Similarity between hund andkatze: 0.7434614\n"
     ]
    }
   ],
   "source": [
    "# let's see some monolingual similarities\n",
    "\n",
    "language = \"de\" # play with different languages, \"en\", \"it\", \"hr\"\n",
    "\n",
    "# just a shortcut, so we don't have to change the variables with vectors/vocabularies, we merely change the \"language\" variable\n",
    "vectors = vectors_en if language == \"en\" else vectors_de if language == \"de\" else vectors_it if language == \"it\" else vectors_hr\n",
    "vocab = vocab_en if language == \"en\" else vocab_de if language == \"de\" else vocab_it if language == \"it\" else vocab_hr\n",
    "\n",
    "word1 = \"hund\" # play with different words\n",
    "word2 = \"katze\" # play with different words\n",
    "\n",
    "vector1 = vectors[vocab[word1.lower()]]#TODO: get the vector of the first word (word1) \n",
    "vector2 = vectors[vocab[word2.lower()]]#TODO: get the vector of the second word (word2)  \n",
    "\n",
    "sim = cosine_sim(vector1, vector2)#TODO: compute the cosine similarity between the embedding vectors of the two words \n",
    "print(\"Similarity between \" + word1 + \" and\" + word2 + \": \" + str(sim))\n"
   ]
  },
  {
   "cell_type": "code",
   "execution_count": 9,
   "id": "abf269d0",
   "metadata": {
    "ExecuteTime": {
     "end_time": "2022-01-21T18:54:55.405540Z",
     "start_time": "2022-01-21T18:54:55.401676Z"
    }
   },
   "outputs": [],
   "source": [
    "# let's put all embeddings and vocabularies into one dictionary\n",
    "# just for easy access\n",
    "emb_dict = {\"en\" : (vocab_en, vectors_en), \n",
    "            \"de\" : (vocab_de, vectors_de), \n",
    "            \"it\" : (vocab_it, vectors_it), \n",
    "            \"hr\" : (vocab_hr, vectors_hr)}\n",
    "\n",
    "# lets create a more general function for comparing similarities between words from any two langs\n",
    "def word_similarity(lang1, word1, lang2, word2):\n",
    "    vocab_1 = emb_dict[lang1][0]#TODO: get the vocabulary of the lang1\n",
    "    vectors_1 = emb_dict[lang1][1]#TODO: get the embeddings of the lang1 \n",
    "    \n",
    "    vocab_2 = emb_dict[lang2][0]#TODO: get the vocabulary of the lang2\n",
    "    vectors_2 = emb_dict[lang2][1]#TODO: get the embeddings of the lang2\n",
    "    \n",
    "    vector_word_1 = vectors_1[vocab_1[word1.lower()]]\n",
    "    vector_word_2 = vectors_2[vocab_2[word2.lower()]]\n",
    "    \n",
    "    return cosine_sim(vector_word_1, vector_word_2)#TODO: return cosine similarity of vector_word_1 and vector_word_2\n",
    "    \n"
   ]
  },
  {
   "cell_type": "code",
   "execution_count": 10,
   "id": "39a2a4be",
   "metadata": {
    "ExecuteTime": {
     "end_time": "2022-01-21T18:54:56.235640Z",
     "start_time": "2022-01-21T18:54:56.232128Z"
    }
   },
   "outputs": [
    {
     "name": "stdout",
     "output_type": "stream",
     "text": [
      "0.039084166\n"
     ]
    }
   ],
   "source": [
    "sim = word_similarity(\"de\", \"katze\", \"en\", \"cat\") #TODO: compute the similarity between the German word \"katze\" and English word \"cat\"\n",
    "print(sim)"
   ]
  },
  {
   "cell_type": "markdown",
   "id": "de29bb4a",
   "metadata": {},
   "source": [
    "So the independently built monolingual word embedding spaces of different languages are **not semantically aligned**. We need to **align them**. \n",
    "\n",
    "- We will do this by computing a **projection matrix** that rotates and translates one embedding space with respect to the other! \n",
    "\n",
    "- How do we know what we need to align? We provide some number of word translation pairs! "
   ]
  },
  {
   "cell_type": "code",
   "execution_count": 11,
   "id": "0d23dd6a",
   "metadata": {
    "ExecuteTime": {
     "end_time": "2022-01-21T18:54:57.799013Z",
     "start_time": "2022-01-21T18:54:57.784244Z"
    }
   },
   "outputs": [],
   "source": [
    "import codecs\n",
    "\n",
    "prefix_trans = \"/work/gglavas/data/word_embs/yacle/translations/freq_split/pairwise/\"\n",
    "\n",
    "word_pairs_de_en =  [(l.strip().split(\"\\t\")[0], l.strip().split(\"\\t\")[1]) for l in codecs.open(\"data/translations.5k.de-en.tsv\", \"r\", encoding = 'utf8', errors = 'replace').readlines()]\n",
    "word_pairs_it_en =  [(l.strip().split(\"\\t\")[1], l.strip().split(\"\\t\")[0]) for l in codecs.open(\"data/translations.5k.en-it.tsv\", \"r\", encoding = 'utf8', errors = 'replace').readlines()]\n",
    "word_pairs_hr_en =  [(l.strip().split(\"\\t\")[1], l.strip().split(\"\\t\")[0]) for l in codecs.open(\"data/translations.5k.en-hr.tsv\", \"r\", encoding = 'utf8', errors = 'replace').readlines()]\n"
   ]
  },
  {
   "cell_type": "code",
   "execution_count": 12,
   "id": "f94cea02",
   "metadata": {
    "ExecuteTime": {
     "end_time": "2022-01-21T18:54:58.197835Z",
     "start_time": "2022-01-21T18:54:58.192393Z"
    }
   },
   "outputs": [
    {
     "name": "stdout",
     "output_type": "stream",
     "text": [
      "[('von', 'of'), ('zu', 'to'), ('im', 'in'), ('zum', 'for'), ('ist', 'is'), ('auf', 'on'), ('Das', 'that'), ('durch', 'by'), ('Dies', 'this'), ('mit', 'with'), ('ich', 'i'), ('Sie', 'you'), ('es', 'it'), ('oder', 'or'), ('Sein', 'be'), ('sind', 'are'), ('beim', 'at'), ('alle', 'all'), ('haben', 'have'), ('Neu', 'new'), ('wir', 'we'), ('werden', 'will'), ('Zuhause', 'home'), ('uns', 'us'), ('Über', 'about'), ('ob', 'if'), ('Seite', 'page'), ('meine', 'my'), ('hat', 'has'), ('Suche', 'search'), ('frei', 'free'), ('aber', 'but'), ('unser', 'our'), ('ein', 'one'), ('andere', 'other'), ('machen', 'do'), ('Information', 'information'), ('Zeit', 'time'), ('er', 'he'), ('welche', 'which'), ('ihr', 'their'), ('Nachrichten', 'news'), ('benutzen', 'use'), ('Dort', 'there'), ('sehen', 'see'), ('damit', 'so'), ('Wer', 'who'), ('Netz', 'web'), ('ebenfalls', 'also'), ('bekommen', 'get'), ('pm', 'pm'), ('Aussicht', 'view'), ('c', 'c'), ('e', 'e'), ('zuerst', 'first'), ('gewesen', 'been'), ('würde', 'would'), ('wurden', 'were'), ('s', 's'), ('mögen', 'like'), ('x', 'x'), ('als', 'than'), ('finden', 'find'), ('Preis', 'price'), ('zurück', 'back'), ('oben', 'top'), ('Menschen', 'people'), ('hätten', 'had'), ('Liste', 'list'), ('Name', 'name'), ('gerade', 'just'), ('Jahr', 'year'), ('Tag', 'day'), ('in', 'into'), ('zwei', 'two'), ('Gesundheit', 'health'), ('n', 'n'), ('Re', 're'), ('benutzt', 'used'), ('gehen', 'go'), ('b', 'b'), ('letzte', 'last'), ('machen', 'make'), ('Sie', 'them'), ('sollte', 'should'), ('Produkt', 'product'), ('System', 'system'), ('Post', 'post'), ('ihr', 'her'), ('Stadt', 'city'), ('t', 't'), ('Politik', 'policy'), ('Nummer', 'number'), ('Unterstützung', 'support'), ('Botschaft', 'message'), ('nach', 'after'), ('dann', 'then'), ('Januar', 'jan'), ('gut', 'good'), ('d', 'd'), ('woher', 'where'), ('Info', 'info'), ('Rechte', 'rights'), ('Bücher', 'books'), ('hoch', 'high'), ('Schule', 'school'), ('m', 'm'), ('jeder', 'each'), ('Links', 'links'), ('sie', 'she'), ('Jahre', 'years'), ('Auftrag', 'order'), ('sehr', 'very'), ('Buch', 'book'), ('Artikel', 'items'), ('Unternehmen', 'company'), ('r', 'r'), ('lesen', 'read'), ('Gruppe', 'group'), ('Sex', 'sex'), ('viele', 'many'), ('Benutzer', 'user'), ('de', 'de'), ('einstellen', 'set'), ('Allgemeines', 'general'), ('Forschung', 'research'), ('Universität', 'university'), ('Januar', 'january'), ('Post', 'mail'), ('voll', 'full'), ('Bewertungen', 'reviews'), ('Programm', 'program'), ('kennt', 'know'), ('Spiele', 'games'), ('Weg', 'way'), ('Tage', 'days'), ('p', 'p'), ('Teil', 'part'), ('könnte', 'could'), ('groß', 'great'), ('vereinigt', 'united'), ('echt', 'real'), ('f', 'f'), ('International', 'international'), ('Center', 'center'), ('Reise', 'travel'), ('Bemerkungen', 'comments'), ('gemacht', 'made'), ('Entwicklung', 'development'), ('Bericht', 'report'), ('Mitglied', 'member'), ('Einzelheiten', 'details'), ('Linie', 'line'), ('Bedingungen', 'terms'), ('Vor', 'before'), ('Hotels', 'hotels'), ('tat', 'did'), ('senden', 'send'), ('Recht', 'right'), ('Art', 'type'), ('lokal', 'local'), ('jene', 'those'), ('Ergebnisse', 'results'), ('Büro', 'office'), ('National', 'national'), ('Auto', 'car'), ('Design', 'design'), ('nehmen', 'take'), ('Gesendet', 'posted'), ('Adresse', 'address'), ('Gemeinschaft', 'community'), ('innerhalb', 'within'), ('Zustände', 'states'), ('wollen', 'want'), ('Telefon', 'phone'), ('DVD', 'dvd'), ('Gegenstand', 'subject'), ('zwischen', 'between'), ('Forum', 'forum'), ('Familie', 'family'), ('l', 'l'), ('lange', 'long'), ('w', 'w'), ('Show', 'show'), ('O', 'o'), ('sogar', 'even'), ('schwarz', 'black'), ('Besondere', 'special'), ('Index', 'index'), ('Sein', 'being'), ('Frau', 'women'), ('viel', 'much'), ('Schild', 'sign'), ('Datei', 'file'), ('Verknüpfung', 'link'), ('öffnen', 'open'), ('Süd', 'south'), ('Fall', 'case'), ('Projekt', 'project'), ('Seiten', 'pages'), ('Ausführung', 'version'), ('Sektion', 'section'), ('besitzen', 'own'), ('Haus', 'house'), ('Sicherheit', 'security'), ('G', 'g'), ('Bezirk', 'county'), ('amerikanisch', 'american'), ('Foto', 'photo'), ('Spiel', 'game'), ('Mitglieder', 'members'), ('Leistung', 'power'), ('Netzwerk', 'network'), ('Computer', 'computer'), ('Systeme', 'systems'), ('drei', 'three'), ('Ort', 'place'), ('Ende', 'end'), ('h', 'h'), ('ihm', 'him'), ('pro', 'per'), ('Zugriff', 'access'), ('denken', 'think'), ('Norden', 'north'), ('Ressourcen', 'resources'), ('Strom', 'current'), ('groß', 'big'), ('Medien', 'media'), ('Recht', 'law'), ('Steuerung', 'control'), ('Wasser', 'water'), ('Geschichte', 'history'), ('Größe', 'size'), ('persönlich', 'personal'), ('führen', 'guide'), ('Geschäft', 'shop'), ('Verzeichnis', 'directory'), ('Veränderung', 'change'), ('Weiß', 'white'), ('Text', 'text'), ('klein', 'small'), ('Wertung', 'rating'), ('Bewertung', 'rate'), ('Regierung', 'government'), ('Kinder', 'children'), ('Rückkehr', 'return'), ('Studenten', 'students'), ('v', 'v'), ('Konto', 'account'), ('mal', 'times'), ('Niveau', 'level'), ('Digital', 'digital'), ('Profil', 'profile'), ('Bisherige', 'previous'), ('bilden', 'form'), ('Veranstaltungen', 'events'), ('Liebe', 'love'), ('alt', 'old'), ('John', 'john'), ('Main', 'main'), ('Anruf', 'call'), ('Bild', 'image'), ('Abteilung', 'department'), ('Titel', 'title'), ('nicht', 'non'), ('k', 'k'), ('y', 'y'), ('Versicherung', 'insurance'), ('soll', 'shall'), ('Eigentum', 'property'), ('Klasse', 'class'), ('CD', 'cd'), ('Qualität', 'quality'), ('jeden', 'every'), ('Auflistung', 'listing'), ('Inhalt', 'content'), ('Land', 'country'), ('wenig', 'little'), ('Werkzeuge', 'tools'), ('niedrig', 'low'), ('Antworten', 'reply'), ('Kunde', 'customer'), ('Dezember', 'december'), ('vergleichen', 'compare'), ('Filme', 'movies'), ('Hochschule', 'college'), ('Wert', 'value'), ('Artikel', 'article'), ('Mann', 'man'), ('Arbeitsplätze', 'jobs'), ('j', 'j'), ('Lebensmittel', 'food'), ('Autor', 'author'), ('anders', 'different'), ('u', 'u'), ('lernen', 'learn'), ('Verkauf', 'sale'), ('drucken', 'print'), ('Kurs', 'course'), ('Job', 'job'), ('Zimmer', 'room'), ('Stock', 'stock'), ('Ausbildung', 'training'), ('auch', 'too'), ('Kredit', 'credit'), ('Punkt', 'point'), ('Wissenschaft', 'science'), ('Männer', 'men'), ('Kategorien', 'categories'), ('Westen', 'west'), ('aussehen', 'look'), ('Englisch', 'english'), ('Mannschaft', 'team'), ('Gut', 'estate'), ('Box', 'box'), ('Bedingungen', 'conditions'), ('Fotos', 'photos'), ('Fröhlich', 'gay'), ('Faden', 'thread'), ('Kategorie', 'category'), ('Hinweis', 'note'), ('Leben', 'live'), ('groß', 'large'), ('Galerie', 'gallery'), ('Tabelle', 'table'), ('jedoch', 'however'), ('Juni', 'june'), ('Oktober', 'october'), ('November', 'november'), ('Markt', 'market'), ('Bibliothek', 'library'), ('Aktion', 'action'), ('Anfang', 'start'), ('Serie', 'series'), ('Eigenschaften', 'features'), ('Luft', 'air'), ('Industrie', 'industry'), ('planen', 'plan'), ('Mensch', 'human'), ('Ja', 'yes'), ('zweite', 'second'), ('heiß', 'hot'), ('Kosten', 'cost'), ('Film', 'movie'), ('Foren', 'forums'), ('März', 'march'), ('la', 'la'), ('September', 'september'), ('sagen', 'say'), ('gehen', 'going'), ('medizinisch', 'medical'), ('Freund', 'friend'), ('Dezember', 'dec'), ('Server', 'server'), ('Anwendung', 'application'), ('Mitarbeiter', 'staff'), ('abspielen', 'play'), ('Probleme', 'issues'), ('April', 'april'), ('Benutzer', 'users'), ('Straße', 'street'), ('Thema', 'topic'), ('gegen', 'against'), ('bekam', 'got'), ('Blog', 'blog'), ('Party', 'party'), ('Zahlung', 'payment'), ('Ausrüstung', 'equipment'), ('Lassen', 'let'), ('Programme', 'programs'), ('legal', 'legal'), ('kürzlich', 'recent'), ('Park', 'park'), ('Handlung', 'act'), ('Problem', 'problem'), ('rot', 'red'), ('geben', 'give'), ('Erinnerung', 'memory'), ('Performance', 'performance'), ('Sozial', 'social'), ('q', 'q'), ('Geschichte', 'story'), ('verkaufen', 'sell'), ('Optionen', 'options'), ('Erfahrung', 'experience'), ('Schlüssel', 'key'), ('Karosserie', 'body'), ('jung', 'young'), ('wichtig', 'important'), ('Feld', 'field'), ('wenige', 'few'), ('Osten', 'east'), ('Single', 'single'), ('ii', 'ii'), ('Alter', 'age'), ('Verein', 'club'), ('Beispiel', 'example'), ('Mädchen', 'girls'), ('z', 'z'), ('Straße', 'road'), ('Geschenk', 'gift'), ('Frage', 'question'), ('ca', 'ca'), ('hart', 'hard'), ('Zahlen', 'pay'), ('vier', 'four'), ('Poker', 'poker'), ('Problem', 'issue'), ('Angebot', 'range'), ('Gebäude', 'building'), ('Verkäufer', 'seller'), ('Gericht', 'court'), ('Februar', 'february'), ('Ergebnis', 'result'), ('Licht', 'light'), ('schreiben', 'write'), ('Krieg', 'war'), ('Angebot', 'offer'), ('Blau', 'blue'), ('Gruppen', 'groups'), ('al', 'al'), ('einfach', 'easy'), ('gegeben', 'given'), ('anfordern', 'request'), ('Fax', 'fax'), ('China', 'china'), ('Herstellung', 'making'), ('Bild', 'picture'), ('Bedürfnisse', 'needs'), ('möglich', 'possible'), ('Monat', 'month'), ('Haupt', 'major'), ('Star', 'star'), ('Zukunft', 'future'), ('Raum', 'space'), ('Ausschuss', 'committee'), ('Hand', 'hand'), ('Sonne', 'sun'), ('Karten', 'cards'), ('London', 'london'), ('Treffen', 'meeting'), ('werden', 'become'), ('Kind', 'child'), ('behalten', 'keep'), ('Porno', 'porn'), ('Aktie', 'share'), ('ähnlich', 'similar'), ('Garten', 'garden'), ('Schulen', 'schools'), ('Million', 'million'), ('hinzugefügt', 'added'), ('Referenz', 'reference'), ('Firmen', 'companies'), ('Baby', 'baby'), ('Lernen', 'learning'), ('Energie', 'energy'), ('Lauf', 'run'), ('Lieferung', 'delivery'), ('Beliebt', 'popular'), ('Begriff', 'term'), ('Film', 'film'), ('Geschichten', 'stories'), ('stellen', 'put'), ('Tagebuch', 'journal'), ('Berichte', 'reports'), ('co', 'co'), ('Versuchen', 'try'), ('Bilder', 'images'), ('beachten', 'notice'), ('Gott', 'god'), ('Original', 'original'), ('Kopf', 'head'), ('Radio', 'radio'), ('Zelle', 'cell'), ('Rat', 'council'), ('enthält', 'includes'), ('Spur', 'track'), ('Diskussion', 'discussion'), ('Archiv', 'archive'), ('Andere', 'others'), ('Zustimmung', 'agreement'), ('Format', 'format'), ('Gesellschaft', 'society'), ('Monate', 'months'), ('Sicherheit', 'safety'), ('Freunde', 'friends'), ('sicher', 'sure'), ('Auflage', 'edition'), ('Mitteilungen', 'messages'), ('Marketing', 'marketing'), ('sagen', 'tell'), ('Verband', 'association'), ('bietet', 'provides'), ('Spaß', 'fun'), ('bereits', 'already'), ('Grün', 'green'), ('Studien', 'studies'), ('schließen', 'close'), ('verbreitet', 'common'), ('Spezifisch', 'specific'), ('mehrere', 'several'), ('Leben', 'living'), ('Sammlung', 'collection'), ('namens', 'called'), ('kurz', 'short'), ('Kunst', 'arts'), ('Menge', 'lot'), ('Fragen', 'ask'), ('begrenzt', 'limited'), ('Lösungen', 'solutions'), ('Direktor', 'director'), ('Strand', 'beach'), ('Vergangenheit', 'past'), ('natürlich', 'natural'), ('Elektronik', 'electronics'), ('auf', 'upon'), ('Zeitraum', 'period'), ('Planung', 'planning'), ('sagt', 'says'), ('offiziell', 'official'), ('beschädigen', 'mar'), ('erledigt', 'done'), ('technisch', 'technical'), ('Fenster', 'window'), ('Profi', 'pro'), ('Region', 'region'), ('Insel', 'island'), ('Aufzeichnung', 'record'), ('Direkte', 'direct'), ('Konferenz', 'conference'), ('Aufzeichnungen', 'records'), ('st', 'st'), ('Kreis', 'district'), ('Kalender', 'calendar'), ('Kosten', 'costs'), ('Stil', 'style'), ('Erklärung', 'statement'), ('Meilen', 'miles'), ('Ressource', 'resource'), ('Anwendungen', 'applications'), ('Dokument', 'document'), ('Wort', 'word'), ('Werk', 'works'), ('Material', 'material'), ('Rechnung', 'bill'), ('geschrieben', 'written'), ('Regeln', 'rules'), ('Finale', 'final'), ('Ding', 'thing'), ('Center', 'centre'), ('Anforderungen', 'requirements'), ('WAHR', 'TRUE'), ('Protokoll', 'minutes'), ('sonst', 'else'), ('Kennzeichen', 'mark'), ('Rock', 'rock'), ('Schlecht', 'bad'), ('Individuell', 'individual'), ('Plus', 'plus'), ('Auto', 'auto'), ('Abdeckung', 'cover'), ('bearbeiten', 'edit'), ('zusammen', 'together'), ('Videos', 'videos'), ('schnell', 'fast'), ('Funktion', 'function'), ('Tatsache', 'fact'), ('bekommen', 'getting'), ('global', 'global'), ('Technik', 'tech'), ('Treffen', 'meet'), ('weit', 'far'), ('wirtschaftlich', 'economic'), ('en', 'en'), ('Spieler', 'player'), ('Projekte', 'projects'), ('Menge', 'amount'), ('Uhr', 'watch'), ('inbegriffen', 'included'), ('Gefühl', 'feel'), ('Bank', 'bank'), ('Risiko', 'risk'), ('Angebote', 'deals'), ('verschiedene', 'various'), ('Wörter', 'words'), ('Produktion', 'production'), ('kommerziell', 'commercial'), ('Gewicht', 'weight'), ('Herz', 'heart'), ('Behandlung', 'treatment'), ('Punkte', 'points'), ('Wissen', 'knowledge'), ('Zeitschrift', 'magazine'), ('Error', 'error'), ('Kamera', 'camera'), ('Mädchen', 'girl'), ('Konstruktion', 'construction'), ('Spielzeuge', 'toys'), ('Eingetragen', 'registered'), ('Domain', 'domain'), ('Methoden', 'methods'), ('Kapitel', 'chapter'), ('Schutz', 'protection'), ('Politik', 'policies'), ('breit', 'wide'), ('Schönheit', 'beauty'), ('Manager', 'manager'), ('Indien', 'india'), ('Position', 'position'), ('genommen', 'taken'), ('Sortieren', 'sort'), ('Inserate', 'listings'), ('bekannt', 'known'), ('Hälfte', 'half'), ('Fälle', 'cases'), ('Schritt', 'step'), ('Ingenieurwesen', 'engineering'), ('einfach', 'simple'), ('schnell', 'quick'), ('Lizenz', 'license'), ('See', 'lake'), ('ganze', 'whole'), ('jährlich', 'annual'), ('veröffentlicht', 'published'), ('Kirche', 'church'), ('Methode', 'method'), ('aktiv', 'active'), ('Antwort', 'response'), ('Zahl', 'figure'), ('Materialien', 'materials'), ('genug', 'enough'), ('entworfen', 'designed'), ('unter', 'among'), ('Tod', 'death'), ('Verlust', 'loss'), ('Gesicht', 'face'), ('Marke', 'brand'), ('Rabatt', 'discount'), ('Auswirkungen', 'effects'), ('erstellt', 'created'), ('Normen', 'standards'), ('Bit', 'bit'), ('politisch', 'political'), ('Königreich', 'kingdom'), ('Base', 'base'), ('tun', 'doing'), ('Darlehen', 'loans'), ('Schuhe', 'shoes'), ('Eintrag', 'entry'), ('bleibe', 'stay'), ('Aufträge', 'orders'), ('Verfügbarkeit', 'availability'), ('Zusammenfassung', 'summary'), ('Wende', 'turn'), ('Wachstum', 'growth'), ('Agentur', 'agency'), ('König', 'king'), ('europäisch', 'european'), ('Aktivität', 'activity'), ('Kopieren', 'copy'), ('Western', 'western'), ('Macht', 'force'), ('Beschäftigung', 'employment'), ('Bucht', 'bay'), ('Fluss', 'river'), ('Kommission', 'commission'), ('Paket', 'package'), ('gesehen', 'seen'), ('Spieler', 'players'), ('Motor', 'engine'), ('Hafen', 'port'), ('Album', 'album'), ('regional', 'regional'), ('halt', 'stop'), ('gestartet', 'started'), ('Verwaltung', 'administration'), ('Bar', 'bar'), ('Institut', 'institute'), ('Ansichten', 'views'), ('doppelt', 'double'), ('Hund', 'dog'), ('bald', 'soon'), ('Linien', 'lines'), ('elektronisch', 'electronic'), ('Leistungen', 'benefits'), ('erforderlich', 'needed'), ('Drucker', 'printer'), ('Bedingung', 'condition'), ('Wirksam', 'effective'), ('glauben', 'believe'), ('Organisation', 'organization'), ('bewirken', 'effect'), ('Verstand', 'mind'), ('Auswahl', 'selection'), ('Kasino', 'casino'), ('pdf', 'pdf'), ('Tour', 'tour'), ('Kreuz', 'cross'), ('Hoffnung', 'hope'), ('Konzern', 'corporation'), ('Wunsch', 'wish'), ('Lösung', 'solution'), ('reifen', 'mature'), ('Rolle', 'role'), ('Wochen', 'weeks'), ('sicher', 'certain'), ('niedriger', 'lower'), ('notwendig', 'necessary'), ('Union', 'union'), ('mon', 'mon'), ('com', 'com'), ('besonders', 'particular'), ('fein', 'fine'), ('Stunde', 'hour'), ('Gas', 'gas'), ('Kompetenzen', 'skills'), ('sechs', 'six'), ('Buchse', 'bush'), ('Inseln', 'islands'), ('Rat', 'advice'), ('Werdegang', 'career'), ('Entscheidung', 'decision'), ('verlassen', 'leave'), ('Vor', 'pre'), ('enorm', 'huge'), ('Frau', 'woman'), ('Anlagen', 'facilities'), ('bieten', 'bid'), ('Mitte', 'middle'), ('Kabel', 'cable'), ('Chancen', 'opportunities'), ('Einnahme', 'taking'), ('Werte', 'values'), ('Aufteilung', 'division'), ('Kommen', 'coming'), ('Objekt', 'object'), ('lesbisch', 'lesbian'), ('angemessen', 'appropriate'), ('Maschine', 'machine'), ('Logo', 'logo'), ('Länge', 'length'), ('nett', 'nice'), ('Ergebnis', 'score'), ('Statistiken', 'statistics'), ('Klient', 'client'), ('Probe', 'sample'), ('Investition', 'investment'), ('geschickt', 'sent'), ('gezeigt', 'shown'), ('Weihnachten', 'christmas'), ('Kultur', 'culture'), ('Blitz', 'flash'), ('Frau', 'ms'), ('Wahl', 'choice'), ('Kurse', 'courses'), ('Verbraucher', 'consumer'), ('Hallo', 'hi'), ('fremd', 'foreign'), ('Künstler', 'artist'), ('Möbel', 'furniture'), ('Kanal', 'channel'), ('Brief', 'letter'), ('Modus', 'mode'), ('Telefone', 'phones'), ('Ideen', 'ideas'), ('Struktur', 'structure'), ('Grad', 'degree'), ('Vertrag', 'contract'), ('Super', 'super'), ('männlich', 'male'), ('Angelegenheit', 'matter'), ('fast', 'almost'), ('gelegen', 'located'), ('mehrere', 'multiple'), ('Verteilung', 'distribution'), ('Editor', 'editor'), ('Gasthaus', 'inn'), ('industriell', 'industrial'), ('Potenzial', 'potential'), ('Lied', 'song'), ('los', 'los'), ('fallen', 'fall'), ('Idee', 'idea'), ('Räume', 'rooms'), ('Kommunikations', 'communications'), ('Sieg', 'win'), ('primär', 'primary'), ('Krebs', 'cancer'), ('Zahlen', 'numbers'), ('Grund', 'reason'), ('Werkzeug', 'tool'), ('Frühling', 'spring'), ('Stiftung', 'foundation'), ('Antworten', 'answer'), ('Stimme', 'voice'), ('Zeitplan', 'schedule'), ('Unterlagen', 'documents'), ('Zweck', 'purpose'), ('Feature', 'feature'), ('Bett', 'bed'), ('kommt', 'comes'), ('Polizei', 'police'), ('unabhängig', 'independent'), ('Ansatz', 'approach'), ('braun', 'brown'), ('physikalisch', 'physical'), ('Hügel', 'hill'), ('Karten', 'maps'), ('halt', 'hold'), ('Bewertungen', 'ratings'), ('glücklich', 'happy'), ('Schmied', 'smith'), ('entwickelt', 'developed'), ('danken', 'thank'), ('sicher', 'safe'), ('einzigartig', 'unique'), ('Umfrage', 'survey'), ('vor', 'prior'), ('Telefon', 'telephone'), ('Sport', 'sport'), ('bereit', 'ready'), ('Tier', 'animal'), ('Quellen', 'sources'), ('Population', 'population'), ('pa', 'pa'), ('regulär', 'regular'), ('sichern', 'secure'), ('Geschäftstätigkeit', 'operations'), ('einfach', 'simply'), ('Beweis', 'evidence'), ('Bahnhof', 'station'), ('verstehen', 'understand'), ('Möglichkeit', 'option'), ('Tal', 'valley'), ('wahrscheinlich', 'probably'), ('Meer', 'sea'), ('Publikationen', 'publications'), ('verbessern', 'improve'), ('Verbindung', 'connection'), ('Herausgeber', 'publisher'), ('Halle', 'hall'), ('Anti', 'anti'), ('Netzwerke', 'networks'), ('Erde', 'earth'), ('Eltern', 'parents'), ('Auswirkung', 'impact'), ('Transfer', 'transfer'), ('Einführung', 'introduction'), ('Küche', 'kitchen'), ('stark', 'strong'), ('Hochzeit', 'wedding'), ('Eigenschaften', 'properties'), ('Krankenhaus', 'hospital'), ('Boden', 'ground'), ('Schiff', 'ship'), ('Unterkunft', 'accommodation'), ('Krankheit', 'disease'), ('Ausgezeichnet', 'excellent'), ('perfekt', 'perfect'), ('Haar', 'hair'), ('Gelegenheit', 'opportunity'), ('Ausrüstung', 'kit'), ('klassisch', 'classic'), ('Basis', 'basis'), ('Befehl', 'command'), ('Städte', 'cities'), ('ausdrücken', 'express'), ('vergeben', 'award'), ('Entfernung', 'distance'), ('Baum', 'tree'), ('Bewertung', 'assessment'), ('Mauer', 'wall'), ('beteiligt', 'involved'), ('el', 'el'), ('extra', 'extra'), ('insbesondere', 'especially'), ('Budget', 'budget'), ('Führungen', 'guides'), ('Erfolg', 'success'), ('maximal', 'maximum'), ('ma', 'ma'), ('Betrieb', 'operation'), ('bestehende', 'existing'), ('ganz', 'quite'), ('ausgewählt', 'selected'), ('Junge', 'boy'), ('Restaurants', 'restaurants'), ('schön', 'beautiful'), ('Warnung', 'warning'), ('Standorte', 'locations'), ('Pferd', 'horse'), ('Abstimmung', 'vote'), ('Blumen', 'flowers'), ('Sterne', 'stars'), ('Listen', 'lists'), ('Inhaber', 'owner'), ('Tiere', 'animals'), ('Wege', 'ways'), ('Sohn', 'son'), ('Bereitstellen', 'providing'), ('Regel', 'rule'), ('Gehäuse', 'housing'), ('nimmt', 'takes'), ('bringen', 'bring'), ('Katalog', 'catalog'), ('max', 'max'), ('Mutter', 'mother'), ('Behörde', 'authority'), ('erzählte', 'told'), ('Programm', 'programme'), ('beigetreten', 'joined'), ('Eingang', 'input'), ('Strategie', 'strategy'), ('Füße', 'feet'), ('Agent', 'agent'), ('gültig', 'valid'), ('modern', 'modern'), ('Senior', 'senior'), ('sexy', 'sexy'), ('Lehren', 'teaching'), ('Tür', 'door'), ('großartig', 'grand'), ('Versuch', 'trial'), ('Einheiten', 'units'), ('cool', 'cool'), ('normal', 'normal'), ('Unternehmen', 'enterprise'), ('Schiffe', 'ships'), ('ganz', 'entire'), ('positiv', 'positive'), ('Fitness', 'fitness'), ('Chinesisch', 'chinese'), ('Meinung', 'opinion'), ('Fußball', 'football'), ('abstrakt', 'abstract'), ('Ausgabe', 'output'), ('Mittel', 'funds'), ('Herr', 'mr'), ('wahrscheinlich', 'likely'), ('entwickeln', 'develop'), ('Künstler', 'artists'), ('Alternative', 'alternative'), ('Verantwortung', 'responsibility'), ('Java', 'java'), ('Gast', 'guest'), ('Veröffentlichung', 'publication'), ('bestehen', 'pass'), ('Verhältnis', 'relations'), ('Vertrauen', 'trust'), ('Transporter', 'van'), ('enthält', 'contains'), ('Mehr', 'multi'), ('Republik', 'republic'), ('Gebühren', 'fees'), ('Komponenten', 'components'), ('Ferien', 'vacation'), ('Jahrhundert', 'century'), ('akademisch', 'academic'), ('Hilfe', 'assistance'), ('abgeschlossen', 'completed'), ('Haut', 'skin'), ('Grafik', 'graphics'), ('indisch', 'indian'), ('Ring', 'ring'), ('Klasse', 'grade'), ('Berg', 'mountain'), ('Organisationen', 'organizations'), ('Filter', 'filter'), ('Platte', 'panel'), ('Fußboden', 'floor'), ('Kauf', 'buying'), ('Spiel', 'match'), ('vorgeschlagen', 'proposed'), ('benötigen', 'require'), ('Jungen', 'boys'), ('Morgen', 'morning'), ('erlaubt', 'allows'), ('Eiweiß', 'protein'), ('Pflanze', 'plant'), ('berichtet', 'reported'), ('schlagen', 'hit'), ('Millimeter', 'mm'), ('Schwimmbad', 'pool'), ('Mini', 'mini'), ('Politik', 'politics'), ('Partner', 'partner'), ('Autoren', 'authors'), ('Bretter', 'boards'), ('Fisch', 'fish'), ('Mitgliedschaft', 'membership'), ('Mission', 'mission'), ('Auge', 'eye'), ('Schnur', 'string'), ('Sinn', 'sense'), ('geändert', 'modified'), ('freigegeben', 'released'), ('Bühne', 'stage'), ('intern', 'internal'), ('geboren', 'born'), ('ausführlich', 'detailed'), ('japanisch', 'japanese'), ('Rennen', 'race'), ('genehmigt', 'approved'), ('Ziel', 'target'), ('außer', 'except'), ('Charakter', 'character'), ('Instandhaltung', 'maintenance'), ('Fähigkeit', 'ability'), ('ed', 'ed'), ('vergewaltigen', 'rape'), ('Batterie', 'battery'), ('Jugend', 'youth'), ('Druck', 'pressure'), ('eingereicht', 'submitted'), ('Schuld', 'debt'), ('Mittel', 'medium'), ('Fernsehen', 'television'), ('interessiert', 'interested'), ('Ader', 'core'), ('Unterbrechung', 'break'), ('Zwecke', 'purposes'), ('Sets', 'sets'), ('tanzen', 'dance'), ('Holz', 'wood'), ('definiert', 'defined'), ('Papiere', 'papers'), ('Auszeichnungen', 'awards'), ('Gebühr', 'fee'), ('Studio', 'studio'), ('Leser', 'reader'), ('Gerät', 'device'), ('etabliert', 'established'), ('Antworten', 'answers'), ('Miete', 'rent'), ('las', 'las'), ('dunkel', 'dark'), ('extern', 'external'), ('Apfel', 'apple'), ('le', 'le'), ('Anleitung', 'instructions'), ('Mindest', 'min'), ('angeboten', 'offered'), ('Theorie', 'theory'), ('Löschen', 'remove'), ('Hilfe', 'aid'), ('visuell', 'visual'), ('Gastgeber', 'host'), ('Vielfalt', 'variety'), ('Lehrer', 'teachers'), ('Handbuch', 'manual'), ('Block', 'block'), ('Fächer', 'subjects'), ('Mittel', 'agents'), ('Reparatur', 'repair'), ('Messe', 'fair'), ('stehlen', 'steel'), ('Verstehen', 'understanding'), ('Lieder', 'songs'), ('Fest', 'fixed'), ('falsch', 'wrong'), ('Anfang', 'beginning'), ('Hände', 'hands'), ('az', 'az'), ('Paris', 'paris'), ('wird', 'gets'), ('Sektor', 'sector'), ('Kapazität', 'capacity'), ('un', 'un'), ('Fett', 'fat'), ('Vater', 'father'), ('elektrisch', 'electric'), ('sah', 'saw'), ('Instrumente', 'instruments'), ('Offizier', 'officer'), ('Treiber', 'driver'), ('Unternehmen', 'businesses'), ('tot', 'dead'), ('unbekannte', 'unknown'), ('Restaurant', 'restaurant'), ('Mike', 'mike'), ('Ausflug', 'trip'), ('mi', 'mi'), ('Arm', 'poor'), ('Beziehung', 'relationship'), ('Arbeitskräfte', 'workers'), ('Frieden', 'peace'), ('traditionell', 'traditional'), ('zeigt', 'showing'), ('kreativ', 'creative'), ('Küste', 'coast'), ('Vorteil', 'benefit'), ('Finanzierung', 'funding'), ('Geräte', 'devices'), ('Herr', 'lord'), ('gewähren', 'grant'), ('Unter', 'sub'), ('Fiktion', 'fiction'), ('Uhren', 'watches'), ('Karriere', 'careers'), ('geht', 'goes'), ('LED', 'led'), ('Museum', 'museum'), ('Ventilator', 'fan'), ('Transport', 'transport'), ('interessant', 'interesting'), ('Blogs', 'blogs'), ('Auswertung', 'evaluation'), ('ehemalige', 'former'), ('Zone', 'zone'), ('Komplex', 'complex'), ('th', 'th'), ('Katze', 'cat'), ('sterben', 'die'), ('vorgeführt', 'presented'), ('eben', 'flat'), ('fließen', 'flow'), ('Agenturen', 'agencies'), ('Literatur', 'literature'), ('Elternteil', 'parent'), ('Rahmen', 'setting'), ('DR', 'dr'), ('Rahmen', 'scale'), ('Wirtschaft', 'economy'), ('hilfreich', 'helpful'), ('monatlich', 'monthly'), ('kritisch', 'critical'), ('Rahmen', 'frame'), ('Musical', 'musical'), ('Definition', 'definition'), ('Sekretär', 'secretary'), ('Pfad', 'path'), ('Chef', 'chief'), ('gibt', 'gives'), ('Pakete', 'packages'), ('Detail', 'detail'), ('Gesetze', 'laws'), ('geändert', 'changed'), ('Start', 'begin'), ('königlich', 'royal'), ('reinigen', 'clean'), ('Kerl', 'guy'), ('Titel', 'titles'), ('relevant', 'relevant'), ('Gerechtigkeit', 'justice'), ('verbinden', 'connect'), ('Tasse', 'cup'), ('Korb', 'basket'), ('angewandt', 'applied'), ('wöchentlich', 'weekly'), ('vol', 'vol'), ('Installation', 'installation'), ('pp', 'pp'), ('Beachtung', 'attention'), ('vorrücken', 'advance'), ('überspringen', 'skip'), ('Diät', 'diet'), ('Armee', 'army'), ('Ausrüstung', 'gear'), ('Unterschied', 'difference'), ('dürfen', 'allowed'), ('richtig', 'correct'), ('Nation', 'nation'), ('Verkauf', 'selling'), ('viele', 'lots'), ('Stück', 'piece'), ('Blatt', 'sheet'), ('Feste', 'firm'), ('Sieben', 'seven'), ('Elemente', 'elements'), ('Spezies', 'species'), ('springen', 'jump'), ('Zellen', 'cells'), ('Modul', 'module'), ('Urlaubsort', 'resort'), ('Zertifikat', 'certificate'), ('Minister', 'minister'), ('Bewegung', 'motion'), ('Mode', 'fashion'), ('Richtungen', 'directions'), ('Besucher', 'visitors'), ('Dokumentation', 'documentation'), ('Handel', 'trading'), ('Wald', 'forest'), ('Anrufe', 'calls'), ('Berichterstattung', 'coverage'), ('Paar', 'couple'), ('Angabe', 'giving'), ('Chance', 'chance'), ('Vision', 'vision'), ('Ball', 'ball'), ('Ende', 'ending'), ('Kunden', 'clients'), ('Aktionen', 'actions'), ('diskutieren', 'discuss'), ('Tor', 'goal'), ('erfolgreich', 'successful'), ('verkauft', 'sold'), ('Wind', 'wind'), ('Gemeinden', 'communities'), ('klinisch', 'clinical'), ('Lage', 'situation'), ('Märkte', 'markets'), ('Verlagswesen', 'publishing'), ('erscheinen', 'appear'), ('Entwicklung', 'developing'), ('Leben', 'lives'), ('bestimmen', 'determine'), ('Temperatur', 'temperature'), ('Ankündigungen', 'announcements'), ('geduldig', 'patient'), ('tatsächlich', 'actual'), ('historisch', 'historical'), ('Stein', 'stone'), ('Bob', 'bob'), ('Handel', 'commerce'), ('Personen', 'persons'), ('schwer', 'difficult'), ('wissenschaftlich', 'scientific'), ('Satellit', 'satellite'), ('Tests', 'tests'), ('Dorf', 'village'), ('Konten', 'accounts'), ('Amateur', 'amateur'), ('Ex', 'ex'), ('getroffen', 'met'), ('Schmerzen', 'pain'), ('Faktoren', 'factors'), ('Kaffee', 'coffee'), ('Käufer', 'buyer'), ('Poster', 'poster'), ('Kante', 'edge'), ('funktional', 'functional'), ('Wurzel', 'root'), ('fi', 'fi'), ('geschlossen', 'closed'), ('Ferien', 'holidays'), ('Rosa', 'pink'), ('Balance', 'balance'), ('Überwachung', 'monitoring'), ('Antworten', 'replies'), ('Schuss', 'shot'), ('Initiale', 'initial'), ('Etikette', 'label'), ('Sekunde', 'sec'), ('Kanon', 'canon'), ('Liga', 'league'), ('Abfall', 'waste'), ('Minute', 'minute'), ('Bus', 'bus'), ('Anbieter', 'provider'), ('Wörterbuch', 'dictionary'), ('Buchhaltung', 'accounting'), ('Herstellung', 'manufacturing'), ('Abschnitte', 'sections'), ('Stuhl', 'chair'), ('Anstrengung', 'effort'), ('Phase', 'phase'), ('Fantasie', 'fantasy'), ('po', 'po'), ('va', 'va'), ('Professor', 'professor'), ('Installieren', 'install'), ('Hemd', 'shirt'), ('Kleider', 'apparel'), ('Fuß', 'foot'), ('Brust', 'breast'), ('Techniken', 'techniques'), ('Dollar', 'dollars'), ('Religion', 'religion'), ('Genehmigung', 'permission'), ('wild', 'wild'), ('Generation', 'generation'), ('Fräulein', 'miss'), ('chemisch', 'chemical'), ('Arzt', 'doctor'), ('Aufgabe', 'task'), ('reduzieren', 'reduce'), ('gebracht', 'brought'), ('Übung', 'exercise'), ('Fehler', 'bug'), ('Garantie', 'guarantee'), ('Führer', 'leader'), ('se', 'se'), ('Prozesse', 'processes'), ('weich', 'soft'), ('Treffen', 'meetings'), ('Sekunden', 'seconds'), ('Flug', 'flight'), ('Kongress', 'congress'), ('Treibstoff', 'fuel'), ('gehen', 'walk'), ('hergestellt', 'produced'), ('Heilige', 'saint'), ('Streit', 'argument'), ('Wettbewerb', 'competition'), ('Drogen', 'drugs'), ('Joint', 'joint'), ('Prämie', 'premium'), ('frisch', 'fresh'), ('Figuren', 'characters'), ('Rechtsanwalt', 'attorney'), ('di', 'di'), ('Faktor', 'factor'), ('tausende', 'thousands'), ('km', 'km'), ('Strom', 'stream'), ('Wohnungen', 'apartments'), ('pflücken', 'pick'), ('Hören', 'hearing'), ('östlich', 'eastern'), ('Therapie', 'therapy'), ('Einträge', 'entries'), ('unterzeichnet', 'signed'), ('administrativ', 'administrative'), ('ernst', 'serious'), ('Grenze', 'limit'), ('Schritte', 'steps'), ('Geschäfte', 'shops'), ('Knechtschaft', 'bondage'), ('del', 'del'), ('Anstrengungen', 'efforts'), ('informiert', 'informed'), ('ga', 'ga'), ('Gedanken', 'thoughts'), ('Bach', 'creek'), ('ft', 'ft'), ('Menge', 'quantity'), ('wesentlich', 'essential'), ('Touren', 'tours'), ('Belastung', 'load'), ('sofort', 'immediately'), ('Maschinen', 'machines'), ('vorgesehen', 'designated'), ('schwer', 'heavy'), ('bedeckt', 'covered'), ('Wiederherstellung', 'recovery'), ('integriert', 'integrated'), ('Aufbau', 'configuration'), ('Schwanz', 'cock'), ('Händler', 'merchant'), ('umfassend', 'comprehensive'), ('Experte', 'expert'), ('schützen', 'protect'), ('solide', 'solid'), ('Präsentation', 'presentation'), ('wurde', 'became'), ('Orange', 'orange'), ('Beachtung', 'compliance'), ('Thema', 'theme'), ('Reich', 'rich'), ('Kampagne', 'campaign'), ('vs', 'vs'), ('Gitarre', 'guitar'), ('finden', 'finding'), ('Beispiele', 'examples'), ('Geist', 'spirit'), ('ar', 'ar'), ('Ansprüche', 'claims'), ('Annahme', 'acceptance'), ('Strategien', 'strategies'), ('mo', 'mo'), ('Angelegenheiten', 'affairs'), ('beabsichtigt', 'intended'), ('sa', 'sa'), ('Tore', 'goals'), ('mieten', 'hire'), ('Wahl', 'election'), ('vorschlagen', 'suggest'), ('Ast', 'branch'), ('Dienen', 'serve'), ('Mitgliedsorganisationen', 'affiliates'), ('montieren', 'mount'), ('Latein', 'latin'), ('Multimedia', 'multimedia'), ('verwalten', 'manage'), ('Ecke', 'corner'), ('Rang', 'rank'), ('Element', 'element'), ('Geburt', 'birth'), ('Virus', 'virus'), ('interaktiv', 'interactive'), ('Anfragen', 'requests'), ('trennen', 'separate'), ('Quartal', 'quarter'), ('Verfahren', 'procedure'), ('Führung', 'leadership'), ('definieren', 'define'), ('religiös', 'religious'), ('Fakten', 'facts'), ('Frühstück', 'breakfast'), ('Säule', 'column'), ('Glauben', 'faith'), ('Kette', 'chain'), ('identifizieren', 'identify'), ('Avenue', 'avenue'), ('fehlt', 'missing'), ('Empfehlungen', 'recommendations'), ('gerührt', 'moved'), ('erreichen', 'reach'), ('Vergleich', 'comparison'), ('Moment', 'moment'), ('verlängert', 'extended'), ('Sequenz', 'sequence'), ('Zoll', 'inch'), ('Attacke', 'attack'), ('Zentren', 'centers'), ('Öffnung', 'opening'), ('Labor', 'lab'), ('Reservieren', 'reserve'), ('Gamma', 'gamma'), ('produzieren', 'produce'), ('Wahrheit', 'truth'), ('Zähler', 'counter'), ('Fehler', 'failure'), ('folgt', 'follows'), ('Dollar', 'dollar'), ('Lager', 'camp'), ('die', 'des'), ('Filme', 'films'), ('Brücke', 'bridge'), ('füllen', 'fill'), ('Bewegung', 'movement'), ('Drucken', 'printing'), ('Entwurf', 'draft'), ('Diagramm', 'chart'), ('gespielt', 'played'), ('Kontakte', 'contacts'), ('Leser', 'readers'), ('Clubs', 'clubs'), ('wa', 'wa'), ('Abenteuer', 'adventure'), ('Opfer', 'offering'), ('profitieren', 'profit'), ('Führung', 'leaders'), ('Poster', 'posters'), ('Institutionen', 'institutions'), ('Assistent', 'assistant'), ('Variable', 'variable'), ('dj', 'dj'), ('Parken', 'parking'), ('gestern', 'yesterday'), ('entschlossen', 'determined'), ('Werkstatt', 'workshop'), ('Weg', 'gone'), ('Codes', 'codes'), ('Arten', 'kinds'), ('Erweiterung', 'extension'), ('Aussagen', 'statements'), ('vollständig', 'completely'), ('Mannschaften', 'teams'), ('Fort', 'fort'), ('cm', 'cm'), ('Senat', 'senate'), ('komisch', 'funny'), ('Gen', 'gene'), ('gedreht', 'turned'), ('Scheibe', 'disc'), ('Muster', 'pattern'), ('Boot', 'boat'), ('Theater', 'theatre'), ('Hersteller', 'manufacturers'), ('Sponsor', 'sponsor'), ('klassisch', 'classical'), ('Symbol', 'icon'), ('Garantie', 'warranty'), ('gewidmet', 'dedicated'), ('Richtung', 'direction'), ('Basketball', 'basketball'), ('Objekte', 'objects'), ('löschen', 'delete'), ('Abend', 'evening'), ('Versammlung', 'assembly'), ('nuklear', 'nuclear'), ('Maus', 'mouse'), ('Signal', 'signal'), ('Verbrecher', 'criminal'), ('ausgegeben', 'issued'), ('mächtig', 'powerful'), ('Traum', 'dream'), ('FALSCH', 'FALSE'), ('da', 'da'), ('Besetzung', 'cast'), ('Blume', 'flower'), ('Personal', 'personnel'), ('bestanden', 'passed'), ('geliefert', 'supplied'), ('Stürze', 'falls'), ('Seele', 'soul'), ('fördern', 'promote'), ('angegeben', 'stated'), ('Statistiken', 'stats'), ('Profis', 'professionals'), ('erscheint', 'appears'), ('tragen', 'carry'), ('Flagge', 'flag'), ('Abdeckungen', 'covers'), ('em', 'em'), ('Vorteil', 'advantage'), ('Hallo', 'hello'), ('Design', 'designs'), ('pflegen', 'maintain'), ('Tourismus', 'tourism'), ('Priorität', 'priority'), ('Erwachsene', 'adults'), ('Grafik', 'graphic'), ('Atom', 'atom'), ('Zahlungen', 'payments'), ('Bindung', 'binding'), ('kurz', 'brief'), ('beendet', 'ended'), ('gewinnt', 'winning'), ('anonym', 'anonymous'), ('Skript', 'script'), ('serviert', 'served'), ('will', 'wants'), ('bereit', 'prepared'), ('Leere', 'void'), ('Etikett', 'tag'), ('Interview', 'interview'), ('mischen', 'mix'), ('Rahmen', 'framework'), ('Scheibe', 'disk'), ('Eingerichtet', 'installed'), ('Königin', 'queen'), ('Kredite', 'credits'), ('deutlich', 'clearly'), ('Fix', 'fix'), ('Griff', 'handle'), ('Süss', 'sweet'), ('Kriterien', 'criteria'), ('assoziieren', 'associate'), ('ne', 'ne'), ('Verhalten', 'behavior'), ('vergrößern', 'enlarge'), ('Strahl', 'ray'), ('Einnahmen', 'revenue'), ('messen', 'measure'), ('Stimmen', 'votes'), ('du', 'du'), ('Pflicht', 'duty'), ('Diskussionen', 'discussions'), ('Bär', 'bear'), ('gewinnen', 'gain'), ('Festival', 'festival'), ('Labor', 'laboratory'), ('Ozean', 'ocean'), ('Flüge', 'flights'), ('Fachwelt', 'experts'), ('Zeichen', 'signs'), ('Tiefe', 'depth'), ('Zug', 'train'), ('trocken', 'dry'), ('erkunden', 'explore'), ('Spa', 'spa'), ('Konzept', 'concept'), ('fast', 'nearly'), ('Handhabung', 'handling'), ('Ursprung', 'origin'), ('Milliarde', 'billion'), ('Intelligenz', 'intelligence'), ('gekauft', 'bought'), ('con', 'con'), ('Nationen', 'nations'), ('Route', 'route'), ('gebrochen', 'broken'), ('Schlacht', 'battle'), ('sprechen', 'speak'), ('Protokoll', 'protocol'), ('Abfrage', 'query'), ('Partnerschaft', 'partnership'), ('Ausdruck', 'expression'), ('es', 'es'), ('Rede', 'speech'), ('Draht', 'wire'), ('Vorschläge', 'suggestions'), ('Ersatz', 'replacement'), ('Band', 'tape'), ('strategisch', 'strategic'), ('Richter', 'judge'), ('Acid', 'acid'), ('Bytes', 'bytes'), ('Cent', 'cent'), ('gezwungen', 'forced'), ('kompatibel', 'compatible'), ('Wohnung', 'apartment'), ('Null', 'null'), ('Null', 'zero'), ('Redner', 'speaker'), ('Beratung', 'consulting'), ('Konstrukteur', 'designer'), ('pr', 'pr'), ('Ehe', 'marriage'), ('rollen', 'roll'), ('Banken', 'banks'), ('fr', 'fr'), ('Teilnehmer', 'participants'), ('Geheimnis', 'secret'), ('Negativ', 'negative'), ('Favoriten', 'favorites'), ('Theater', 'theater'), ('Federung', 'springs'), ('var', 'var'), ('ausführen', 'perform'), ('Übersetzung', 'translation'), ('Schätzungen', 'estimates'), ('Verletzung', 'injury'), ('Ministerium', 'ministry'), ('Treiber', 'drivers'), ('Anwalt', 'lawyer'), ('Figuren', 'figures'), ('geschützt', 'protected'), ('Vorschlag', 'proposal'), ('teilen', 'sharing'), ('Portal', 'portal'), ('Beta', 'beta'), ('gratis', 'gratis'), ('zu', 'toward'), ('leicht', 'slightly'), ('helfen', 'assist'), ('Verhalten', 'conduct'), ('enthalten', 'contained'), ('Gesetzgebung', 'legislation'), ('Berufung', 'calling'), ('Parameter', 'parameters'), ('Profile', 'profiles'), ('Angelegenheiten', 'matters'), ('Häuser', 'houses'), ('Steuerung', 'controls'), ('kombiniert', 'combined'), ('letzte', 'ultimate'), ('Vertreter', 'representative'), ('geringer', 'minor'), ('Abteilungen', 'departments'), ('Bewohner', 'residents'), ('angezeigt', 'displayed'), ('Mama', 'mom'), ('reduziert', 'reduced'), ('Selten', 'rare'), ('durchgeführt', 'performed'), ('extrem', 'extreme'), ('Proben', 'samples'), ('Riegel', 'bars'), ('Prognose', 'forecast'), ('entfernt', 'removed'), ('Zyklus', 'cycle'), ('enthalten', 'contain'), ('Richtigkeit', 'accuracy'), ('Schlaf', 'sleep'), ('mg', 'mg'), ('Vogel', 'bird'), ('Apotheke', 'pharmacy'), ('Schaffung', 'creation'), ('statisch', 'static'), ('Jäger', 'hunter'), ('Adressen', 'addresses'), ('Dame', 'lady'), ('Kristall', 'crystal'), ('berühmt', 'famous'), ('Schriftsteller', 'writer'), ('Vorsitzende', 'chairman'), ('Getränk', 'drink'), ('Akademie', 'academy'), ('dynamisch', 'dynamic'), ('Essen', 'eat'), ('permanent', 'permanent'), ('Reinigung', 'cleaning'), ('bildet', 'constitutes'), ('Mappe', 'portfolio'), ('praktisch', 'practical'), ('geliefert', 'delivered'), ('Infrastruktur', 'infrastructure'), ('Farbe', 'colour'), ('Verkäufer', 'vendor'), ('Philosophie', 'philosophy'), ('Verordnung', 'regulation'), ('Offiziere', 'officers'), ('Ziel', 'aim'), ('Gebote', 'bids'), ('Ernährung', 'nutrition'), ('Aufzeichnung', 'recording'), ('Junior', 'junior'), ('les', 'les'), ('Kap', 'cape'), ('Ringe', 'rings'), ('Spitze', 'tip'), ('wunderbar', 'wonderful'), ('Fahrkarte', 'ticket'), ('angekündigt', 'announced'), ('vermuten', 'guess'), ('wem', 'whom'), ('Fußball', 'soccer'), ('Mathematik', 'math'), ('einführen', 'import'), ('Entsendung', 'posting'), ('Gegenwart', 'presence'), ('automatisch', 'automatic'), ('Besichtigung', 'viewing'), ('gepflegt', 'maintained'), ('CH', 'ch'), ('Dan', 'dan'), ('Hunde', 'dogs'), ('Direktoren', 'directors'), ('Aspekte', 'aspects'), ('voraus', 'ahead'), ('Mond', 'moon'), ('Beteiligung', 'participation'), ('planen', 'scheme'), ('Fliege', 'fly'), ('Weise', 'manner'), ('Matrix', 'matrix'), ('Kombination', 'combination'), ('Änderung', 'amendment'), ('Stärke', 'strength'), ('Truthahn', 'turkey'), ('Bibliotheken', 'libraries'), ('richtig', 'proper'), ('Grad', 'degrees'), ('Unternehmen', 'enterprises'), ('Delta', 'delta'), ('Angst', 'fear'), ('suche', 'seeking'), ('Zoll', 'inches'), ('Konvention', 'convention'), ('Anteile', 'shares'), ('Schulleiter', 'principal'), ('Komfort', 'comfort'), ('Farben', 'colors'), ('Kriege', 'wars'), ('Bestellung', 'ordering'), ('gehalten', 'kept'), ('Alpha', 'alpha'), ('Beschwerde', 'appeal'), ('Kreuzfahrt', 'cruise'), ('Bonus', 'bonus'), ('Hallo', 'hey'), ('Gebäude', 'buildings'), ('Angebote', 'specials'), ('schlagen', 'beat'), ('Batterien', 'batteries'), ('wird', 'becomes'), ('fährt', 'drives'), ('Waffen', 'arms'), ('Tee', 'tea'), ('verbessert', 'improved'), ('leisten', 'achieve'), ('Positionen', 'positions'), ('Kleid', 'dress'), ('Abonnement', 'subscription'), ('Händler', 'dealer'), ('zeitgenössisch', 'contemporary'), ('Himmel', 'sky'), ('Rom', 'rom'), ('getragen', 'carried'), ('Exposition', 'exposure'), ('verbergen', 'hide'), ('Unterschrift', 'signature'), ('Müller', 'miller'), ('Bereitstellung', 'provision'), ('Kleider', 'clothes'), ('Rahmen', 'frames'), ('bestimmt', 'certainly'), ('Zeitung', 'newspaper'), ('Spielzeug', 'toy'), ('Schicht', 'layer'), ('gedruckt', 'printed'), ('langsam', 'slow'), ('Entfernung', 'removal'), ('Haftung', 'liability'), ('Drucker', 'printers'), ('Hinzufügen', 'adding'), ('Stelle', 'spot'), ('verbringen', 'spend'), ('Fabrik', 'factory'), ('Innere', 'interior'), ('wachsen', 'grow'), ('optisch', 'optical'), ('Beförderung', 'promotion'), ('relativ', 'relative'), ('tolle', 'amazing'), ('Punkt', 'dot'), ('Identität', 'identity'), ('Umwandlung', 'conversion'), ('Gefühl', 'feeling'), ('versteckt', 'hidden'), ('angemessen', 'reasonable'), ('Revision', 'revision'), ('beeinflussen', 'influence'), ('Verhältnis', 'ratio'), ('Bedeutung', 'importance'), ('Regen', 'rain'), ('Planet', 'planet'), ('Kopien', 'copies'), ('erlauben', 'permit'), ('Sehen', 'seeing'), ('Beweis', 'proof'), ('Bass', 'bass'), ('Rezept', 'prescription'), ('leer', 'empty'), ('Beispiel', 'instance'), ('Loch', 'hole'), ('Reiten', 'ride'), ('Büro', 'bureau'), ('Erhaltung', 'conservation'), ('Paar', 'pair'), ('Ideal', 'ideal'), ('Brille', 'specs'), ('verzeichnet', 'recorded'), ('Don', 'don'), ('Stücke', 'pieces'), ('fertig', 'finished'), ('Parks', 'parks'), ('Rechtsanwälte', 'lawyers'), ('Stress', 'stress'), ('Sahne', 'cream'), ('ss', 'ss'), ('läuft', 'runs'), ('entdecken', 'discover'), ('ap', 'ap'), ('Muster', 'patterns'), ('Hügel', 'hills'), ('nm', 'nm'), ('Berater', 'advisor'), ('bewusst', 'aware'), ('gestalten', 'shape'), ('Evolution', 'evolution'), ('Zertifikate', 'certificates'), ('Ziele', 'objectives'), ('Stationen', 'stations'), ('empfohlen', 'suggested'), ('op', 'op'), ('Überreste', 'remains'), ('Firmen', 'firms'), ('Euro', 'euro'), ('Operator', 'operator'), ('Strukturen', 'structures'), ('generisch', 'generic'), ('Enzyklopädie', 'encyclopedia'), ('Verwendung', 'usage'), ('Tinte', 'ink'), ('gemischt', 'mixed'), ('Volkszählung', 'census'), ('Rad', 'wheel'), ('Lieferanten', 'suppliers'), ('kompakt', 'compact'), ('Poesie', 'poetry'), ('Beleuchtung', 'lights'), ('Verfolgung', 'tracking'), ('Engel', 'angel'), ('Vorbereitung', 'preparation'), ('Versuch', 'attempt'), ('Empfang', 'receiving'), ('Streichhölzer', 'matches'), ('Übereinstimmung', 'accordance'), ('Breite', 'width'), ('Motoren', 'engines'), ('vergessen', 'forget'), ('Feld', 'array'), ('diskutiert', 'discussed'), ('genau', 'accurate'), ('Klima', 'climate'), ('griechisch', 'greek'), ('Anweisung', 'instruction'), ('Verwaltung', 'managing'), ('roh', 'raw'), ('Unterschiede', 'differences'), ('erklären', 'explain'), ('Gründen', 'establish'), ('ausgedrückt', 'expressed'), ('Umfang', 'extent'), ('Scharf', 'sharp'), ('ben', 'ben'), ('Absatz', 'paragraph'), ('töten', 'kill'), ('Mathematik', 'mathematics'), ('Vergütung', 'compensation'), ('Export', 'export'), ('Manager', 'managers'), ('Module', 'modules'), ('geführt', 'conducted'), ('Versionen', 'versions'), ('weiß', 'knows'), ('beschreiben', 'describe'), ('Bürger', 'citizens'), ('Erbe', 'heritage'), ('Ärger', 'trouble'), ('Trainer', 'coach'), ('landwirtschaftlich', 'agricultural'), ('erweitern', 'expand'), ('Publikum', 'audience'), ('zugewiesen', 'assigned'), ('Sammlungen', 'collections'), ('Ewigkeit', 'ages'), ('Spezialist', 'specialist'), ('Koch', 'cook'), ('beeinflussen', 'affect'), ('Jungfrau', 'virgin'), ('erfahren', 'experienced'), ('Ermittlung', 'investigation'), ('angehoben', 'raised'), ('Hut', 'hat'), ('Institution', 'institution'), ('gerichtet', 'directed'), ('betroffen', 'affected'), ('Fahrrad', 'bike'), ('total', 'totally'), ('Teller', 'plate'), ('Kosten', 'expenses'), ('zeigen', 'indicate'), ('blond', 'blonde'), ('Verfahren', 'proceedings'), ('Favorit', 'favourite'), ('Eigenschaften', 'characteristics'), ('der', 'der'), ('verlieren', 'lose'), ('organisch', 'organic'), ('suchen', 'seek'), ('Erfahrungen', 'experiences'), ('Alben', 'albums'), ('Verträge', 'contracts'), ('Gäste', 'guests'), ('Gastgeber', 'hosted'), ('Krankheiten', 'diseases'), ('über', 'concerning'), ('äquivalent', 'equivalent'), ('Chemie', 'chemistry'), ('Kits', 'kits'), ('Logik', 'logic'), ('Prinz', 'prince'), ('Kreis', 'circle'), ('Boden', 'soil'), ('Psychologie', 'psychology'), ('nass', 'wet'), ('Umstände', 'circumstances'), ('Investor', 'investor'), ('elementar', 'elementary'), ('Sponsoren', 'sponsors'), ('Fuchs', 'fox'), ('unbegrenzt', 'unlimited'), ('reagieren', 'respond'), ('Größen', 'sizes'), ('einfach', 'plain'), ('Ausfahrt', 'exit'), ('Arm', 'arm'), ('Schlüssel', 'keys'), ('Welle', 'wave'), ('heilig', 'holy'), ('Handlungen', 'acts'), ('Beratung', 'guidance'), ('Weg', 'trail'), ('Symbol', 'symbol'), ('Autobahn', 'highway'), ('beobachtete', 'observed'), ('Dean', 'dean'), ('Konfiguration', 'setup'), ('Umfrage', 'poll'), ('Arten', 'styles'), ('gefüllt', 'filled'), ('Bindung', 'bond'), ('Kanäle', 'channels'), ('Blinddarm', 'appendix'), ('Schokolade', 'chocolate'), ('Portion', 'portion'), ('Umfang', 'scope'), ('Lieferant', 'supplier'), ('Kabel', 'cables'), ('Baumwolle', 'cotton'), ('Anforderung', 'requirement'), ('getötet', 'killed'), ('Rand', 'border'), ('alt', 'ancient'), ('Debatte', 'debate'), ('Vertreter', 'representatives'), ('beginnt', 'starts'), ('Schwangerschaft', 'pregnancy'), ('Sehenswürdigkeiten', 'attractions'), ('gelernt', 'learned'), ('Transaktionen', 'transactions'), ('Forscher', 'explorer'), ('historisch', 'historic'), ('Mann', 'husband'), ('autorisiert', 'authorized'), ('verrückt', 'crazy'), ('bevorstehende', 'upcoming'), ('Konzert', 'concert'), ('Partituren', 'scores'), ('Wirksamkeit', 'efficiency'), ('Komödie', 'comedy'), ('angenommen', 'adopted'), ('effizient', 'efficient'), ('linear', 'linear'), ('Engagement', 'commitment'), ('Spezialität', 'specialty'), ('Bären', 'bears'), ('hüpfen', 'hop'), ('Träger', 'carrier'), ('Konstante', 'constant'), ('Visa', 'visa'), ('Mund', 'mouth'), ('Meter', 'meter'), ('verbunden', 'linked'), ('Interviews', 'interviews'), ('Konzepte', 'concepts'), ('Gewehr', 'gun'), ('reflektieren', 'reflect'), ('rein', 'pure'), ('Hölle', 'hell'), ('Obst', 'fruit'), ('beginnt', 'begins'), ('qualifiziert', 'qualified'), ('Reform', 'reform'), ('Linse', 'lens'), ('behandelt', 'treated'), ('Entdeckung', 'discovery'), ('zeichnen', 'draw'), ('klassifiziert', 'classified'), ('annehmen', 'assume'), ('Allianz', 'alliance'), ('bestätigen', 'confirm'), ('Ingenieur', 'engineer'), ('konsistent', 'consistent'), ('ersetzen', 'replace'), ('Spielraum', 'clearance'), ('Konverter', 'converter'), ('Organisation', 'organisation'), ('Baby', 'babe'), ('Schecks', 'checks'), ('erreicht', 'reached'), ('Werden', 'becoming'), ('Zielsetzung', 'objective'), ('angezeigt', 'indicated'), ('Zucker', 'sugar'), ('Crew', 'crew'), ('Beine', 'legs'), ('Stock', 'stick'), ('Beziehung', 'relation'), ('aktiviert', 'enabled'), ('Genre', 'genre'), ('Freiwillige', 'volunteer'), ('Rückseite', 'rear'), ('demokratisch', 'democratic'), ('verbessern', 'enhance'), ('genau', 'exact'), ('gebunden', 'bound'), ('Parameter', 'parameter'), ('Prozessor', 'processor'), ('Knoten', 'node'), ('formal', 'formal'), ('Sturm', 'storm'), ('Mikro', 'micro'), ('Hochschulen', 'colleges'), ('Meile', 'mile'), ('Herausforderungen', 'challenges'), ('Redakteure', 'editors'), ('höchste', 'supreme'), ('Brüder', 'brothers'), ('Anerkennung', 'recognition'), ('ref', 'ref'), ('schätzen', 'estimate'), ('Kind', 'kid'), ('Inspektion', 'inspection'), ('Verbraucher', 'consumers'), ('Grenzen', 'limits'), ('Gebiet', 'territory'), ('Bewaffnung', 'weapons'), ('verzögern', 'delay'), ('Pilot', 'pilot'), ('Beiträge', 'contributions'), ('kontinuierlich', 'continuous'), ('Initiative', 'initiative'), ('Roman', 'novel'), ('Ausführung', 'execution'), ('Behinderung', 'disability'), ('Ultra', 'ultra'), ('Gewinner', 'winner'), ('Folge', 'episode'), ('Töpfer', 'potter'), ('Gericht', 'dish'), ('Theaterstücke', 'plays'), ('Bekanntmachung', 'bulletin'), ('ia', 'ia'), ('ändern', 'modify'), ('wirklich', 'truly'), ('Universum', 'universe'), ('Kandidat', 'candidate'), ('Slot', 'slot'), ('hervorragend', 'outstanding'), ('Ha', 'ha'), ('geplant', 'planned'), ('Hütte', 'lodge'), ('Spiegel', 'mirror'), ('Turnier', 'tournament'), ('Berücksichtigung', 'consideration'), ('Sitzungen', 'sessions'), ('Kern', 'kernel'), ('Käufer', 'buyers'), ('Zeitschriften', 'journals'), ('grau', 'gray'), ('Katalog', 'catalogue'), ('berechnet', 'charged'), ('breit', 'broad'), ('und', 'und'), ('gewählt', 'chosen'), ('Demo', 'demo'), ('Hass', 'hate'), ('Terminal', 'terminal'), ('Verlag', 'publishers'), ('Nächte', 'nights'), ('Flüssigkeit', 'liquid'), ('Reis', 'rice'), ('Reservierung', 'reservation'), ('Lebensmittel', 'foods'), ('bewachen', 'guard'), ('Einsparung', 'saving'), ('Reich', 'empire'), ('neu', 'newly'), ('erziehen', 'raise'), ('illegal', 'illegal'), ('Erweiterung', 'expansion'), ('Premier', 'premier'), ('Morgen', 'tomorrow'), ('Milch', 'milk'), ('Theater', 'drama'), ('Besuch', 'visiting'), ('Wettbewerb', 'contest'), ('gesammelt', 'collected'), ('Bands', 'bands'), ('geeignet', 'suitable'), ('absolut', 'absolutely'), ('Prüfung', 'audit'), ('Kammer', 'chamber'), ('Guinea', 'guinea'), ('Ergebnisse', 'findings'), ('iso', 'iso'), ('typisch', 'typical'), ('Summe', 'sum'), ('Hähnchen', 'chicken'), ('vorübergehend', 'temporary'), ('besuchen', 'attend'), ('Dusche', 'shower'), ('Versendung', 'sending'), ('ausreichend', 'sufficient'), ('Schale', 'shell'), ('Provinz', 'province'), ('katholisch', 'catholic'), ('Gouverneur', 'governor'), ('Bier', 'beer'), ('Beitrag', 'contribution'), ('Formel', 'formula'), ('Verfassung', 'constitution'), ('Verpackung', 'packaging'), ('zuverlässig', 'reliable'), ('Zweifel', 'doubt'), ('verdienen', 'earn'), ('Perioden', 'periods'), ('Anschläge', 'attacks'), ('Waren', 'merchandise'), ('Symptome', 'symptoms'), ('Denkmal', 'memorial'), ('Zwilling', 'twin'), ('einfügen', 'insert'), ('Tor', 'gateway'), ('Zeichnung', 'drawing'), ('Kandidaten', 'candidates'), ('bestellt', 'ordered'), ('biologisch', 'biological'), ('Kampf', 'fighting'), ('Übergang', 'transition'), ('Vorlieben', 'preferences'), ('Spion', 'spy'), ('Romantik', 'romance'), ('Instrument', 'instrument'), ('Teilt', 'split'), ('Themen', 'themes'), ('Befugnisse', 'powers'), ('Himmel', 'heaven'), ('Bits', 'bits'), ('schwanger', 'pregnant'), ('Einstufung', 'classification'), ('konzentriert', 'focused'), ('Arzt', 'physician'), ('fragen', 'asking'), ('Blöcke', 'blocks'), ('lo', 'lo'), ('geistig', 'spiritual'), ('Diabetes', 'diabetes'), ('ml', 'ml'), ('Verschiebung', 'shift'), ('sitzen', 'sit'), ('Körper', 'bodies'), ('Fotos', 'photographs'), ('Schneiden', 'cutting'), ('Schriftsteller', 'writers'), ('flexibel', 'flexible'), ('liebte', 'loved'), ('Favoriten', 'favourites'), ('Kartierung', 'mapping'), ('zahlreich', 'numerous'), ('verhältnismäßig', 'relatively'), ('repräsentiert', 'represents'), ('überlegen', 'superior'), ('bevorzugt', 'preferred'), ('Gerettet', 'saved'), ('intellektuelle', 'intellectual'), ('gewährt', 'granted'), ('Kohlenstoff', 'carbon'), ('gemütlich', 'comfortable'), ('magnetisch', 'magnetic'), ('Interaktion', 'interaction'), ('Hören', 'listening'), ('Krise', 'crisis'), ('Ausblick', 'outlook'), ('massiv', 'massive'), ('hell', 'bright'), ('gebildet', 'formed'), ('Klavier', 'piano'), ('Echo', 'echo'), ('Revolution', 'revolution'), ('Displays', 'displays'), ('Plasma', 'plasma'), ('Verdienste', 'earnings'), ('Geheimnis', 'mystery'), ('Landschaft', 'landscape'), ('mechanisch', 'mechanical'), ('Reise', 'journey'), ('Banner', 'banner'), ('Feige', 'fig'), ('Grafschaften', 'counties'), ('Erwerb', 'acquisition'), ('anerkannt', 'recognized'), ('Träume', 'dreams'), ('Benachrichtigung', 'notification'), ('kg', 'kg'), ('lehren', 'teach'), ('schnell', 'rapid'), ('ziehen', 'pull'), ('ut', 'ut'), ('Seminar', 'seminar'), ('Investitionen', 'investments'), ('Räder', 'wheels'), ('angeben', 'specify'), ('empfindlich', 'sensitive'), ('Vorlagen', 'templates'), ('Formate', 'formats'), ('hält', 'holds'), ('Router', 'router'), ('Beton', 'concrete'), ('si', 'si'), ('Mappe', 'folder'), ('Fertigstellung', 'completion'), ('Impuls', 'pulse'), ('Technik', 'technique'), ('Wählen', 'voting'), ('Justiz', 'courts'), ('umgewandelt', 'converted'), ('Metro', 'metro'), ('Jahrestag', 'anniversary'), ('Verbesserungen', 'improvements'), ('Streifen', 'strip'), ('Spezifikation', 'specification'), ('Unfall', 'accident'), ('Kerbe', 'nick'), ('zugänglich', 'accessible'), ('Bewohner', 'resident'), ('Handlung', 'plot'), ('typisch', 'typically'), ('Darstellung', 'representation'), ('Pumpe', 'pump'), ('existiert', 'exists'), ('Vereinbarungen', 'arrangements'), ('Konferenzen', 'conferences'), ('Verbrauch', 'consumption'), ('eng', 'narrow'), ('Bedrohung', 'threat'), ('Umfragen', 'surveys'), ('Sitzung', 'sitting'), ('Berater', 'consultant'), ('Regler', 'controller'), ('Ausschüsse', 'committees'), ('Penis', 'penis'), ('Schloss', 'castle'), ('Gardens', 'gardens'), ('Etiketten', 'labels'), ('bereit', 'willing'), ('bio', 'bio'), ('Schauspielkunst', 'acting'), ('Köpfe', 'heads'), ('Prüfung', 'exam'), ('Residenz', 'residence'), ('Dichte', 'density'), ('hundert', 'hundred'), ('seltsam', 'strange'), ('nachhaltig', 'sustainable'), ('statistisch', 'statistical'), ('erwähnen', 'mention'), ('Innovation', 'innovation'), ('grau', 'grey'), ('parallel', 'parallel'), ('arbeiten', 'operate'), ('Banknoten', 'bills'), ('stabil', 'stable'), ('Definitionen', 'definitions'), ('von', 'von'), ('Ärzte', 'doctors'), ('Lektion', 'lesson'), ('Kino', 'cinema'), ('Wahlen', 'elections'), ('Reaktion', 'reaction'), ('leer', 'blank'), ('verbessert', 'enhanced'), ('berechtigt', 'entitled'), ('schwer', 'severe'), ('generieren', 'generate'), ('Zeitungen', 'newspapers'), ('Krankenhäuser', 'hospitals'), ('vi', 'vi'), ('Humor', 'humor'), ('alt', 'aged'), ('Monitore', 'monitors'), ('Ausnahme', 'exception'), ('Dauer', 'duration'), ('Masse', 'bulk'), ('Besuche', 'visits'), ('Fähigkeiten', 'capabilities'), ('Empfehlung', 'recommendation'), ('Sünde', 'sin'), ('organisiert', 'organized'), ('ba', 'ba'), ('para', 'para'), ('Annahme', 'adoption'), ('Verbesserung', 'improving'), ('teuer', 'expensive'), ('Büffel', 'buffalo'), ('Organisationen', 'organisations'), ('Ebene', 'plane'), ('Programme', 'programmes'), ('Mechanismus', 'mechanism'), ('ee', 'ee'), ('markiert', 'marked'), ('Gefahren', 'driven'), ('Flasche', 'bottle'), ('innovativ', 'innovative'), ('Massage', 'massage'), ('Fazit', 'conclusion'), ('Schließen', 'closing'), ('tausend', 'thousand'), ('Legende', 'legend'), ('Villa', 'villa'), ('Knochen', 'bone'), ('Säulen', 'columns'), ('Störungen', 'disorders'), ('Zusammenarbeit', 'collaboration'), ('Entdeckung', 'detection'), ('innere', 'inner'), ('Formation', 'formation'), ('med', 'med'), ('Ingenieure', 'engineers'), ('Entität', 'entity'), ('Kreuzfahrten', 'cruises'), ('Tor', 'gate'), ('römisch', 'roman'), ('Aufgaben', 'duties'), ('erotisch', 'erotic'), ('Ton', 'tone'), ('Ethik', 'ethics'), ('Drachen', 'dragon'), ('beschäftigt', 'busy'), ('Kapitän', 'captain'), ('bringt', 'brings'), ('Heizung', 'heating'), ('Bein', 'leg'), ('Hals', 'neck'), ('Flügel', 'wing'), ('Skripte', 'scripts'), ('ABC', 'abc'), ('ernannt', 'appointed'), ('Behandlung', 'dealing'), ('verpflichten', 'commit'), ('Schiene', 'rail'), ('Reisen', 'trips'), ('Spalt', 'gap'), ('Seiten', 'sides'), ('Tube', 'tube'), ('dazugehörigen', 'corresponding'), ('Beschreibungen', 'descriptions'), ('Gürtel', 'belt'), ('Jacke', 'jacket'), ('Animation', 'animation'), ('Orakel', 'oracle'), ('er', 'er'), ('Produktionen', 'productions'), ('Luftfahrt', 'aviation'), ('stolz', 'proud'), ('Katastrophe', 'disaster'), ('Konsole', 'console'), ('Befehle', 'commands'), ('jr', 'jr'), ('Telekommunikation', 'telecommunications'), ('Lehrer', 'instructor'), ('Riese', 'giant'), ('erreicht', 'achieved'), ('Verletzungen', 'injuries'), ('Ansätze', 'approaches'), ('gewöhnlich', 'usual'), ('Briefmarken', 'stamps'), ('Winkel', 'angle'), ('rauben', 'rob'), ('Designer', 'designers'), ('Freiheit', 'liberty'), ('Epoche', 'era'), ('Konvertieren', 'convert'), ('Möglichkeit', 'possibility'), ('Analytiker', 'analyst'), ('gefährlich', 'dangerous'), ('Zuverlässigkeit', 'reliability'), ('beziehungsweise', 'respectively'), ('Freiwillige', 'volunteers'), ('abgeleiteten', 'derived'), ('Vergnügen', 'pleasure'), ('Ehre', 'honor'), ('orientiert', 'oriented'), ('Adler', 'eagle'), ('Gebet', 'prayer'), ('Workshops', 'workshops'), ('Hurrikan', 'hurricane'), ('ruhig', 'quiet'), ('Hersteller', 'producer'), ('repräsentiert', 'represented'), ('Verantwortlichkeiten', 'responsibilities'), ('Käse', 'cheese'), ('vorsichtig', 'carefully'), ('Produktivität', 'productivity'), ('Krone', 'crown'), ('Par', 'par'), ('Diagnose', 'diagnosis'), ('Hersteller', 'maker'), ('Riss', 'crack'), ('Prinzip', 'principle'), ('Picks', 'picks'), ('Gang', 'gang'), ('Fetisch', 'fetish'), ('Aussehen', 'appearance'), ('Rauch', 'smoke'), ('Filter', 'filters'), ('inkorporiert', 'incorporated'), ('Kunst', 'craft'), ('Gefährte', 'fellow'), ('blind', 'blind'), ('Salon', 'lounge'), ('wütend', 'mad'), ('Algorithmus', 'algorithm'), ('stark', 'strongly'), ('Cafe', 'cafe'), ('ken', 'ken'), ('Proteine', 'proteins'), ('su', 'su'), ('familiär', 'familiar'), ('fähig', 'capable'), ('Eintritt', 'admission'), ('Schuh', 'shoe'), ('gewählt', 'elected'), ('Tragen', 'carrying'), ('Terrorismus', 'terrorism'), ('Freude', 'joy'), ('Ausgaben', 'editions'), ('ethnisch', 'ethnic'), ('Parlament', 'parliament'), ('Darsteller', 'actor'), ('Funde', 'finds'), ('Dichtung', 'seal'), ('Situationen', 'situations'), ('fünfte', 'fifth'), ('Bürger', 'citizen'), ('vertikal', 'vertical'), ('Korrekturen', 'corrections'), ('beschreibt', 'describes'), ('Behinderungen', 'disabilities'), ('Substanz', 'substance'), ('verboten', 'prohibited'), ('Rohr', 'pipe'), ('Soldaten', 'soldiers'), ('Wächter', 'guardian'), ('Vorlesung', 'lecture'), ('Simulation', 'simulation'), ('Layout', 'layout'), ('Initiativen', 'initiatives'), ('krank', 'ill'), ('Konzentration', 'concentration'), ('legen', 'lay'), ('Deutung', 'interpretation'), ('dreckig', 'dirty'), ('unterrichtet', 'taught'), ('Arbeitnehmer', 'worker'), ('Optimierung', 'optimization'), ('Tempel', 'temple'), ('Substanzen', 'substances'), ('beweisen', 'prove'), ('entdeckt', 'discovered'), ('Flügel', 'wings'), ('genetisch', 'genetic'), ('Beschränkungen', 'restrictions'), ('dünn', 'thin'), ('Ausstellung', 'exhibition'), ('Grat', 'ridge'), ('Modem', 'modem'), ('bringen', 'bringing'), ('krank', 'sick'), ('bewerten', 'evaluate'), ('tropisch', 'tropical'), ('sammeln', 'collect'), ('Vektor', 'vector'), ('bestimmt', 'definitely'), ('Drehung', 'turning'), ('Existenz', 'existence'), ('Kommentar', 'commentary'), ('Entwicklungen', 'developments'), ('Einwanderung', 'immigration'), ('Reiseziele', 'destinations'), ('gegenseitig', 'mutual'), ('Syntax', 'syntax'), ('li', 'li'), ('Attribut', 'attribute'), ('Gefängnis', 'prison'), ('Fertigkeit', 'skill'), ('Stühle', 'chairs'), ('Umgebung', 'surrounding'), ('Berge', 'mountains'), ('Popularität', 'popularity'), ('Anfrage', 'inquiry'), ('geprüft', 'checked'), ('Ausstellungsstück', 'exhibit'), ('werfen', 'throw'), ('Trend', 'trend'), ('Katzen', 'cats'), ('Wüste', 'desert'), ('ya', 'ya'), ('Koordinator', 'coordinator'), ('Quecksilber', 'mercury'), ('Verbrennung', 'burning'), ('Flucht', 'escape'), ('Empfänger', 'receiver'), ('progressiv', 'progressive'), ('Boote', 'boats'), ('Meisterschaft', 'championship'), ('Arkade', 'arcade'), ('unmöglich', 'impossible'), ('erzählt', 'tells'), ('offensichtlich', 'obvious'), ('Depression', 'depression'), ('Graph', 'graph'), ('Abdeckung', 'covering'), ('Platin', 'platinum'), ('Beurteilung', 'judgment'), ('Gespräche', 'talks'), ('Einreichung', 'filing'), ('fördern', 'foster'), ('ausgezeichnet', 'awarded'), ('Versuche', 'trials'), ('Meister', 'masters'), ('Patrone', 'cartridge'), ('Erläuterung', 'explanation'), ('org', 'org'), ('Betrug', 'fraud'), ('Elektrizität', 'electricity'), ('Spektrum', 'spectrum'), ('Ankunft', 'arrival'), ('Keramik', 'pottery'), ('Betonung', 'emphasis'), ('genial', 'awesome'), ('Bestätigt', 'confirmed'), ('zählt', 'counts'), ('Absturz', 'crash'), ('Aufzug', 'lift'), ('inter', 'inter'), ('Höhen', 'heights'), ('Schatten', 'shadow'), ('Ausgabe', 'expense'), ('wagen', 'venture'), ('Klinik', 'clinic'), ('Heilung', 'healing'), ('Prinzessin', 'princess'), ('Eingeben', 'entering'), ('Paket', 'packet'), ('Studios', 'studios'), ('Beteiligung', 'involvement'), ('Papa', 'dad'), ('Tasten', 'buttons'), ('Platzierung', 'placement'), ('Beobachtungen', 'observations'), ('Gewinner', 'winners'), ('Straßen', 'roads'), ('anschließend', 'subsequent'), ('Garten', 'yard'), ('Bekanntgabe', 'disclosure'), ('Einrichtung', 'establishment'), ('Erinnerungen', 'memories'), ('te', 'te'), ('schafft', 'creates'), ('Gesichter', 'faces'), ('Tourist', 'tourist'), ('Mord', 'murder'), ('angemessene', 'adequate'), ('Senator', 'senator'), ('Präsentationen', 'presentations'), ('verdauen', 'digest'), ('Staub', 'dust'), ('Wiki', 'wiki'), ('ersetzt', 'replaced'), ('Radar', 'radar'), ('Verluste', 'losses'), ('Kampf', 'combat'), ('Reduzierung', 'reducing'), ('gestoppt', 'stopped'), ('Besetzung', 'occupation'), ('eng', 'closely'), ('Strahlung', 'radiation'), ('Könige', 'kings'), ('Schießen', 'shooting'), ('Ohr', 'ear'), ('Flaggen', 'flags'), ('Bäcker', 'baker'), ('konservativ', 'conservative'), ('Schock', 'shock'), ('Wirksamkeit', 'effectiveness'), ('Krawatte', 'tie'), ('Dach', 'roof'), ('zeigen', 'demonstrate'), ('Atmosphäre', 'atmosphere'), ('Kuss', 'kiss'), ('Tier', 'beast'), ('ra', 'ra'), ('betrieben', 'operated'), ('Experiment', 'experiment'), ('Ziele', 'targets'), ('Einkäufe', 'purchases'), ('Föderation', 'federation'), ('Pizza', 'pizza'), ('eingeladen', 'invited'), ('Zuordnung', 'assignment'), ('modern', 'mod'), ('Abfragen', 'queries'), ('Abwesenheit', 'absence'), ('Anbieter', 'vendors'), ('Yoga', 'yoga'), ('dient', 'serves'), ('Überraschung', 'surprise'), ('Lampe', 'lamp'), ('Witze', 'jokes'), ('Beratung', 'counseling'), ('Palast', 'palace'), ('zufrieden', 'satisfied'), ('Gewinnt', 'wins'), ('Warenhaus', 'warehouse'), ('soll', 'supposed'), ('gewöhnliche', 'ordinary'), ('Geist', 'ghost'), ('Verstoß', 'violation'), ('Boss', 'boss'), ('Stolz', 'pride'), ('Erwartungen', 'expectations'), ('Unabhängigkeit', 'independence'), ('wissend', 'knowing'), ('Reporter', 'reporter'), ('Stoffwechsel', 'metabolism'), ('Champion', 'champion'), ('persönlich', 'personally'), ('reichlich', 'plenty'), ('Solo', 'solo'), ('Kehle', 'throat'), ('Reichtum', 'wealth'), ('Vakuum', 'vacuum'), ('Tanzen', 'dancing'), ('erkenne', 'recognize'), ('schreibt', 'writes'), ('Piazza', 'plaza'), ('Suche', 'quest'), ('veröffentlichen', 'publish'), ('Abschirmung', 'screening'), ('trans', 'trans'), ('Pionier', 'pioneer'), ('Vergessene', 'forgotten'), ('Akrobat', 'acrobat'), ('Platten', 'plates'), ('Aufsätze', 'essays'), ('Verhalten', 'behaviour'), ('erzählen', 'telling'), ('ziemlich', 'fairly'), ('intelligent', 'intelligent'), ('Modi', 'modes'), ('Verpflichtung', 'obligation'), ('Hafen', 'harbor'), ('Reisende', 'traveler'), ('Segment', 'segment'), ('Feind', 'enemy'), ('Puzzle', 'puzzle'), ('Brunnen', 'wells'), ('beschränkt', 'restricted'), ('Republikaner', 'republican'), ('Geheimnisse', 'secrets'), ('Syndrom', 'syndrome'), ('Teilnahme', 'attendance'), ('Elfmeter', 'penalty'), ('Trommel', 'drum'), ('ermöglicht', 'enables'), ('Baumeister', 'builder'), ('Aussicht', 'vista'), ('Flut', 'flood'), ('Leichtigkeit', 'ease'), ('Argumente', 'arguments'), ('Arena', 'arena'), ('Abenteuer', 'adventures'), ('Schüler', 'pupils'), ('Ankündigung', 'announcement'), ('Ergebnis', 'outcome'), ('schätzen', 'appreciate'), ('ergänzt', 'expanded'), ('gewachsen', 'grown'), ('schön', 'lovely'), ('Zentren', 'centres'), ('Klausel', 'clause'), ('Lächeln', 'smile'), ('Länder', 'lands'), ('Truppen', 'troops'), ('bewaffnet', 'armed'), ('Kiefer', 'pine'), ('Kühlung', 'cooling'), ('Golf', 'gulf'), ('LKW', 'trucks'), ('Mechanismen', 'mechanisms'), ('Scheidung', 'divorce'), ('Tradition', 'tradition'), ('Pillen', 'pills'), ('Tiger', 'tiger'), ('Leute', 'folks'), ('Sensor', 'sensor'), ('ausgesetzt', 'exposed'), ('Jagd', 'hunt'), ('Engel', 'angels'), ('Stellvertreter', 'deputy'), ('thailändisch', 'thai'), ('Emissionen', 'emissions'), ('Ärzte', 'physicians'), ('Beschwerde', 'complaint'), ('Szenen', 'scenes'), ('Experimente', 'experiments'), ('Auftrieb', 'boost'), ('Führung', 'governance'), ('Mühle', 'mill'), ('Gegründet', 'founded'), ('chronisch', 'chronic'), ('Höhle', 'den'), ('Finger', 'finger'), ('hält', 'keeps'), ('Pfund', 'pound'), ('Lokalisieren', 'locate'), ('pl', 'pl'), ('trainiert', 'trained'), ('Umsetzung', 'implementing'), ('Brot', 'bread'), ('Motoren', 'motors'), ('zäh', 'tough'), ('Vorfall', 'incident'), ('Dynamik', 'dynamics'), ('Lüge', 'lie'), ('Konversation', 'conversation'), ('verringern', 'decrease'), ('Anbetung', 'worship'), ('Fähigkeit', 'capability'), ('ak', 'ak'), ('Präzision', 'precision'), ('Schadenersatz', 'damages'), ('Reserve', 'reserves'), ('lösen', 'solve'), ('Minderheit', 'minority'), ('vielfältig', 'diverse'), ('Zutaten', 'ingredients'), ('Ah', 'ah'), ('Töne', 'tones'), ('Rehabilitation', 'rehabilitation'), ('Sicht', 'sight'), ('Lehm', 'clay'), ('schwach', 'weak'), ('geteilt', 'divided'), ('Rezeption', 'reception'), ('weise', 'wise'), ('Chancen', 'odds'), ('Seminare', 'seminars'), ('Folgen', 'consequences'), ('Entscheidungsträger', 'makers'), ('Erdkunde', 'geography'), ('Integrität', 'integrity'), ('Erbe', 'legacy'), ('zufrieden', 'pleased'), ('Achtung', 'danger'), ('Vitamin', 'vitamin'), ('verarbeitet', 'processed'), ('Phrase', 'phrase'), ('erziehen', 'raising'), ('Auswirkungen', 'implications'), ('Funktionalität', 'functionality'), ('Paradies', 'paradise'), ('hybrid', 'hybrid'), ('liest', 'reads'), ('emotional', 'emotional'), ('Ruhm', 'glory'), ('ja', 'ja'), ('geographisch', 'geographic'), ('überschreiten', 'exceed'), ('Stange', 'rod'), ('Seide', 'silk'), ('Babys', 'babies'), ('Bi', 'bi'), ('romantisch', 'romantic'), ('aufgedeckt', 'revealed'), ('Spezialisten', 'specialists'), ('Generator', 'generator'), ('Suspension', 'suspension'), ('traurig', 'sad'), ('Korrektur', 'correction'), ('Wolf', 'wolf'), ('langsam', 'slowly'), ('Ergänzung', 'supplement'), ('Teile', 'portions'), ('Säugling', 'infant'), ('Branchen', 'sectors'), ('Flüssigkeit', 'fluid'), ('Begründung', 'grounds'), ('Mahlzeit', 'meal'), ('ta', 'ta'), ('Maschinen', 'machinery'), ('Gleichung', 'equation'), ('Körbe', 'baskets'), ('Wahrscheinlichkeit', 'probability'), ('Abmessungen', 'dimension'), ('studierte', 'studied'), ('Gewinne', 'profits'), ('Teufel', 'devil'), ('Gras', 'grass'), ('illustriert', 'illustrated'), ('Kirsche', 'cherry'), ('kontinental', 'continental'), ('Leistung', 'achievement'), ('Einschränkungen', 'limitations'), ('Beerdigung', 'funeral'), ('Kapitel', 'chapters'), ('Passagier', 'passenger'), ('praktisch', 'convenient'), ('Mars', 'mars'), ('Größe', 'sized'), ('Ei', 'egg'), ('Signale', 'signals'), ('Orientierung', 'orientation'), ('Diebstahl', 'theft'), ('Kindheit', 'childhood'), ('Symbole', 'symbols'), ('lat', 'lat'), ('Meta', 'meta'), ('Analog', 'analog'), ('Talent', 'talent'), ('datiert', 'dated'), ('Weisheit', 'wisdom'), ('Grenze', 'boundary'), ('Elite', 'elite'), ('gi', 'gi'), ('glaubt', 'believes'), ('Gedichte', 'poems'), ('Zuständigkeit', 'jurisdiction'), ('Roboter', 'robot'), ('Anzeige', 'displaying'), ('Zeuge', 'witness'), ('ausgestattet', 'equipped'), ('Stufen', 'stages'), ('sur', 'sur'), ('erworben', 'acquired'), ('beurteilen', 'assess'), ('waschen', 'wash'), ('Eingang', 'entrance'), ('Erklärung', 'declaration'), ('verlieren', 'losing'), ('Versuche', 'attempts'), ('edel', 'noble'), ('Automatisierung', 'automation'), ('Auswirkungen', 'impacts'), ('Umdrehung', 'rev'), ('Vorteile', 'advantages'), ('Ritter', 'knight'), ('Ziele', 'aims'), ('Erweiterungen', 'extensions'), ('Einsprüche', 'appeals'), ('Krankheit', 'illness'), ('ho', 'ho'), ('Alternativen', 'alternatives'), ('Sch', 'sh'), ('Seife', 'soap'), ('Marmelade', 'jam'), ('ungewöhnlich', 'unusual'), ('antwortete', 'answered'), ('Zerstörung', 'destruction'), ('Migration', 'migration'), ('Störung', 'disorder'), ('konventionell', 'conventional'), ('tragen', 'wearing'), ('Achse', 'axis'), ('gesucht', 'sought'), ('Gene', 'genes'), ('Median', 'median'), ('Scanner', 'scanner'), ('hierin', 'herein'), ('lebhaft', 'animated'), ('Einstellung', 'adjustment'), ('Held', 'hero'), ('Behandlungen', 'treatments'), ('Haltung', 'attitude'), ('Teppich', 'carpet'), ('Linsen', 'lenses'), ('besucht', 'attended'), ('Schwierigkeit', 'difficulty'), ('Punk', 'punk'), ('Koalition', 'coalition'), ('Einschreibung', 'enrollment'), ('Herzog', 'duke'), ('Tempo', 'pace'), ('Produzenten', 'producers'), ('Bogen', 'arc'), ('Schnittstellen', 'interfaces'), ('Atlas', 'atlas'), ('Überwachung', 'observation'), ('Folter', 'torture'), ('gelöscht', 'deleted'), ('Mantel', 'coat'), ('Wiederherstellung', 'restoration'), ('Bequemlichkeit', 'convenience'), ('Rückkehr', 'returning'), ('Opposition', 'opposition'), ('Container', 'container'), ('Beklagte', 'defendant'), ('Supervisor', 'supervisor'), ('Korps', 'corps'), ('Schauspieler', 'actors'), ('Leber', 'liver'), ('haftbar', 'liable'), ('Petition', 'petition'), ('Antenne', 'antenna'), ('gepflückt', 'picked'), ('Glauben', 'belief'), ('Tötung', 'killing'), ('Schulter', 'shoulder'), ('Dekor', 'decor'), ('Ion', 'ion'), ('Durchmesser', 'diameter'), ('Podcast', 'podcast'), ('Wechselwirkungen', 'interactions'), ('Sänger', 'singer'), ('Herold', 'herald'), ('Altern', 'aging'), ('Intervention', 'intervention'), ('Plugin', 'plugin'), ('Attraktion', 'attraction'), ('Tauchen', 'diving'), ('Änderung', 'modification'), ('annehmen', 'suppose'), ('Schilf', 'reed'), ('betreffen', 'involve'), ('mäßig', 'moderate'), ('Mäuse', 'mice'), ('verstanden', 'understood'), ('schnell', 'rapidly'), ('Verbot', 'ban'), ('Sicherheit', 'assurance'), ('Ereignis', 'happening'), ('weit', 'vast'), ('Mühlen', 'mills'), ('Gliederung', 'outline'), ('erhält', 'receives'), ('Jeans', 'jeans'), ('Zusammenstellung', 'compilation'), ('ungerade', 'odd'), ('sigma', 'sigma'), ('GR', 'gr'), ('attraktiv', 'attractive'), ('Gelegenheit', 'occasion'), ('Aufnahmen', 'recordings'), ('Opfer', 'victim'), ('Forderungen', 'demands'), ('Vorsichtig', 'careful'), ('Strahl', 'beam'), ('Gartenarbeit', 'gardening'), ('Verbindlichkeiten', 'obligations'), ('ankommen', 'arrive'), ('Orchester', 'orchestra'), ('Lizenz', 'licence'), ('einstellbar', 'adjustable'), ('Zuweisung', 'allocation'), ('Aufsatz', 'essay'), ('gezeigt', 'demonstrated'), ('Dialog', 'dialogue'), ('Lager', 'camps'), ('erklärt', 'declared'), ('Spur', 'trace'), ('geschlossen', 'shut'), ('Packungen', 'packs'), ('ge', 'ge'), ('Installation', 'installing'), ('Schalter', 'switches'), ('freiwillig', 'voluntary'), ('du', 'thou'), ('sehr', 'greatly'), ('ng', 'ng'), ('häufig', 'commonly'), ('pe', 'pe'), ('Fotograf', 'photographer'), ('Schrei', 'cry'), ('Quant', 'quantum'), ('konstruiert', 'constructed'), ('Ergänzungen', 'additions'), ('erforderlich', 'requiring'), ('Pfeil', 'arrow'), ('Engagement', 'engagement'), ('Rau', 'rough'), ('seltsam', 'weird'), ('Löwe', 'lion'), ('Hochzeiten', 'weddings'), ('Sauerstoff', 'oxygen'), ('Schlucht', 'canyon'), ('Meter', 'meters'), ('nur', 'merely'), ('Kalender', 'calendars'), ('Anordnung', 'arrangement'), ('Schlussfolgerungen', 'conclusions'), ('Literaturverzeichnis', 'bibliography'), ('Zeiger', 'pointer'), ('Kompatibilität', 'compatibility'), ('strecken', 'stretch'), ('Genehmigungen', 'permits'), ('Kooperative', 'cooperative'), ('Ernährung', 'feeding'), ('Gemeinde', 'township'), ('Ranglisten', 'rankings'), ('Messung', 'measuring'), ('Gurt', 'strap'), ('Menge', 'crowd'), ('Transfers', 'transfers'), ('olympisch', 'olympic'), ('Transformation', 'transformation'), ('dir', 'dir'), ('Zoll', 'customs'), ('Administratoren', 'administrators'), ('Persönlichkeit', 'personality'), ('Haken', 'hook'), ('Roulette', 'roulette'), ('Ablehnen', 'decline'), ('Kabel', 'cord'), ('Wolke', 'cloud'), ('erleichtern', 'facilitate'), ('val', 'val'), ('erklärt', 'explains'), ('Vorgehen', 'proceed'), ('Gefühle', 'feelings'), ('Messer', 'knife'), ('adoptieren', 'adopt'), ('verweigert', 'denied'), ('Spende', 'donation'), ('äußere', 'outer'), ('Ernte', 'crop'), ('Flüsse', 'rivers'), ('Knoten', 'nodes'), ('zitiert', 'cited'), ('Nabe', 'hub'), ('gezielt', 'targeted'), ('erkannte', 'realized'), ('Gründer', 'founder'), ('Dekade', 'decade'), ('Streit', 'dispute'), ('müde', 'tired'), ('negativ', 'adverse'), ('Auszug', 'excerpt'), ('entladen', 'discharge'), ('Getränke', 'drinks'), ('As', 'ace'), ('Stimmen', 'voices'), ('Kletterei', 'climbing'), ('Tonnen', 'tons'), ('Parfüm', 'perfume'), ('gefährlich', 'hazardous'), ('wiederherstellen', 'restore'), ('Stapel', 'stack'), ('Methodik', 'methodology'), ('Ruf', 'reputation'), ('Demokraten', 'democrats'), ('aufhängen', 'hang'), ('Kurve', 'curve'), ('Schöpfer', 'creator'), ('Bernstein', 'amber'), ('Museen', 'museums'), ('Verschlüsselung', 'coding'), ('Tracker', 'tracker'), ('Variation', 'variation'), ('Passage', 'passage'), ('übertragen', 'transferred'), ('Kofferraum', 'trunk'), ('Foto', 'photograph'), ('Wellen', 'waves'), ('Kamel', 'camel'), ('Verteiler', 'distributor'), ('chi', 'chi'), ('Versammlung', 'gathering'), ('Projektion', 'projection'), ('mathematisch', 'mathematical'), ('logisch', 'logical'), ('Soße', 'sauce'), ('Ruhm', 'fame'), ('spezialisiert', 'specialized'), ('Unternehmen', 'corporations'), ('Kritik', 'criticism'), ('Automobil', 'automobile'), ('Jury', 'judges'), ('Bemerkungen', 'remarks'), ('detektiert', 'detected'), ('Gemälde', 'paintings'), ('ging', 'walked'), ('entstehen', 'arising'), ('Populationen', 'populations'), ('ängstlich', 'afraid'), ('akustisch', 'acoustic'), ('Kassette', 'cassette'), ('Indikator', 'indicator'), ('jpg', 'jpg'), ('Fehler', 'mistake'), ('beseitigen', 'eliminate'), ('Mineral', 'mineral'), ('Rubin', 'ruby'), ('Perlen', 'beads'), ('Vermögen', 'fortune'), ('Segeltuch', 'canvas'), ('Schwelle', 'threshold'), ('Gemeinde', 'parish'), ('Bildschirme', 'screens'), ('Friedhof', 'cemetery'), ('Stadion', 'stadium'), ('Erkundung', 'exploration'), ('min', 'mins'), ('Stengel', 'stem'), ('Astronomie', 'astronomy'), ('Wettbewerbe', 'contests'), ('Grippe', 'flu'), ('Kostüm', 'costume'), ('Fahrräder', 'bikes'), ('Bischof', 'bishop'), ('zog', 'pulled'), ('Mais', 'corn'), ('Kompression', 'compression'), ('Festlegung', 'establishing'), ('Farmer', 'farmer'), ('Zinn', 'tin'), ('Sklave', 'slave'), ('sofort', 'instantly'), ('Coaching', 'coaching'), ('geprüft', 'examined'), ('Codierung', 'encoding'), ('Einreichungen', 'submissions'), ('Helden', 'heroes'), ('gemalt', 'painted'), ('Porträt', 'portrait'), ('Terrorist', 'terrorist'), ('ethisch', 'ethical'), ('Träger', 'carriers'), ('Mobilität', 'mobility'), ('Kampf', 'struggle'), ('Regelungen', 'schemes'), ('Leiden', 'suffering'), ('neutral', 'neutral'), ('Fischer', 'fisher'), ('Ratte', 'rat'), ('Speere', 'spears'), ('Beitritt', 'joining'), ('Überschrift', 'heading'), ('künstlich', 'artificial'), ('Lager', 'bearing'), ('spektakulär', 'spectacular'), ('Welten', 'worlds'), ('schuldig', 'guilty'), ('Aktivierung', 'activation'), ('Oase', 'haven'), ('Tablette', 'tablet'), ('Jury', 'jury'), ('DOS', 'dos'), ('Schwanz', 'tail'), ('Charme', 'charm'), ('heftig', 'violent'), ('möglicherweise', 'potentially'), ('Ranch', 'ranch'), ('Einschränkungen', 'constraints'), ('Kreuzung', 'crossing'), ('inklusive', 'inclusive'), ('Hütte', 'cottage'), ('betrunken', 'drunk'), ('beträchtlich', 'considerable'), ('Verbrechen', 'crimes'), ('aufgelöst', 'resolved'), ('Byte', 'byte'), ('Nase', 'nose'), ('Geäst', 'branches'), ('Ausländer', 'alien'), ('Prozessoren', 'processors'), ('Pleite', 'broke'), ('Komplexität', 'complexity'), ('ständig', 'constantly'), ('Entschlossenheit', 'resolve'), ('Gebiete', 'territories'), ('These', 'thesis'), ('Scheiben', 'discs'), ('häufig', 'frequent'), ('Decke', 'ceiling'), ('Pixel', 'pixels'), ('gen', 'gen'), ('Diamanten', 'diamonds'), ('Flotte', 'fleet'), ('Bündel', 'bunch'), ('theoretisch', 'theoretical'), ('Verweisung', 'referral'), ('Verlassen', 'quit'), ('Protokolle', 'protocols'), ('Lunge', 'lung'), ('Ersatz', 'substitute'), ('brillant', 'brilliant'), ('ti', 'ti'), ('Gel', 'gel'), ('gesprochen', 'spoken'), ('Omega', 'omega'), ('bewertet', 'evaluated'), ('blieb', 'stayed'), ('sieht', 'sees'), ('Beendigung', 'termination'), ('schaute', 'watched'), ('Haushalte', 'households'), ('einlösen', 'redeem'), ('Korn', 'grain'), ('Regime', 'regime'), ('Stier', 'bull'), ('architektonisch', 'architectural'), ('abweichen', 'differ'), ('Bewegungen', 'movements'), ('Reparaturen', 'repairs'), ('Atem', 'breath'), ('Komfort', 'amenities'), ('virtuell', 'virtually'), ('Markt', 'mart'), ('Kerze', 'candle'), ('hängend', 'hanging'), ('farbig', 'colored'), ('Geschichte', 'tale'), ('früher', 'formerly'), ('Beamer', 'projector'), ('gelegen', 'situated'), ('sucht', 'seeks'), ('streng', 'strictly'), ('psychologisch', 'psychological'), ('Vitamine', 'vitamins'), ('elegant', 'elegant'), ('Gewinne', 'gains'), ('Erneuerung', 'renewal'), ('Genealogie', 'genealogy'), ('als', 'deemed'), ('Wertung', 'scoring'), ('Ausgaben', 'expenditure'), ('Kritik', 'critics'), ('Algorithmen', 'algorithms'), ('Hacker', 'hacker'), ('Salon', 'salon'), ('Turbo', 'turbo'), ('heilen', 'cure'), ('ni', 'ni'), ('denkt', 'thinks'), ('Vorschlag', 'suggestion'), ('Soldat', 'soldier'), ('Bombe', 'bomb'), ('Schaden', 'harm'), ('Intervall', 'interval'), ('Spiegel', 'mirrors'), ('untersuchen', 'investigate'), ('deine', 'thy'), ('Platten', 'panels'), ('wiederholt', 'repeated'), ('Angriff', 'assault'), ('Hirsch', 'deer'), ('Zunge', 'tongue'), ('Bowling', 'bowling'), ('tri', 'tri'), ('Affe', 'monkey'), ('Anteil', 'proportion'), ('Rock', 'skirt'), ('Analysen', 'analyses'), ('Zeichnungen', 'drawings'), ('Bedeutung', 'significance'), ('Szenario', 'scenario'), ('Ihr', 'ye'), ('Arabisch', 'arabic'), ('Spur', 'gauge'), ('Schutz', 'protecting'), ('konfrontiert', 'faced'), ('Auflösung', 'solving'), ('produziert', 'produces'), ('intensiv', 'intensive'), ('Ketten', 'chains'), ('sechste', 'sixth'), ('engagieren', 'engage'), ('Schaltung', 'switching'), ('Korrespondenz', 'correspondence'), ('Importe', 'imports'), ('Aufsicht', 'supervision'), ('Ausgaben', 'expenditures'), ('Trennung', 'separation'), ('Zeugnis', 'testimony'), ('vermuten', 'suspect'), ('verpflichtend', 'mandatory'), ('Grenzen', 'boundaries'), ('Feier', 'celebration'), ('Filter', 'filtering'), ('Ehepartner', 'spouse'), ('exotisch', 'exotic'), ('Zuschauer', 'viewer'), ('reichend', 'reaching'), ('Lachen', 'laugh'), ('chirurgisch', 'surgical'), ('zerstören', 'destroy'), ('Zitat', 'citation'), ('yo', 'yo'), ('Lokal', 'premises'), ('bewährt', 'proved'), ('beleidigend', 'offensive'), ('Kaiserliche', 'imperial'), ('Dutzend', 'dozen'), ('Einsatz', 'deployment'), ('Stoff', 'cloth'), ('Lotus', 'lotus'), ('Lachs', 'salmon'), ('Ladung', 'cargo'), ('Direktive', 'directive'), ('Kamerad', 'mate'), ('Butter', 'butter'), ('Pfeffer', 'pepper'), ('Waffe', 'weapon'), ('Belastung', 'burden'), ('Bänder', 'tapes'), ('Zonen', 'zones'), ('Insel', 'isle'), ('schlank', 'slim'), ('Ahorn', 'maple'), ('Lebensmittelgeschäft', 'grocery'), ('Regierungs', 'governing'), ('Depot', 'depot'), ('alt', 'alt'), ('Kuchen', 'pie'), ('Mischung', 'blend'), ('Emission', 'emission'), ('ersichtlich', 'apparent'), ('Lehr', 'instructional'), ('Berechtigungen', 'permissions'), ('Toilette', 'toilet'), ('Platz', 'ranked'), ('Routen', 'routes'), ('Montage', 'mounting'), ('gebunden', 'tied'), ('ausgewogen', 'balanced'), ('verspätet', 'delayed'), ('Tal', 'dale'), ('Berechnung', 'calculation'), ('Villen', 'villas'), ('Gelegenheiten', 'occasions'), ('Gleichungen', 'equations'), ('Öl', 'oils'), ('September', 'sept'), ('außergewöhnlich', 'exceptional'), ('Angst', 'anxiety'), ('räumlich', 'spatial'), ('Befragten', 'respondents'), ('Überlegungen', 'considerations'), ('zahlt', 'pays'), ('sonnig', 'sunny'), ('liefert', 'delivers'), ('je', 'je'), ('Halskette', 'necklace'), ('zusammengesetzt', 'composite'), ('lang', 'lang'), ('Theater', 'theaters'), ('Entwerfen', 'designing'), ('Hoffnungen', 'hopes'), ('Beurteilungen', 'assessments'), ('Diagramm', 'diagram'), ('Schuhwerk', 'footwear'), ('sg', 'sg'), ('Völker', 'peoples'), ('Sieger', 'victor'), ('Lizenzen', 'licenses'), ('Bereiche', 'ranges'), ('Paare', 'pairs'), ('Empfindlichkeit', 'sensitivity'), ('Erhaltung', 'preservation'), ('isoliert', 'isolated'), ('Interim', 'interim'), ('unterstützt', 'assisted'), ('göttlich', 'divine'), ('genehmigen', 'approve'), ('Verbindung', 'compound'), ('Intensität', 'intensity'), ('technologisch', 'technological'), ('Abtreibung', 'abortion'), ('Dialog', 'dialog'), ('Veranstaltungsorte', 'venues'), ('sprengen', 'blast'), ('Adressierung', 'addressing'), ('Pole', 'pole'), ('Schild', 'shield'), ('Membran', 'membrane'), ('verzweifelt', 'desperate'), ('Mütter', 'mothers'), ('Demonstration', 'demonstration'), ('Regierungs', 'governmental'), ('hergestellt', 'manufactured'), ('Kerzen', 'candles'), ('Variationen', 'variations'), ('Mütter', 'moms'), ('heilig', 'sacred'), ('Sucht', 'addiction'), ('Chrom', 'chrome'), ('verweigert', 'refused'), ('Bremse', 'brake'), ('Außen', 'exterior'), ('Gruß', 'greeting'), ('Ökologie', 'ecology'), ('Tal', 'glen'), ('Arbeitslosigkeit', 'unemployment'), ('erzielter', 'scored'), ('Erweiterung', 'enhancement'), ('Klon', 'clone'), ('Geschwindigkeit', 'velocity'), ('Lambda', 'lambda'), ('zusammengesetzt', 'composed'), ('Tränen', 'tears'), ('Oase', 'oasis'), ('Taxi', 'cab'), ('Fa', 'fa'), ('Gesellschaften', 'societies'), ('Silizium', 'silicon'), ('identisch', 'identical'), ('Petroleum', 'petroleum'), ('konkurrieren', 'compete'), ('ist', 'ist'), ('Liebhaber', 'lover'), ('gehören', 'belong'), ('Lippen', 'lips'), ('begleiten', 'escort'), ('Teich', 'pond'), ('Fähre', 'ferry'), ('Hase', 'rabbit'), ('Beruf', 'profession'), ('Damm', 'dam'), ('Physiologie', 'physiology'), ('Ausfuhr', 'exports'), ('Reifen', 'tire'), ('Teilnehmer', 'participant'), ('Elektron', 'electron'), ('Ladungen', 'loads'), ('Heidekraut', 'heather'), ('Motel', 'motel'), ('Gewerkschaften', 'unions'), ('Fiskus', 'treasury'), ('belegt', 'occupied'), ('Waage', 'scales'), ('Belastung', 'strain'), ('verhaftet', 'arrested'), ('Untersuchungen', 'investigations'), ('gewonnen', 'gained'), ('Wäsche', 'laundry'), ('Erteilung', 'placing'), ('einstellen', 'adjust'), ('bewertet', 'assessed'), ('Verschlüsselung', 'encryption'), ('Füllung', 'filling'), ('auferlegte', 'imposed'), ('Schweigen', 'silence'), ('sowjetisch', 'soviet'), ('Besitz', 'possession'), ('Vertrag', 'treaty'), ('Trainer', 'trainer'), ('Organ', 'organ'), ('Zitrone', 'lemon'), ('Dunkelheit', 'darkness'), ('Spanne', 'span'), ('Scherz', 'joke'), ('Verpackung', 'packing'), ('Satzung', 'statute'), ('abgelehnt', 'rejected'), ('Schutz', 'shelter'), ('Kapelle', 'chapel'), ('Herstellung', 'manufacture'), ('Lagen', 'layers'), ('feiern', 'celebrate'), ('Gerät', 'appliance'), ('Mischung', 'mixture'), ('Fahrer', 'rider'), ('Radius', 'radius'), ('beeindruckend', 'impressive'), ('Schaf', 'sheep'), ('Architekt', 'architect'), ('Vorlesungen', 'lectures'), ('Weine', 'wines'), ('Tassen', 'cups'), ('Asche', 'ash'), ('Beiträger', 'contributors'), ('Salat', 'salad'), ('Verletzungen', 'violations'), ('Temperaturen', 'temperatures'), ('Wettbewerbe', 'competitions'), ('erhalten', 'preserve'), ('Gedicht', 'poem'), ('bleiben', 'staying'), ('Ostern', 'easter'), ('Theorien', 'theories'), ('Repository', 'repository'), ('Strom', 'streams'), ('Landung', 'landing'), ('hingerichtet', 'executed'), ('Verhandlungen', 'negotiations'), ('realistisch', 'realistic'), ('fragt', 'asks'), ('Zusammenfassung', 'synopsis'), ('Komponist', 'composer'), ('Bohne', 'bean'), ('Schwert', 'sword'), ('Modifikationen', 'modifications'), ('Koralle', 'coral'), ('Pixel', 'pixel'), ('Wegen', 'paths'), ('Blase', 'bubble'), ('por', 'por'), ('erwerben', 'acquire'), ('Gegenteil', 'contrary'), ('Tribun', 'tribune'), ('Schiff', 'vessel'), ('Säuren', 'acids'), ('Viren', 'viruses'), ('Aufkleber', 'stickers'), ('Reaktionen', 'reactions'), ('Glauben', 'beliefs'), ('Kader', 'squad'), ('analysieren', 'analyze'), ('Divisionen', 'divisions'), ('schwimmen', 'swim'), ('nano', 'nano'), ('Konzerte', 'concerts'), ('Männchen', 'males'), ('behalten', 'retain'), ('Farben', 'colours'), ('ausführen', 'execute'), ('Tunnel', 'tunnel'), ('Genre', 'genres'), ('Patente', 'patents'), ('Weizen', 'wheat'), ('Chroniken', 'chronicles'), ('Beschaffung', 'obtaining'), ('Biber', 'beaver'), ('Lesungen', 'readings'), ('Erweiterung', 'enlargement'), ('Adler', 'eagles'), ('Basen', 'bases'), ('Angeklagte', 'accused'), ('Kampagnen', 'campaigns'), ('Einheit', 'unity'), ('definiert', 'defines'), ('Instanzen', 'instances'), ('einheimisch', 'indigenous'), ('begonnen', 'begun'), ('Pakete', 'packets'), ('Anker', 'anchor'), ('Socken', 'socks'), ('auslösen', 'trigger'), ('Cholesterin', 'cholesterol'), ('Differential', 'differential'), ('Oberflächen', 'surfaces'), ('furchtbar', 'terrible'), ('Router', 'routers'), ('Uhren', 'clocks'), ('Arthritis', 'arthritis'), ('BIOS', 'bios'), ('Weibchen', 'females'), ('spiegelt', 'reflects'), ('Besteuerung', 'taxation'), ('Fieber', 'fever'), ('Küche', 'cuisine'), ('sicherlich', 'surely'), ('Praktiker', 'practitioners'), ('Satz', 'theorem'), ('Inflation', 'inflation'), ('dich', 'thee'), ('Verbindungen', 'compounds'), ('Schlagzeug', 'drums'), ('vernünftig', 'reasonably'), ('blank', 'bare'), ('Radikale', 'radical'), ('empfiehlt', 'recommends'), ('Regelung', 'controlling'), ('Schatz', 'treasure'), ('Flamme', 'flame'), ('Grube', 'pit'), ('Mono', 'mono'), ('Partikel', 'particles'), ('schwimmend', 'floating'), ('Koordinate', 'coordinate'), ('ausschließlich', 'exclusively'), ('Einschränkung', 'limitation'), ('geschlagen', 'struck'), ('Illustration', 'illustration'), ('Warnungen', 'warnings'), ('bauen', 'construct'), ('Apps', 'apps'), ('Anfragen', 'inquiries'), ('annektieren', 'annex'), ('Inspiration', 'inspiration'), ('Fracht', 'freight'), ('Finsternis', 'eclipse'), ('wirkt', 'affects'), ('Prognosen', 'forecasts'), ('entdecken', 'detect'), ('aktiv', 'actively'), ('kompliziert', 'complicated'), ('verletzt', 'injured'), ('Ausdrücke', 'expressions'), ('Tonne', 'ton'), ('Kurier', 'courier'), ('Hinweise', 'hints'), ('gif', 'gif'), ('Konflikte', 'conflicts'), ('Getränk', 'beverage'), ('Tribut', 'tribute'), ('immun', 'immune'), ('Forstwirtschaft', 'forestry'), ('Barrieren', 'barriers'), ('kippen', 'cant'), ('selten', 'rarely'), ('Angebote', 'offerings'), ('Barriere', 'barrier'), ('Fahrrad', 'bicycle'), ('Einrichtung', 'furnishings'), ('entstehen', 'arise'), ('keltisch', 'celtic'), ('Partikel', 'particle'), ('Feuchtigkeit', 'humidity'), ('Flaschen', 'bottles'), ('dm', 'dm'), ('Renaissance', 'renaissance'), ('Verordnung', 'ordinance'), ('Fotografen', 'photographers'), ('Infektionen', 'infections'), ('Schach', 'chess'), ('arbeitet', 'operates'), ('Feste', 'festivals'), ('Möglichkeiten', 'possibilities'), ('Ente', 'duck'), ('Kanal', 'canal'), ('Beitrag', 'contributing'), ('Kuh', 'cow'), ('analytisch', 'analytical'), ('Kostüme', 'costumes'), ('streng', 'strict'), ('Verkehr', 'circulation'), ('Delikt', 'offense'), ('Annahme', 'assumption'), ('Hobby', 'hobby'), ('Versuche', 'tries'), ('Erfindung', 'invention'), ('Techniker', 'technician'), ('Führungskräfte', 'executives'), ('Anfragen', 'enquiries'), ('kognitiv', 'cognitive'), ('erforschen', 'exploring'), ('Trick', 'trick'), ('Anfrage', 'enquiry'), ('Schließung', 'closure'), ('Bauholz', 'timber'), ('Volt', 'volt'), ('heftig', 'intense'), ('Unterstützer', 'supporters'), ('Satzung', 'statutes'), ('eingeschrieben', 'enrolled'), ('Sensoren', 'sensors'), ('Schraube', 'screw'), ('Minister', 'ministers'), ('öffentlich', 'publicly'), ('litt', 'suffered'), ('Aufnahme', 'intake'), ('Schmetterling', 'butterfly'), ('Mechanik', 'mechanics'), ('Header', 'headers'), ('Fehler', 'mistakes'), ('numerisch', 'numerical'), ('definieren', 'defining'), ('Zählen', 'counting'), ('Betrachtung', 'reflection'), ('Einladung', 'invitation'), ('Natrium', 'sodium'), ('Hormon', 'hormone'), ('Kinder', 'childrens'), ('Backstein', 'brick'), ('Griff', 'grip'), ('mittelalterlich', 'medieval'), ('Porzellan', 'porcelain'), ('gefangen', 'captured'), ('anständig', 'decent'), ('Guss', 'casting'), ('übersetzt', 'translated'), ('Donna', 'donna'), ('Krieger', 'warrior'), ('Kabine', 'cabin'), ('Scannen', 'scanning'), ('Polo', 'polo'), ('Kopieren', 'copying'), ('Horn', 'horn'), ('Journalismus', 'journalism'), ('Frosch', 'frog'), ('Grammatik', 'grammar'), ('Absicht', 'intention'), ('Reifen', 'tires'), ('unternommen', 'undertaken'), ('Gefahr', 'hazard'), ('Folgen', 'episodes'), ('kreisförmig', 'circular'), ('Zorn', 'anger'), ('Abbildungen', 'illustrations'), ('Chancen', 'chances'), ('Glück', 'happiness'), ('bizarr', 'bizarre'), ('ur', 'ur'), ('Früchte', 'fruits'), ('Kennzeichnung', 'identifier'), ('Band', 'ribbon'), ('Berechnungen', 'calculations'), ('jpeg', 'jpeg'), ('Anfang', 'startup'), ('praktisch', 'handy'), ('Wechsel', 'swap'), ('befreit', 'exempt'), ('Pflanzen', 'crops'), ('reduziert', 'reduces'), ('durchgeführt', 'accomplished'), ('Geometrie', 'geometry'), ('Eindruck', 'impression'), ('Gilde', 'guild'), ('Korrelation', 'correlation'), ('sim', 'sim'), ('nervös', 'nervous'), ('Duft', 'fragrance'), ('Replik', 'replica'), ('Stamm', 'tribe'), ('Trades', 'trades'), ('hervorragend', 'superb'), ('loswerden', 'rid'), ('Dreieinigkeit', 'trinity'), ('abgewickelt', 'handled'), ('Legenden', 'legends'), ('Boom', 'boom'), ('Ruhe', 'calm'), ('Meister', 'champions'), ('Etagen', 'floors'), ('Auswahlen', 'selections'), ('Vergleichen', 'comparing'), ('spricht', 'speaks'), ('beruflich', 'vocational'), ('Apotheken', 'pharmacies'), ('ln', 'ln'), ('Rolle', 'roller'), ('Stapel', 'batch'), ('organisieren', 'organize'), ('geschätzt', 'appreciated'), ('ändern', 'alter'), ('Kanten', 'edges'), ('Vermischung', 'mixing'), ('Griffe', 'handles'), ('Harmonie', 'harmony'), ('vornehm', 'distinguished'), ('Asthma', 'asthma'), ('Annahmen', 'assumptions'), ('geregelt', 'regulated'), ('Dreieck', 'triangle'), ('ändern', 'amend'), ('erwartet', 'anticipated'), ('orientalisch', 'oriental'), ('Belohnung', 'reward'), ('Wasserstoff', 'hydrogen'), ('vergleichbar', 'comparable'), ('befürworten', 'advocate'), ('Verwechslung', 'confusion'), ('Eingänge', 'inputs'), ('Garantien', 'warranties'), ('Genom', 'genome'), ('Medaille', 'medal'), ('Trainer', 'coaches'), ('Schiffe', 'vessels'), ('Hafen', 'harbour'), ('Öko', 'eco'), ('verletzlich', 'vulnerable'), ('ordnen', 'arrange'), ('künstlerisch', 'artistic'), ('Ehrungen', 'honors'), ('reflektiert', 'reflected'), ('einheitlich', 'unified'), ('Rasse', 'breed'), ('Detektor', 'detector'), ('ignoriert', 'ignored'), ('präzise', 'precise'), ('Auswertung', 'evaluating'), ('Lippe', 'lip'), ('versammeln', 'gather'), ('Bildung', 'forming'), ('Journalisten', 'journalists'), ('leicht', 'slight'), ('indirekt', 'indirect'), ('unter', 'amongst'), ('Stiftungen', 'foundations'), ('Horizont', 'horizon'), ('nu', 'nu'), ('tief', 'deeply'), ('Verbindlichkeiten', 'liabilities'), ('Preise', 'prizes'), ('verringert', 'decreased'), ('beschreiben', 'describing'), ('Optik', 'optics'), ('verfolgen', 'pursue'), ('Blitz', 'lightning'), ('ou', 'ou'), ('Zitate', 'quotations'), ('Inspektor', 'inspector'), ('Schlange', 'snake'), ('Erinnerung', 'reminder'), ('gesucht', 'searched'), ('Flachland', 'plains'), ('Einblicke', 'insights'), ('Fähigkeiten', 'abilities'), ('initiiert', 'initiated'), ('Karaoke', 'karaoke'), ('Falle', 'trap'), ('einsam', 'lonely'), ('ve', 've'), ('beobachten', 'observe'), ('Behälter', 'containers'), ('Einstellungen', 'attitudes'), ('Beere', 'berry'), ('Halsband', 'collar'), ('integrieren', 'integrate'), ('Soziologie', 'sociology'), ('Exponate', 'exhibits'), ('stirbt', 'dies'), ('Terrasse', 'terrace'), ('Bakterien', 'bacteria'), ('sollen', 'ought'), ('köstlich', 'delicious'), ('Traditionen', 'traditions'), ('endlich', 'finite'), ('sendet', 'sends'), ('dauerhaft', 'durable'), ('verbündet', 'allied'), ('Feuchtigkeit', 'moisture'), ('verwandeln', 'transform'), ('Timer', 'timer'), ('Tablets', 'tablets'), ('bekommen', 'gotten'), ('Erzieher', 'educators'), ('Gemüse', 'vegetable'), ('Vers', 'verse'), ('unabhängig', 'independently'), ('Konkurrenz', 'competitors'), ('Rakete', 'rocket'), ('Ja', 'aye'), ('Kugel', 'bullet'), ('Türme', 'towers'), ('Sichtweite', 'visibility'), ('Breite', 'latitude'), ('Bewusstsein', 'consciousness'), ('Tumor', 'tumor'), ('hässlich', 'ugly'), ('Einlagen', 'deposits'), ('Herrin', 'mistress'), ('Begegnung', 'encounter'), ('Watt', 'watts'), ('vierzig', 'forty'), ('Röhren', 'tubes'), ('versucht', 'attempted'), ('Priester', 'priest'), ('Analysten', 'analysts'), ('Hammer', 'hammer'), ('Invasion', 'invasion'), ('Läufer', 'runner'), ('Reihen', 'rows'), ('verabreicht', 'administered'), ('Begriff', 'notion'), ('Rechtschreibung', 'spelling'), ('Arktis', 'arctic'), ('Belohnt', 'rewards'), ('unter', 'beneath'), ('stärken', 'strengthen'), ('verteidigen', 'defend'), ('infrarot', 'infrared'), ('siebte', 'seventh'), ('Bauch', 'belly'), ('aggressiv', 'aggressive'), ('Anzeigen', 'advertisements'), ('Quartier', 'quarters'), ('gestohlen', 'stolen'), ('bestimmt', 'determines'), ('Skulptur', 'sculpture'), ('Poly', 'poly'), ('Ohren', 'ears'), ('Faust', 'fist'), ('Neo', 'neo'), ('Motivation', 'motivation'), ('Passagiere', 'passengers'), ('konsequent', 'consistently'), ('Überschuss', 'surplus'), ('graben', 'dig'), ('Taxi', 'taxi'), ('Anerkennung', 'appreciation'), ('om', 'om'), ('Beschränkung', 'restriction'), ('Gitarren', 'guitars'), ('Wesen', 'essence'), ('mächtig', 'mighty'), ('Menschheit', 'humanity'), ('Transkription', 'transcription'), ('Komplikationen', 'complications'), ('Wissenschaftler', 'scholars'), ('Galaxis', 'galaxy'), ('Pflege', 'caring'), ('Testament', 'testament'), ('Dominant', 'dominant'), ('Bauch', 'stomach'), ('teilweise', 'partially'), ('minimieren', 'minimize'), ('Reihen', 'ranks'), ('Debüt', 'debut'), ('Generationen', 'generations'), ('Turniere', 'tournaments'), ('verweigern', 'deny'), ('Anatomie', 'anatomy'), ('Kopfhörer', 'headphones'), ('Fraktion', 'fraction'), ('Trio', 'trio'), ('Vorgehen', 'proceeding'), ('Würfel', 'cube'), ('Defekte', 'defects'), ('Unsicherheit', 'uncertainty'), ('Nervenzusammenbruch', 'breakdown'), ('geregelt', 'settled'), ('Impfstoff', 'vaccine'), ('Schicksal', 'fate'), ('Buchungen', 'bookings'), ('Republikaner', 'republicans'), ('Dschungel', 'jungle'), ('Zen', 'zen'), ('dis', 'dis'), ('Prognose', 'prediction'), ('ökologisch', 'ecological'), ('Oval', 'oval'), ('impliziert', 'implies'), ('ser', 'ser'), ('Bewertung', 'appraisal'), ('Aussicht', 'prospect'), ('geographisch', 'geographical'), ('Spender', 'donor'), ('Spannung', 'tension'), ('Müll', 'trash'), ('Formen', 'shapes'), ('Stufe', 'tier'), ('Graf', 'earl'), ('Heimat', 'homeland'), ('Meisterschaft', 'championships'), ('Rassen', 'breeds'), ('Disko', 'disco'), ('aus', 'aus'), ('Veredelung', 'finishing'), ('Emotionen', 'emotions'), ('ewig', 'eternal'), ('Drehung', 'rotation'), ('nam', 'nam'), ('produktiv', 'productive'), ('Boulevard', 'boulevard'), ('Schwein', 'pig'), ('metrisch', 'metric'), ('Strafen', 'penalties'), ('abwechslungsreicher', 'varied'), ('grande', 'grande'), ('Darstellerin', 'actress'), ('zuordnen', 'assign'), ('unterbringen', 'accommodate'), ('Tiger', 'tigers'), ('Dörfer', 'villages'), ('Schatten', 'shade'), ('Chor', 'chorus'), ('Rhythmus', 'rhythm'), ('Ziffer', 'digit'), ('Symphonie', 'symphony'), ('plötzlich', 'sudden'), ('Annehmen', 'accepting'), ('Schwimmbäder', 'pools'), ('lyrisch', 'lyric'), ('Isolierung', 'isolation'), ('Geschwindigkeiten', 'speeds'), ('nachhaltig', 'sustained'), ('abgestimmt', 'matched'), ('ungefähr', 'approximate'), ('Seil', 'rope'), ('rational', 'rational'), ('Programmierer', 'programmer'), ('Kämpfer', 'fighters'), ('vererbt', 'inherited'), ('unvollständig', 'incomplete'), ('Gesang', 'vocals'), ('Brunnen', 'fountain'), ('legitim', 'legitimate'), ('Biographien', 'biographies'), ('Ermittler', 'investigator'), ('Kläger', 'plaintiff'), ('sanft', 'gentle'), ('würdig', 'worthy'), ('Architekten', 'architects'), ('Heilige', 'saints'), ('Unternehmer', 'entrepreneur'), ('trägt', 'carries'), ('Duo', 'duo'), ('überhöht', 'excessive'), ('spart', 'saves'), ('angesehen', 'regarded'), ('Bewertung', 'valuation'), ('unerwartet', 'unexpected'), ('Nebel', 'fog'), ('charakteristisch', 'characteristic'), ('Empfangshalle', 'lobby'), ('skizzierte', 'outlined'), ('enorm', 'enormous'), ('Karma', 'karma'), ('bestehen', 'consist'), ('Königinnen', 'queens'), ('Wissenschaftler', 'academics'), ('Stämme', 'tribes'), ('Unterscheidung', 'distinction'), ('Gefahren', 'hazards'), ('Befreiung', 'exemption'), ('Mieter', 'tenant'), ('Nachhaltigkeit', 'sustainability'), ('Tätowierung', 'tattoo'), ('Algebra', 'algebra'), ('Schatten', 'shadows'), ('dumm', 'silly'), ('frei', 'freely'), ('mild', 'mild'), ('Pelz', 'fur'), ('leicht', 'readily'), ('Zugehörigkeit', 'affiliation'), ('Zaun', 'fence'), ('unendlich', 'infinite'), ('Clan', 'clan'), ('Revolutionär', 'revolutionary'), ('Armbänder', 'bracelets'), ('Abhilfe', 'remedy'), ('Atmung', 'breathing'), ('kurz', 'briefly'), ('Dicke', 'thickness'), ('grafische', 'graphical'), ('Genius', 'genius'), ('Diskussion', 'discussing'), ('Kämpfer', 'fighter'), ('sinnvoll', 'meaningful'), ('adaptiert', 'adapted'), ('Ländereien', 'estates'), ('Teppich', 'rug'), ('Demokrat', 'democrat'), ('Bezirk', 'borough'), ('hält', 'maintains'), ('ka', 'ka'), ('beibehalten', 'retained'), ('Marmor', 'marble'), ('DM', 'dem'), ('Meditation', 'meditation'), ('Mikrofon', 'microphone'), ('Vereinigung', 'combining'), ('Riesen', 'giants'), ('organisieren', 'organizing'), ('Memo', 'memo'), ('Schinken', 'ham'), ('gelöst', 'solved'), ('Tide', 'tide'), ('Trennwand', 'partition'), ('unsichtbar', 'invisible'), ('Konsolen', 'consoles'), ('Magnet', 'magnet'), ('Übersetzungen', 'translations'), ('Jaguar', 'jaguar'), ('Ware', 'commodity'), ('Kilometer', 'kilometers'), ('Garantien', 'guarantees'), ('gotisch', 'gothic'), ('Zylinder', 'cylinder'), ('Hexe', 'witch'), ('Bock', 'buck'), ('Feinde', 'enemies'), ('Beratung', 'consultancy'), ('genießen', 'enjoying'), ('patrouillieren', 'patrol'), ('Geruch', 'smell'), ('Karneval', 'carnival'), ('grob', 'roughly'), ('Aufkleber', 'sticker'), ('Versprechen', 'promises'), ('Riff', 'reef'), ('Teilen', 'divide'), ('aufeinanderfolgenden', 'consecutive'), ('bon', 'bon'), ('Vorstellungen', 'representations'), ('chan', 'chan'), ('Melodien', 'tunes'), ('mas', 'mas'), ('Sätze', 'phrases'), ('kai', 'kai'), ('Halbinsel', 'peninsula'), ('langweilig', 'boring'), ('dom', 'dom'), ('Reden', 'speeches'), ('erreicht', 'reaches'), ('Schema', 'schema'), ('Kataloge', 'catalogs'), ('Ministerien', 'ministries'), ('parlamentarisch', 'parliamentary'), ('Präfix', 'prefix'), ('Savanne', 'savannah'), ('Fass', 'barrel'), ('Nerv', 'nerve'), ('dans', 'dans'), ('Planeten', 'planets'), ('Defizit', 'deficit'), ('erneuern', 'renew'), ('gekoppelt', 'coupled'), ('Schaltungen', 'circuits'), ('Textur', 'texture'), ('bestätigen', 'acknowledge'), ('Zelt', 'tent'), ('identifiziert', 'identifies'), ('Qualifikation', 'qualification'), ('Schlösser', 'locks'), ('Miniatur', 'miniature'), ('Euro', 'euros'), ('Piraten', 'pirates'), ('Antenne', 'aerial'), ('Falke', 'hawk'), ('Folge', 'consequence'), ('systematisch', 'systematic'), ('wahrgenommen', 'perceived'), ('Ursprünge', 'origins'), ('gemietet', 'hired'), ('bilden', 'makeup'), ('ui', 'ui'), ('Gewichte', 'weights'), ('geologisch', 'geological'), ('dauerhaft', 'lasting'), ('böse', 'wicked'), ('einleitet', 'introduces'), ('geschoben', 'pushed'), ('ro', 'ro'), ('Steigung', 'slope'), ('Dichter', 'poet'), ('Verschwörung', 'conspiracy'), ('Theologie', 'theology'), ('Nägel', 'nails'), ('offensichtlich', 'evident'), ('Fahrten', 'rides'), ('Epos', 'epic'), ('Veranstalter', 'organizer'), ('Allergie', 'allergy'), ('Sake', 'sake'), ('Kombinationen', 'combinations'), ('vorangestellt', 'preceding'), ('verdienen', 'merit'), ('Enzym', 'enzyme'), ('Flugzeuge', 'planes'), ('Scheiben', 'disks'), ('Verstärker', 'amplifier'), ('willkürlich', 'arbitrary'), ('prominent', 'prominent'), ('sans', 'sans'), ('baut', 'builds'), ('kontaktiert', 'contacted'), ('Welle', 'shaft'), ('lehnen', 'lean'), ('gelegentlich', 'occasional'), ('Innovationen', 'innovations'), ('Überprüfung', 'reviewing'), ('Panik', 'panic'), ('Staatsbürgerschaft', 'citizenship'), ('Ausrede', 'excuse'), ('Reformen', 'reforms'), ('Zwiebel', 'onion'), ('Sandwich', 'sandwich'), ('Alt', 'alto'), ('Hierarchie', 'hierarchy'), ('verlassen', 'abandoned'), ('Kreise', 'circles'), ('Beats', 'beats'), ('fröhlich', 'merry'), ('Kult', 'cult'), ('Strich', 'dash'), ('passiv', 'passive'), ('geschätzt', 'valued'), ('Käfig', 'cage'), ('Mut', 'courage'), ('Elevation', 'elevation'), ('Runde', 'lap'), ('Nutzung', 'utilization'), ('Getränke', 'beverages'), ('Klingeln', 'ping'), ('unterhaltsam', 'entertaining'), ('Voraussetzung', 'prerequisite'), ('Grenze', 'frontier'), ('Flüchtlinge', 'refugees'), ('Ritter', 'knights'), ('Hypothese', 'hypothesis'), ('Medikamente', 'medicines'), ('geändert', 'altered'), ('Lehre', 'doctrine'), ('szenisch', 'scenic'), ('Erweiterungen', 'enhancements'), ('Überschneidung', 'intersection'), ('Nähen', 'sewing'), ('Sammler', 'collectors'), ('anerkannt', 'recognised'), ('Rage', 'rage'), ('prix', 'prix'), ('Astrologie', 'astrology'), ('Berater', 'advisors'), ('Pavillon', 'pavilion'), ('Taktik', 'tactics'), ('Zusatz', 'supplemental'), ('talentiert', 'talented'), ('Kissen', 'pillow'), ('Verbreitung', 'spreading'), ('Provinzen', 'provinces'), ('stehlen', 'steal'), ('Paket', 'parcel'), ('Vorfall', 'incidence'), ('Ängste', 'fears'), ('vorhersagen', 'predict'), ('Geschmack', 'flavor'), ('hungrig', 'hungry'), ('metallisch', 'metallic'), ('Interferenz', 'interference'), ('Krieger', 'warriors'), ('atmosphärisch', 'atmospheric'), ('Heiligenschein', 'halo'), ('Eltern', 'parental'), ('verwiesen', 'referenced'), ('Streiks', 'strikes'), ('Ameise', 'ant'), ('Vorschlag', 'proposition'), ('geeignet', 'apt'), ('behandelt', 'dealt'), ('Händler', 'trader'), ('geworfen', 'thrown'), ('Kriterium', 'criterion'), ('Abzeichen', 'badge'), ('Zivilisation', 'civilization'), ('Heide', 'heath'), ('enorm', 'tremendous'), ('führt', 'performs'), ('Reich', 'realm'), ('korrigiert', 'corrected'), ('Helm', 'helmet'), ('angetroffen', 'encountered'), ('Tsunami', 'tsunami'), ('Gelehrte', 'scholar'), ('umgeben', 'surrounded'), ('Geologie', 'geology'), ('Kreaturen', 'creatures'), ('gelöscht', 'cleared'), ('erreichen', 'accomplish'), ('Ecken', 'corners'), ('Vegetarier', 'vegetarian'), ('Hefe', 'yeast'), ('pas', 'pas'), ('sucht', 'investigated'), ('Botschafter', 'ambassador'), ('beschichtete', 'coated'), ('Untergang', 'doom'), ('Routinen', 'routines'), ('Wesen', 'beings'), ('Vertrauen', 'reliance'), ('Mythos', 'myth'), ('Bach', 'brook'), ('fu', 'fu'), ('Phänomen', 'phenomenon'), ('Ensemble', 'ensemble'), ('versicherte', 'assured'), ('bewusst', 'conscious'), ('Akzent', 'accent'), ('Ehefrauen', 'wives'), ('nutzen', 'utilize'), ('Versprechen', 'pledge'), ('Vampir', 'vampire'), ('Dock', 'dock'), ('organisiert', 'organised'), ('Musiker', 'musician'), ('Begrenzung', 'limiting'), ('restauriert', 'restored'), ('Hinweis', 'hint'), ('Rüstung', 'armor'), ('Anmerkung', 'remark'), ('Dutzende', 'dozens'), ('variiert', 'varies'), ('Argumentation', 'reasoning'), ('Wächter', 'guards'), ('Öffnungen', 'openings'), ('Ersetzung', 'replacing'), ('Forscher', 'researcher'), ('Räte', 'councils'), ('Berufe', 'occupations'), ('anerkannt', 'acknowledged'), ('Schweinefleisch', 'pork'), ('zu', 'zu'), ('Gleichgewicht', 'equilibrium'), ('Rohre', 'pipes'), ('Hütten', 'cottages'), ('verschmelzen', 'merge'), ('Privileg', 'privilege'), ('entwickelt', 'develops'), ('Chassis', 'chassis'), ('Einschätzung', 'estimation'), ('Scheune', 'barn'), ('Frost', 'frost'), ('Institute', 'institutes'), ('Schimmel', 'mold'), ('Freifrau', 'dame'), ('Yacht', 'yacht'), ('bevorzugt', 'prefers'), ('Bohrung', 'drilling'), ('Kraut', 'herb'), ('Bruch', 'breach'), ('Wal', 'whale'), ('Reisende', 'traveller'), ('Mittel', 'appropriations'), ('vermutlich', 'suspected'), ('Tomaten', 'tomatoes'), ('Lehrer', 'instructors'), ('Schwung', 'momentum'), ('Flosse', 'fin'), ('Pastor', 'pastor'), ('Schlamm', 'mud'), ('Smaragd', 'emerald'), ('wächst', 'grows'), ('Traktat', 'tract'), ('ul', 'ul'), ('Ballett', 'ballet'), ('Journalist', 'journalist'), ('Religionen', 'religions'), ('Knoblauch', 'garlic'), ('scheinen', 'shine'), ('Explosion', 'explosion'), ('Slip', 'briefs'), ('Unterschriften', 'signatures'), ('Ozon', 'ozone'), ('Disziplinen', 'disciplines'), ('casa', 'casa'), ('Gespräche', 'conversations'), ('Radios', 'radios'), ('Tarif', 'tariff'), ('vereinfachte', 'simplified'), ('Muskeln', 'muscles'), ('schnell', 'swift'), ('Vagina', 'vagina'), ('Champagner', 'champagne'), ('Abweichung', 'deviation'), ('Samba', 'samba'), ('beschäftigen', 'employ'), ('Pinguin', 'penguin'), ('magisch', 'magical'), ('Einflüsse', 'influences'), ('Inspektionen', 'inspections'), ('Bewässerung', 'irrigation'), ('Wunder', 'miracle'), ('hydraulisch', 'hydraulic'), ('Penetration', 'penetration'), ('Wunde', 'wound'), ('Schöne', 'belle'), ('rosa', 'rosa'), ('Überzeugung', 'conviction'), ('faul', 'lazy'), ('Qualitäten', 'qualities'), ('Väter', 'fathers'), ('Lade', 'charging'), ('wichtig', 'importantly'), ('zierlich', 'petite'), ('Gerät', 'apparatus'), ('Terrain', 'terrain'), ('Erläuterung', 'explaining'), ('Streifen', 'strips'), ('Nominierung', 'nomination'), ('empirisch', 'empirical'), ('Wurm', 'worm'), ('Abhängigkeit', 'dependence'), ('diskret', 'discrete'), ('Anfänger', 'beginner'), ('Deckel', 'lid'), ('Sexualität', 'sexuality'), ('Saphir', 'sapphire'), ('Privilegien', 'privileges'), ('spezialisiert', 'specializing'), ('Markierung', 'marking'), ('Sheriff', 'sheriff'), ('abgelehnt', 'declined'), ('Spion', 'spies'), ('Motorräder', 'motorcycles'), ('wählen', 'elect'), ('Autobahnen', 'highways'), ('konzentrieren', 'concentrate'), ('intim', 'intimate'), ('Moleküle', 'molecules'), ('Runde', 'rounds'), ('Kühlschrank', 'refrigerator'), ('Intervalle', 'intervals'), ('Sätze', 'sentences'), ('Holocaust', 'holocaust'), ('Flieger', 'flyer'), ('Erbsen', 'peas'), ('Dosierung', 'dosage'), ('Unterschied', 'variance'), ('Navigator', 'navigator'), ('Nadel', 'needle'), ('Bad', 'baths'), ('Bremsen', 'brakes'), ('og', 'og'), ('ko', 'ko'), ('besitzt', 'owns'), ('Schicksal', 'destiny'), ('Landschaften', 'landscapes'), ('Berechnung', 'computation'), ('Heu', 'hay'), ('Heil', 'salvation'), ('Vorhersagen', 'predictions'), ('Lern', 'learners'), ('Zeichen', 'token'), ('Zink', 'zinc'), ('Opfern', 'sacrifice'), ('Sucher', 'seekers'), ('Guru', 'guru'), ('geeignet', 'suited'), ('numerisch', 'numeric'), ('Anthropologie', 'anthropology'), ('Kaiser', 'emperor'), ('grad', 'grad'), ('Gürtel', 'belts'), ('Schwarze', 'blacks'), ('gebildet', 'educated'), ('stolz', 'proudly'), ('Notwendigkeit', 'necessity'), ('Kurven', 'curves'), ('Touren', 'touring'), ('Scheitel', 'vertex'), ('Tomate', 'tomato'), ('Reisen', 'travels'), ('blass', 'pale'), ('Funktion', 'functioning'), ('Wirtschaft', 'economies'), ('unternehmen', 'undertake'), ('erklären', 'declare'), ('Ventile', 'valves'), ('Lücken', 'gaps'), ('Erfolge', 'achievements'), ('reißen', 'tear'), ('lehrt', 'teaches'), ('Null', 'nil'), ('Fremder', 'stranger'), ('Nest', 'nest'), ('Gericht', 'tribunal'), ('ausgeschlossen', 'ruled'), ('Pensionen', 'pensions'), ('Gebete', 'prayers'), ('Polizist', 'cop'), ('Jugendliche', 'adolescent'), ('Nominierungen', 'nominations'), ('Banane', 'banana'), ('einleitend', 'introductory'), ('Reservoir', 'reservoir'), ('Auftreten', 'occurrence'), ('Idol', 'idol'), ('blutig', 'bloody'), ('erinnern', 'remind'), ('reizend', 'charming'), ('Zahn', 'tooth'), ('respektierte', 'respected'), ('Aufenthalte', 'stays'), ('Affäre', 'affair'), ('beschränken', 'restrict'), ('Minen', 'mines'), ('Porträts', 'portraits'), ('interpretiert', 'interpreted'), ('Auswertungen', 'evaluations'), ('Beseitigung', 'elimination'), ('Meter', 'metres'), ('hypothetisch', 'hypothetical'), ('Hubschrauber', 'helicopter'), ('Bleistift', 'pencil'), ('Künstler', 'performer'), ('Provisionen', 'commissions'), ('Kugel', 'sphere'), ('Moos', 'moss'), ('Verhältnisse', 'ratios'), ('Eintracht', 'concord'), ('graduierte', 'graduated'), ('unterstützt', 'endorsed'), ('überraschend', 'surprising'), ('Lanze', 'lance'), ('Leiter', 'ladder'), ('Kork', 'cork'), ('Senatoren', 'senators'), ('Blutung', 'bleeding'), ('Charakterisierung', 'characterization'), ('Wahrscheinlichkeit', 'likelihood'), ('Bahnen', 'lanes'), ('Grundlage', 'fundamentals'), ('Kontamination', 'contamination'), ('Kuppel', 'dome'), ('segnen', 'bless'), ('Verhandlung', 'negotiation'), ('Kamm', 'crest'), ('Gegner', 'opponents'), ('Triumph', 'triumph'), ('nominiert', 'nominated'), ('Schweißen', 'welding'), ('Orgasmus', 'orgasm'), ('Legierung', 'alloy'), ('Stellplätze', 'plots'), ('sanft', 'gently'), ('Sperrung', 'locking'), ('umstritten', 'controversial'), ('Unentschieden', 'draws'), ('Kühlschrank', 'fridge'), ('Klingen', 'blades'), ('Schlaufen', 'loops'), ('Schwall', 'surge'), ('Trauma', 'trauma'), ('Inserat', 'advert'), ('Defensive', 'defensive'), ('verboten', 'forbidden'), ('Vanille', 'vanilla'), ('Programmierer', 'programmers'), ('überwacht', 'monitored'), ('Installationen', 'installations'), ('Seelen', 'souls'), ('motiviert', 'motivated'), ('Dumm', 'dumb'), ('hohl', 'hollow'), ('Gewölbe', 'vault'), ('Rille', 'groove'), ('Offenbarung', 'revelation'), ('Verfolgung', 'pursuit'), ('Delegation', 'delegation'), ('Drähte', 'wires'), ('Wörterbücher', 'dictionaries'), ('Transparenz', 'transparency'), ('Orbit', 'orbit'), ('Währungen', 'currencies'), ('Niger', 'niger'), ('Positionierung', 'positioning'), ('Kolonie', 'colony'), ('Kanone', 'cannon'), ('Zirkus', 'circus'), ('gefördert', 'promoted'), ('Forelle', 'trout'), ('Leistung', 'feat'), ('vorübergehend', 'temporarily'), ('gekocht', 'cooked'), ('übertragen', 'transmit'), ('Frequenzen', 'frequencies'), ('Reflexionen', 'reflections'), ('Hunger', 'hunger'), ('Gemeinde', 'municipality'), ('Detektiv', 'detective'), ('Zement', 'cement'), ('erleben', 'experiencing'), ('Kamin', 'fireplace'), ('Billigung', 'endorsement'), ('Textilien', 'textiles'), ('Rakete', 'missile'), ('Psychiatrie', 'psychiatry'), ('Assists', 'assists'), ('Rechnungsprüfer', 'auditor'), ('Geige', 'violin'), ('Prophet', 'prophet'), ('Oxid', 'oxide'), ('ausgezeichnet', 'magnificent'), ('sofort', 'promptly'), ('Anpassung', 'adaptation'), ('schädlich', 'harmful'), ('sexuell', 'sexually'), ('Gehege', 'enclosure'), ('Glucose', 'glucose'), ('Norm', 'norm'), ('Wiedergabe', 'playback'), ('Schildkröte', 'turtle'), ('Entfernungen', 'distances'), ('Absorption', 'absorption'), ('Schätze', 'treasures'), ('Fossil', 'fossil'), ('schlecht', 'badly'), ('Kommunist', 'communist'), ('Unternehmer', 'entrepreneurs'), ('Roboter', 'robots'), ('Foul', 'foul'), ('Biodiversität', 'biodiversity'), ('Aufregung', 'excitement'), ('verbal', 'verbal'), ('Meere', 'seas'), ('mysteriös', 'mysterious'), ('Neuheit', 'novelty'), ('Fliesen', 'tiles'), ('Bibliothekar', 'librarian'), ('schaltet', 'switched'), ('ru', 'ru'), ('Pose', 'pose'), ('Gramm', 'grams'), ('Therapeut', 'therapist'), ('Budget', 'budgets'), ('Ziege', 'goat'), ('machen', 'render'), ('Segel', 'sail'), ('Kommissare', 'commissioners'), ('dicht', 'dense'), ('mutig', 'brave'), ('Spedition', 'forwarding'), ('furchtbar', 'awful'), ('Flugzeug', 'airplane'), ('Organismen', 'organisms'), ('Fernrohr', 'telescope'), ('Asbest', 'asbestos'), ('Förderung', 'advancement'), ('Weide', 'willow'), ('Bewerbungen', 'resumes'), ('existierte', 'existed'), ('Generatoren', 'generators'), ('erzeugt', 'generates'), ('Kartoffeln', 'potatoes'), ('gründlich', 'thorough'), ('Rezeptoren', 'receptors'), ('Optimum', 'optimum'), ('Kreatur', 'creature'), ('einsam', 'lone'), ('subtil', 'subtle'), ('Streifen', 'stripes'), ('Firmware', 'firmware'), ('Schäfer', 'shepherd'), ('Wiege', 'cradle'), ('Kanzler', 'chancellor'), ('Mehl', 'flour'), ('Kontroverse', 'controversy'), ('legendär', 'legendary'), ('Chor', 'choir'), ('Vermeidung', 'avoiding'), ('schön', 'beautifully'), ('erwartet', 'expects'), ('Springen', 'jumping'), ('Stoffe', 'fabrics'), ('Polymer', 'polymer'), ('Hygiene', 'hygiene'), ('Tugend', 'virtue'), ('Chirurgen', 'surgeons'), ('Mandat', 'mandate'), ('Korpus', 'corpus'), ('Terminologie', 'terminology'), ('Gentleman', 'gentleman'), ('verurteilt', 'convicted'), ('Jet', 'jets'), ('Indizes', 'indices'), ('qui', 'qui'), ('bedrohlich', 'threatening'), ('Aktivisten', 'activists'), ('Häftling', 'prisoner'), ('ermutigt', 'encourages'), ('gebaut', 'assembled'), ('Terminals', 'terminals'), ('roh', 'crude'), ('Untersucht', 'examines'), ('Wikinger', 'viking'), ('Aufräumen', 'cleanup'), ('bedingt', 'conditional'), ('angegriffen', 'attacked'), ('kommt', 'arrives'), ('Übersetzer', 'translator'), ('Automobil', 'automobiles'), ('Traktor', 'tractor'), ('Kontinent', 'continent'), ('Tarife', 'fares'), ('Längengrad', 'longitude'), ('hoffte', 'hoped'), ('Einfügung', 'insertion'), ('Zwang', 'constraint'), ('Stärkung', 'strengthening'), ('wünschen', 'wishing'), ('Isolierung', 'insulation'), ('Verletzung', 'infringement'), ('gebogen', 'bent'), ('subjektiv', 'subjective'), ('Monster', 'monsters'), ('Asyl', 'asylum'), ('Anteil', 'stake'), ('Cocktail', 'cocktail'), ('Sorten', 'varieties'), ('Gift', 'poison'), ('dominiert', 'dominated'), ('teuer', 'costly'), ('Derivate', 'derivatives'), ('verhindert', 'prevents'), ('Gewehr', 'rifle'), ('Rassismus', 'racism'), ('interpretieren', 'interpret'), ('Übereinstimmung', 'accord'), ('bescheiden', 'modest'), ('Spieler', 'gamers'), ('Sortierung', 'sorting'), ('Liaison', 'liaison'), ('Glühbirnen', 'bulbs'), ('Touristen', 'tourists'), ('Verhaltensweisen', 'behaviors'), ('klären', 'clarify'), ('Taille', 'waist'), ('zugeschrieben', 'attributed'), ('Eule', 'owl'), ('Kristalle', 'crystals'), ('überschreitet', 'exceeds'), ('komplementär', 'complementary'), ('Kämpfe', 'battles'), ('bitter', 'bitter'), ('Memorandum', 'memorandum'), ('Drachen', 'dragons'), ('Lärm', 'din'), ('unglaublich', 'incredibly'), ('Delegierte', 'delegates'), ('psychiatrisch', 'psychiatric'), ('Jugendliche', 'teenagers'), ('Hof', 'courtyard'), ('Präsidenten', 'presidents'), ('abfahren', 'depart'), ('ausdrücklich', 'expressly'), ('Lilie', 'lily'), ('Aufsicht', 'oversight'), ('Harz', 'resin'), ('Alliierte', 'allies'), ('konserviert', 'preserved'), ('gekreuzt', 'crossed'), ('aufsteigend', 'ascending'), ('nominal', 'nominal'), ('zerfallen', 'decay'), ('Quarz', 'quartz'), ('Register', 'registers'), ('achte', 'eighth'), ('autorisiert', 'authorised'), ('verbessert', 'improves'), ('Befürworter', 'advocates'), ('Phänomene', 'phenomena'), ('Neigung', 'tilt'), ('Granit', 'granite'), ('Volk', 'masses'), ('Athlet', 'athlete'), ('Franc', 'franc'), ('Ähnlichkeit', 'similarity'), ('Leck', 'leak'), ('Berater', 'adviser'), ('Broschüre', 'booklet'), ('erwartet', 'expecting'), ('Umsatz', 'turnover'), ('Urin', 'urine'), ('Handtuch', 'towel'), ('Ingwer', 'ginger'), ('Chromosom', 'chromosome'), ('als', 'als'), ('Fliegen', 'flies'), ('Kompetenz', 'competence'), ('Weinen', 'crying'), ('Amateure', 'amateurs'), ('Kran', 'crane'), ('Untersuchung', 'investigating'), ('faul', 'rotten'), ('Gewohnheit', 'habit'), ('Ehre', 'honour'), ('schützt', 'protects'), ('Iris', 'iris'), ('verwaltet', 'manages'), ('Erosion', 'erosion'), ('Zimmermann', 'carpenter'), ('Khan', 'khan'), ('unzureichend', 'insufficient'), ('Formulierung', 'formulation'), ('klug', 'clever'), ('Herren', 'lords'), ('angenehm', 'enjoyable'), ('Halbmond', 'crescent'), ('sechzig', 'sixty'), ('konzentriert', 'concentrated'), ('unterscheiden', 'distinguish'), ('ei', 'ei'), ('Projektionen', 'projections'), ('Funke', 'spark'), ('Sicherung', 'securing'), ('Weg', 'pathway'), ('Detektoren', 'detectors'), ('Spitze', 'spike'), ('Zutat', 'ingredient'), ('Vorhang', 'curtain'), ('offenbart', 'disclosed'), ('taktisch', 'tactical'), ('Piloten', 'pilots'), ('Expedition', 'expedition'), ('operativ', 'operative'), ('Humor', 'humour'), ('mol', 'mol'), ('Impressum', 'imprint'), ('Unterstützung', 'assisting'), ('Defekt', 'defect'), ('schlecht', 'poorly'), ('Göttin', 'goddess'), ('Beobachter', 'observers'), ('Magneten', 'magnets'), ('Formeln', 'formulas'), ('geräumig', 'spacious'), ('argumentiert', 'argues'), ('Böden', 'soils'), ('Organe', 'organs'), ('det', 'det'), ('Loyalität', 'loyalty'), ('treu', 'faithful'), ('Delikt', 'offence'), ('Lithium', 'lithium'), ('Sprung', 'leap'), ('Gründung', 'founding'), ('Schwan', 'swan'), ('Pflanzung', 'planting'), ('Bündnis', 'covenant'), ('Archäologie', 'archaeology'), ('Matrose', 'sailor'), ('Sorgen', 'cares'), ('Heiligtum', 'sanctuary'), ('Statue', 'statue'), ('Zitat', 'quotation'), ('Majors', 'majors'), ('Manipulation', 'manipulation'), ('Glocken', 'bells'), ('Toxizität', 'toxicity'), ('Sender', 'transmitter'), ('Nachbarschaften', 'neighborhoods'), ('Trophäe', 'trophy'), ('Emotion', 'emotion'), ('Sehenswürdigkeiten', 'sights'), ('Uniformen', 'uniforms'), ('verwundet', 'wounded'), ('Derivat', 'derivative'), ('Belegung', 'occupancy'), ('Dosen', 'doses'), ('erziehen', 'educate'), ('Vorurteil', 'prejudice'), ('Techniker', 'technicians'), ('wahrscheinlich', 'probable'), ('Ausgabe', 'issuance'), ('Dekoration', 'decoration'), ('Angehörige', 'nationals'), ('Trojaner', 'trojan'), ('Assistenten', 'assistants'), ('Berater', 'counselor'), ('erlassen', 'enacted'), ('instabil', 'unstable'), ('gedrängt', 'urged'), ('reflektierenden', 'reflecting'), ('Gewinnung', 'gaining'), ('endgültig', 'definitive'), ('gereist', 'traveled'), ('anpassen', 'adapt'), ('Beitritt', 'accession'), ('Regler', 'regulator'), ('Brennstoffe', 'fuels'), ('Soja', 'soy'), ('ordentlich', 'neat'), ('Benennung', 'naming'), ('Stern', 'stern'), ('gearbeitete', 'crafted'), ('Dummkopf', 'idiot'), ('besteht', 'comprised'), ('Aliens', 'aliens'), ('Änderungen', 'edits'), ('Rabe', 'raven'), ('Wohnung', 'dwelling'), ('symbolisch', 'symbolic'), ('Winkel', 'angles'), ('Drücke', 'pressures'), ('Venus', 'venus'), ('Flammen', 'flames'), ('Primitive', 'primitive'), ('Strumpf', 'stocking'), ('Ökosystem', 'ecosystem'), ('Hallen', 'halls'), ('Einfachheit', 'simplicity'), ('Dämon', 'demon'), ('begrüßt', 'welcomed'), ('Notation', 'notation'), ('Tante', 'aunt'), ('Krähe', 'crow'), ('semantisch', 'semantic'), ('abgesetzt', 'discontinued'), ('entscheidet', 'decides'), ('Globalisierung', 'globalization'), ('Esel', 'asses'), ('Kompass', 'compass'), ('gewachsen', 'evolved'), ('Infanterie', 'infantry'), ('berühmt', 'renowned'), ('Gang', 'corridor'), ('philosophisch', 'philosophical'), ('Rechtfertigung', 'justification'), ('unbesetzt', 'vacant'), ('Festsetzung', 'fixing'), ('Gramm', 'gram'), ('versteckt', 'hiding'), ('Farbstoff', 'dye'), ('Alphabet', 'alphabet'), ('gereinigt', 'cleaned'), ('geehrt', 'honored'), ('optisch', 'optic'), ('Telefone', 'telephones'), ('Tagebücher', 'diaries'), ('Trauer', 'grief'), ('Schweiß', 'sweat'), ('Delphin', 'dolphin'), ('Wunder', 'wonders'), ('Belüftung', 'ventilation'), ('Masken', 'masks'), ('Büste', 'bust'), ('Gasse', 'alley'), ('Bahnen', 'pathways'), ('Telegraph', 'telegraph'), ('Monument', 'monument'), ('formal', 'formally'), ('Tau', 'dew'), ('zurückgezogen', 'withdrawn'), ('Debatten', 'debates'), ('Identitäten', 'identities'), ('Mangel', 'deficiency'), ('Sattel', 'saddle'), ('Malaria', 'malaria'), ('treu', 'loyal'), ('Tendenz', 'tendency'), ('verwendet', 'utilized'), ('ein', 'ein'), ('Fernglas', 'binoculars'), ('einleiten', 'initiate'), ('rein', 'purely'), ('lebendig', 'vivid'), ('Behauptungen', 'allegations'), ('entspricht', 'corresponds'), ('Daemon', 'daemon'), ('gefeiert', 'celebrated'), ('Jäger', 'hunters'), ('handelten', 'acted'), ('Koeffizient', 'coefficient'), ('Schädel', 'skull'), ('Fortsetzung', 'continuation'), ('Diener', 'servant'), ('Falke', 'falcon'), ('gemeinsam', 'jointly'), ('vermieden', 'avoided'), ('Erklärungen', 'explanations'), ('erneuert', 'renewed'), ('Kritiker', 'critic'), ('Sediment', 'sediment'), ('Quadrate', 'squares'), ('Lieferwagen', 'vans'), ('Kegel', 'cone'), ('überlebt', 'survived'), ('Häufigkeit', 'prevalence'), ('Fragment', 'fragment'), ('verpflichtet', 'commits'), ('Kobra', 'cobra'), ('warf', 'threw'), ('hoc', 'hoc'), ('Darsteller', 'performers'), ('Dessert', 'dessert'), ('Dissertation', 'dissertation'), ('neunte', 'ninth'), ('Begeisterung', 'enthusiasm'), ('Feierlichkeiten', 'celebrations'), ('Gouverneure', 'governors'), ('Atome', 'atoms'), ('Gewebe', 'tissues'), ('Rampe', 'ramp'), ('schön', 'nicely'), ('della', 'della'), ('Vorherrschaft', 'domination'), ('Akkorde', 'chords'), ('Beeinträchtigung', 'impairment'), ('Molekül', 'molecule')]\n"
     ]
    }
   ],
   "source": [
    "print(word_pairs_de_en)"
   ]
  },
  {
   "cell_type": "code",
   "execution_count": 13,
   "id": "db1808f1",
   "metadata": {
    "ExecuteTime": {
     "end_time": "2022-01-21T18:54:58.611647Z",
     "start_time": "2022-01-21T18:54:58.608180Z"
    }
   },
   "outputs": [],
   "source": [
    "# let's now create the matrices of aligned vectors of word translations, \n",
    "# given monolingual embeddings and word translation pairs\n",
    "\n",
    "def align_word_vectors(src_vecs, src_vocab, trg_vecs, trg_vocab, trans_pairs):\n",
    "    src_matrix =  []\n",
    "    trg_matrix =  []\n",
    "    \n",
    "    # for each pair of words in our translation pairs\n",
    "    for src_word, trg_word in trans_pairs:\n",
    "        # add the vector of the source language word to the source matrix\n",
    "        src_matrix.append(src_vecs[src_vocab[src_word.lower()]])\n",
    "        # add the vector of the corresponding (translation) target language word to the target matrix\n",
    "        trg_matrix.append(trg_vecs[trg_vocab[trg_word.lower()]])\n",
    "        \n",
    "    # return the row-aligned matrices (at the same index are vectors of mutual translations)\n",
    "    # from these matrices, we will compute the projection/alignment matrix using the Procrustes method\n",
    "    return numpy.array(src_matrix), numpy.array(trg_matrix)\n",
    "\n"
   ]
  },
  {
   "cell_type": "code",
   "execution_count": 14,
   "id": "2199324b",
   "metadata": {
    "ExecuteTime": {
     "end_time": "2022-01-21T18:54:59.718831Z",
     "start_time": "2022-01-21T18:54:59.700517Z"
    }
   },
   "outputs": [
    {
     "name": "stdout",
     "output_type": "stream",
     "text": [
      "(5000, 300)\n",
      "(5000, 300)\n"
     ]
    }
   ],
   "source": [
    "src_de_en, trg_de_en = align_word_vectors(emb_dict[\"de\"][1],emb_dict[\"de\"][0],emb_dict[\"en\"][1],emb_dict[\"en\"][0],word_pairs_de_en)#TODO: call the align_word_vectors to align embeddings for given translation pairs \n",
    "                       # between German (source) and English (target)  \n",
    "\n",
    "print(src_de_en.shape)\n",
    "print(trg_de_en.shape)\n"
   ]
  },
  {
   "cell_type": "code",
   "execution_count": 15,
   "id": "d2a451e7",
   "metadata": {
    "ExecuteTime": {
     "end_time": "2022-01-21T19:08:47.210892Z",
     "start_time": "2022-01-21T19:08:47.207475Z"
    }
   },
   "outputs": [],
   "source": [
    "# let's learn a projection matrix, given the aligned matrices of vectors of word translations\n",
    "# we will use the so-called Procrustes solution of the alignment problem (i.e., finding the optimal projection matrix)\n",
    "def get_projection_procrustes(src_mat, trg_mat):\n",
    "    product = numpy.dot(numpy.transpose(src_mat),trg_mat)#TODO: complete this line so the result is a correct projection matrix from source to target embedding space\n",
    "    U, S, V = numpy.linalg.svd(product)\n",
    "    \n",
    "    return numpy.matmul(U, V)\n"
   ]
  },
  {
   "cell_type": "code",
   "execution_count": 16,
   "id": "52a398da",
   "metadata": {
    "ExecuteTime": {
     "end_time": "2022-01-21T19:08:54.799951Z",
     "start_time": "2022-01-21T19:08:48.274662Z"
    }
   },
   "outputs": [
    {
     "name": "stdout",
     "output_type": "stream",
     "text": [
      "(300, 300)\n"
     ]
    }
   ],
   "source": [
    "proj_mat_de_en = get_projection_procrustes(src_de_en, trg_de_en)#TODO: obtain the projection matrix between German and English using the \n",
    "                 # translation-aligned embedding matrices \n",
    "\n",
    "#TODO: what is the shape of the projection matrix? Write the code that shows it\n",
    "print(proj_mat_de_en.shape)"
   ]
  },
  {
   "cell_type": "code",
   "execution_count": 17,
   "id": "b9f6ea5b",
   "metadata": {
    "ExecuteTime": {
     "end_time": "2022-01-21T19:08:55.224128Z",
     "start_time": "2022-01-21T19:08:54.803188Z"
    }
   },
   "outputs": [],
   "source": [
    "# let's now project the vectors of all the Italian words to the English vector space\n",
    "proj_vectors_de = numpy.matmul(vectors_de, proj_mat_de_en)\n",
    "\n",
    "# let's replace the original German vectors with the projected ones in the embeddings dictionary of all languages\n",
    "emb_dict[\"de\"] = (vocab_de, proj_vectors_de)"
   ]
  },
  {
   "cell_type": "code",
   "execution_count": 18,
   "id": "adc61008",
   "metadata": {
    "ExecuteTime": {
     "end_time": "2022-01-21T19:09:28.248389Z",
     "start_time": "2022-01-21T19:09:28.239409Z"
    }
   },
   "outputs": [
    {
     "data": {
      "text/plain": [
       "0.6753164"
      ]
     },
     "execution_count": 18,
     "metadata": {},
     "output_type": "execute_result"
    }
   ],
   "source": [
    "# let's see now what the German-English similarities look like after projection of German embeddings to the English emb. space\n",
    "word_similarity(\"de\", \"katze\", \"en\", \"cat\")"
   ]
  },
  {
   "cell_type": "code",
   "execution_count": 19,
   "id": "1fa82544",
   "metadata": {
    "ExecuteTime": {
     "end_time": "2022-01-21T19:09:33.148862Z",
     "start_time": "2022-01-21T19:09:29.696855Z"
    }
   },
   "outputs": [],
   "source": [
    "# let's perform the mapping to the English embedding space for the other two languages as well\n",
    "\n",
    "## for Italian\n",
    "\n",
    "# aligning vectors of word translations\n",
    "src_it_en, trg_it_en = align_word_vectors(emb_dict[\"it\"][1],emb_dict[\"it\"][0],emb_dict[\"en\"][1],emb_dict[\"en\"][0],word_pairs_it_en)#TODO: align embeddings for translation pairs, Italian-English \n",
    "proj_mat_it_en = get_projection_procrustes(src_it_en, trg_it_en)#TODO: Compute the projection matrix from Italian to English embedding space\n",
    "proj_vectors_it = numpy.matmul(vectors_de, proj_mat_de_en)#TODO: project the vectors of all Italian words to the English space, using the obtained projection matrix\n",
    "emb_dict[\"it\"] = (vocab_it, proj_vectors_it)#TODO: replace the original (unaligned) Italian vectors with the projected (aligned) ones"
   ]
  },
  {
   "cell_type": "code",
   "execution_count": 20,
   "id": "4892dc16",
   "metadata": {
    "ExecuteTime": {
     "end_time": "2022-01-21T19:09:33.162331Z",
     "start_time": "2022-01-21T19:09:33.156037Z"
    }
   },
   "outputs": [
    {
     "data": {
      "text/plain": [
       "0.17871049"
      ]
     },
     "execution_count": 20,
     "metadata": {},
     "output_type": "execute_result"
    }
   ],
   "source": [
    "word_similarity(\"it\", \"gatto\", \"en\", \"cat\")"
   ]
  },
  {
   "cell_type": "code",
   "execution_count": 21,
   "id": "043a9491",
   "metadata": {
    "ExecuteTime": {
     "end_time": "2022-01-21T19:09:44.213731Z",
     "start_time": "2022-01-21T19:09:33.163924Z"
    }
   },
   "outputs": [],
   "source": [
    "## for Croatian\n",
    "\n",
    "src_hr_en, trg_hr_en = align_word_vectors(emb_dict[\"hr\"][1],emb_dict[\"hr\"][0],emb_dict[\"en\"][1],emb_dict[\"en\"][0],word_pairs_hr_en)#TODO: align embeddings for translation pairs, Croatian-English  \n",
    "proj_mat_hr_en = get_projection_procrustes(src_hr_en, trg_hr_en)#TODO: Compute the projection matrix from Croatian to English embedding space\n",
    "proj_vectors_hr = numpy.matmul(vectors_hr, proj_mat_hr_en)#TODO: project the vectors of all Croatian words to the English space, using the obtained projection matrix\n",
    "emb_dict[\"hr\"] = (vocab_hr, proj_vectors_hr)#TODO: replace the original (unaligned) Croatian vectors with the projected (aligned) ones"
   ]
  },
  {
   "cell_type": "code",
   "execution_count": 22,
   "id": "4d739a9b",
   "metadata": {
    "ExecuteTime": {
     "end_time": "2022-01-21T19:09:44.220521Z",
     "start_time": "2022-01-21T19:09:44.215658Z"
    }
   },
   "outputs": [
    {
     "name": "stdout",
     "output_type": "stream",
     "text": [
      "0.5466043\n",
      "0.5367054\n",
      "0.141094\n",
      "0.21152036\n"
     ]
    }
   ],
   "source": [
    "print(word_similarity(\"hr\", \"mačka\", \"en\", \"cat\"))\n",
    "\n",
    "# note that words of all four languages are now embedded in the same (originally English) embedding space\n",
    "# so we can semantically compare words between any two of these languages (not just X-EN)\n",
    "print(word_similarity(\"hr\", \"pas\", \"de\", \"hund\"))\n",
    "print(word_similarity(\"it\", \"gatto\", \"hr\", \"mačka\"))\n",
    "print(word_similarity(\"de\", \"flughafen\", \"it\", \"aeroporto\"))"
   ]
  },
  {
   "cell_type": "markdown",
   "id": "ec573892",
   "metadata": {},
   "source": [
    "### Pretrained multilingual encoders!\n",
    "\n",
    "Pretrained multilingual transformers enable the comparison of meaning of longer units of text in different languages. To this end, we will use pretrained transformers specialized for encoding sentence-level semantics: SentenceTransformers (package sentence-transformers). More information: \n",
    "\n",
    "https://www.sbert.net/\n",
    "\n",
    "https://arxiv.org/pdf/1908.10084.pdf\n",
    "\n",
    "https://arxiv.org/pdf/2004.09813.pdf\n"
   ]
  },
  {
   "cell_type": "code",
   "execution_count": 23,
   "id": "936fd5e4",
   "metadata": {
    "ExecuteTime": {
     "end_time": "2022-01-21T19:40:05.464959Z",
     "start_time": "2022-01-21T19:39:50.883270Z"
    },
    "scrolled": true
   },
   "outputs": [
    {
     "name": "stderr",
     "output_type": "stream",
     "text": [
      "2022-01-22 06:20:58.311688: W tensorflow/stream_executor/platform/default/dso_loader.cc:64] Could not load dynamic library 'libcudart.so.11.0'; dlerror: libcudart.so.11.0: cannot open shared object file: No such file or directory\n",
      "2022-01-22 06:20:58.311708: I tensorflow/stream_executor/cuda/cudart_stub.cc:29] Ignore above cudart dlerror if you do not have a GPU set up on your machine.\n"
     ]
    }
   ],
   "source": [
    "!export CUDA_VISIBLE_DEVICES=\"0\"\n",
    "from sentence_transformers import SentenceTransformer\n",
    "\n",
    "# loading the pretrained sentence encoder (concretely, the DistilmUSE model, distilled from multilingual USE)\n",
    "sent_encoder = SentenceTransformer('distiluse-base-multilingual-cased-v2')"
   ]
  },
  {
   "cell_type": "code",
   "execution_count": null,
   "id": "231ee77a",
   "metadata": {
    "ExecuteTime": {
     "end_time": "2022-01-21T19:47:32.598392Z",
     "start_time": "2022-01-21T19:47:25.461105Z"
    },
    "scrolled": false
   },
   "outputs": [],
   "source": []
  },
  {
   "cell_type": "code",
   "execution_count": 24,
   "id": "ab9fa7f4",
   "metadata": {
    "ExecuteTime": {
     "end_time": "2022-01-21T19:40:05.745707Z",
     "start_time": "2022-01-21T19:40:05.468793Z"
    }
   },
   "outputs": [
    {
     "name": "stdout",
     "output_type": "stream",
     "text": [
      "(3, 512)\n"
     ]
    }
   ],
   "source": [
    "sent_en = \"Hello World\"\n",
    "sent_de = \"Hallo Welt\"\n",
    "sent_es = \"Hola mundo\"\n",
    "\n",
    "sentence_embeddings = sent_encoder.encode([sent_en,sent_de,sent_es])#TODO: encode (that is, obtain the embeddings for) the above three sentences using the loaded sent_encoder\n",
    "print(sentence_embeddings.shape)"
   ]
  },
  {
   "cell_type": "code",
   "execution_count": 25,
   "id": "baa7f1d6",
   "metadata": {},
   "outputs": [
    {
     "name": "stdout",
     "output_type": "stream",
     "text": [
      "0.97415096\n",
      "0.9840379\n"
     ]
    }
   ],
   "source": [
    "import numpy\n",
    "\n",
    "sim_en_de = cosine_sim(sentence_embeddings[0],sentence_embeddings[1])#TODO: Compute the cosine similarity between the embedding of the English sentence and the German sentence\n",
    "\n",
    "sim_de_es = cosine_sim(sentence_embeddings[2],sentence_embeddings[1])#TODO: Compute the cosine similarity between the embedding of the Spanish sentence and the German sentence\n",
    "\n",
    "print(sim_en_de)\n",
    "print(sim_de_es)"
   ]
  },
  {
   "cell_type": "markdown",
   "id": "f63b84a4",
   "metadata": {},
   "source": [
    "### Cross-lingual transfer for downstream NLP tasks\n",
    "\n",
    "We will now see how to exploit a multilingual representation space (i.e., our multilingual sentence encoder) to train a model for a text classification task on annotated data in one language and then use that classification model to make predictions for texts from other languages.\n",
    "\n",
    "**Task**: sentiment classification of Amazon reviews\n",
    "\n",
    "**Annotated training data**: in English"
   ]
  },
  {
   "cell_type": "code",
   "execution_count": 26,
   "id": "0b7bedbe",
   "metadata": {},
   "outputs": [
    {
     "data": {
      "text/html": [
       "<div>\n",
       "<style scoped>\n",
       "    .dataframe tbody tr th:only-of-type {\n",
       "        vertical-align: middle;\n",
       "    }\n",
       "\n",
       "    .dataframe tbody tr th {\n",
       "        vertical-align: top;\n",
       "    }\n",
       "\n",
       "    .dataframe thead th {\n",
       "        text-align: right;\n",
       "    }\n",
       "</style>\n",
       "<table border=\"1\" class=\"dataframe\">\n",
       "  <thead>\n",
       "    <tr style=\"text-align: right;\">\n",
       "      <th></th>\n",
       "      <th>label</th>\n",
       "      <th>score</th>\n",
       "      <th>content</th>\n",
       "    </tr>\n",
       "  </thead>\n",
       "  <tbody>\n",
       "    <tr>\n",
       "      <th>0</th>\n",
       "      <td>NEG</td>\n",
       "      <td>2.0</td>\n",
       "      <td>cons tips extremely easy on carpet and if you...</td>\n",
       "    </tr>\n",
       "    <tr>\n",
       "      <th>1</th>\n",
       "      <td>NEG</td>\n",
       "      <td>1.0</td>\n",
       "      <td>It's a nice look, but it tips over very easil...</td>\n",
       "    </tr>\n",
       "    <tr>\n",
       "      <th>2</th>\n",
       "      <td>NEG</td>\n",
       "      <td>1.0</td>\n",
       "      <td>I have bought and returned three of these uni...</td>\n",
       "    </tr>\n",
       "    <tr>\n",
       "      <th>3</th>\n",
       "      <td>NEG</td>\n",
       "      <td>1.0</td>\n",
       "      <td>I knew these were inexpensive CD cases, but I...</td>\n",
       "    </tr>\n",
       "    <tr>\n",
       "      <th>4</th>\n",
       "      <td>NEG</td>\n",
       "      <td>2.0</td>\n",
       "      <td>I used a 25 pack of these doing DVD backups, ...</td>\n",
       "    </tr>\n",
       "    <tr>\n",
       "      <th>...</th>\n",
       "      <td>...</td>\n",
       "      <td>...</td>\n",
       "      <td>...</td>\n",
       "    </tr>\n",
       "    <tr>\n",
       "      <th>1795</th>\n",
       "      <td>POS</td>\n",
       "      <td>5.0</td>\n",
       "      <td>I just recieved my HDMI cable and am very imp...</td>\n",
       "    </tr>\n",
       "    <tr>\n",
       "      <th>1796</th>\n",
       "      <td>POS</td>\n",
       "      <td>5.0</td>\n",
       "      <td>This is the perfect keyboard ( I know cuz I a...</td>\n",
       "    </tr>\n",
       "    <tr>\n",
       "      <th>1797</th>\n",
       "      <td>POS</td>\n",
       "      <td>5.0</td>\n",
       "      <td>SanDisk has done it again. They never seem to...</td>\n",
       "    </tr>\n",
       "    <tr>\n",
       "      <th>1798</th>\n",
       "      <td>POS</td>\n",
       "      <td>5.0</td>\n",
       "      <td>Fast shipping, Very happy with the GARMIN. Th...</td>\n",
       "    </tr>\n",
       "    <tr>\n",
       "      <th>1799</th>\n",
       "      <td>POS</td>\n",
       "      <td>5.0</td>\n",
       "      <td>The SanDisk 1GB Micro SD Card arrived quickly...</td>\n",
       "    </tr>\n",
       "  </tbody>\n",
       "</table>\n",
       "<p>1800 rows × 3 columns</p>\n",
       "</div>"
      ],
      "text/plain": [
       "     label  score                                            content\n",
       "0      NEG    2.0   cons tips extremely easy on carpet and if you...\n",
       "1      NEG    1.0   It's a nice look, but it tips over very easil...\n",
       "2      NEG    1.0   I have bought and returned three of these uni...\n",
       "3      NEG    1.0   I knew these were inexpensive CD cases, but I...\n",
       "4      NEG    2.0   I used a 25 pack of these doing DVD backups, ...\n",
       "...    ...    ...                                                ...\n",
       "1795   POS    5.0   I just recieved my HDMI cable and am very imp...\n",
       "1796   POS    5.0   This is the perfect keyboard ( I know cuz I a...\n",
       "1797   POS    5.0   SanDisk has done it again. They never seem to...\n",
       "1798   POS    5.0   Fast shipping, Very happy with the GARMIN. Th...\n",
       "1799   POS    5.0   The SanDisk 1GB Micro SD Card arrived quickly...\n",
       "\n",
       "[1800 rows x 3 columns]"
      ]
     },
     "execution_count": 26,
     "metadata": {},
     "output_type": "execute_result"
    }
   ],
   "source": [
    "# let's load the data using the *pandas* library\n",
    "# we have two files: the training dataset and testing dataset in English\n",
    "\n",
    "# importing the Python's Pandas library for data loading and manipulation\n",
    "import pandas as pd\n",
    "\n",
    "# Step #1: loading our annotated reviews\n",
    "train_data = pd.read_csv(\"data/labeled_train.txt\", delimiter = '\\t') # in our file, the values are actually TAB-separated\n",
    "eval_data = pd.read_csv(\"data/labeled_test.txt\", delimiter = '\\t')\n",
    "\n",
    "# let's see what our data actually looks like\n",
    "train_data\n",
    "\n",
    "\n"
   ]
  },
  {
   "cell_type": "code",
   "execution_count": 27,
   "id": "f0e33992",
   "metadata": {},
   "outputs": [],
   "source": [
    "# task: predict the binary sentiment label (POS or NEG) from the encoding of the review text produced by the Sentence Transformer\n",
    "# as the classifier, we will use simple logistic regression model\n",
    "\n",
    "# filtering just the text from the pandas dataframe\n",
    "train_texts = list(train_data[\"content\"])\n",
    "\n",
    "# embedding all texts with the sentence encoder\n",
    "train_embeddings = sent_encoder.encode(train_texts)#TODO: get the embeddings of the reviews (train_texts) with the sent_encoder\n",
    "\n",
    "# converting labels from \"POS\" and \"NEG\" into numeric labels (0 and 1) for classification\n",
    "train_labels = train_data[\"label\"].tolist()\n",
    "train_labels = [(1 if tl == \"POS\" else 0) for tl in train_labels]\n"
   ]
  },
  {
   "cell_type": "code",
   "execution_count": 28,
   "id": "182580be",
   "metadata": {},
   "outputs": [
    {
     "name": "stdout",
     "output_type": "stream",
     "text": [
      "LogisticRegression(C=32, max_iter=1000)\n"
     ]
    }
   ],
   "source": [
    "# Now that we have input (embeddings of train texts) and labels, we can use them to train a classifier\n",
    "# To this end, we will use a simple logistic regression classifier from scikit-learn\n",
    "\n",
    "# We import the LogisticRegression class from scikit-learn\n",
    "from sklearn.linear_model import LogisticRegression\n",
    "\n",
    "# we now train (\"fit\") the logistic regression classifier by providing the training input (SBERT embeddings of our training set texts) and \n",
    "# corresponding sentiment labels (0 or 1)\n",
    "\n",
    "classifier = LogisticRegression(C = 32, solver = 'lbfgs', max_iter = 1000)\n",
    "classifier.fit(train_embeddings, train_labels)\n",
    "\n",
    "# the result is a trained classifier, which we can examine more closely in the next steps and make predictions with\n",
    "print(classifier)\n",
    "\n"
   ]
  },
  {
   "cell_type": "code",
   "execution_count": 29,
   "id": "10025bf3",
   "metadata": {},
   "outputs": [],
   "source": [
    "# The classifier has now been trained. Let's predict the labels for the eval_set texts and see how accurate the classifier is\n",
    "# We first convert the evaluation texts into embeddings with our sentence_transformer and labels to binary {0,1} labels\n",
    "\n",
    "# filtering just the text from the pandas dataframe\n",
    "eval_texts = list(eval_data[\"content\"])\n",
    "eval_embeddings = sent_encoder.encode(eval_texts)#TODO: get the embeddings of the evaluation reviews (eval_texts) with the sent_encoder \n",
    "\n",
    "# converting labels from \"POS\" and \"NEG\" into numeric labels (0 and 1) for classification\n",
    "eval_labels = eval_data[\"label\"].tolist()\n",
    "eval_labels = [(1 if tl == \"POS\" else 0) for tl in eval_labels]"
   ]
  },
  {
   "cell_type": "code",
   "execution_count": 30,
   "id": "cfed4e98",
   "metadata": {},
   "outputs": [
    {
     "name": "stdout",
     "output_type": "stream",
     "text": [
      "Classification accuracy: 88.0%\n"
     ]
    }
   ],
   "source": [
    "# now we call the classifier to predict and score (function \"score\") the predictions on the evaluation dataset\n",
    "accuracy = classifier.score(eval_embeddings, eval_labels)\n",
    "print(\"Classification accuracy: \" + str(accuracy * 100) + \"%\")\n"
   ]
  },
  {
   "cell_type": "code",
   "execution_count": 31,
   "id": "4c235b8c",
   "metadata": {},
   "outputs": [
    {
     "name": "stdout",
     "output_type": "stream",
     "text": [
      " I won't recommend to any body. You have the same way of charging thru your computer. I think is waste\n",
      "[0.94410279 0.05589721]\n"
     ]
    }
   ],
   "source": [
    "# Let's see some predictions on individual texts\n",
    "\n",
    "# we are generating predictions as probability distributions over the two classes, for each text\n",
    "predict_probs = classifier.predict_proba(eval_embeddings)\n",
    "\n",
    "# for a text at \"index\", we'll display the text itself and the class probability distribution produced by the LR classifier\n",
    "# play by changing the \"index\"\n",
    "index = 100\n",
    "print(eval_texts[index])\n",
    "print(predict_probs[index])\n",
    "\n"
   ]
  },
  {
   "cell_type": "markdown",
   "id": "ca981dd7",
   "metadata": {},
   "source": [
    "...and now, the **language transfer** (zero-shot)\n",
    "\n",
    "**Zero-shot** means that we are able to make predictions for texts in the target language without seeing any training instances in that language (i.e., our classifier was trained on English reviews). However, because the input features for the classifier are generated by a multilingual text encoder, we can make predictions for any language that our Sentence Transformer (sent_encoder) can encode! (and that's around 100 languages).\n"
   ]
  },
  {
   "cell_type": "code",
   "execution_count": 36,
   "id": "a17f5db0",
   "metadata": {},
   "outputs": [],
   "source": [
    "# let's create a few reviews in other languages:\n",
    "\n",
    "# \"This is a bad speaker, you can barely hear anything\"\n",
    "rev_de = \"Das ist ein ziemlich schlechter Lautsprecher, man kann kaum etwas hören.\"\n",
    "\n",
    "# \"The keyboard is light, easy to use and actually pretty beautiful. Totally worth the money!\"\n",
    "rev_it = \"La tastiera è leggera, facile da usare e in realtà piuttosto bella. Vale assolutamente i soldi!\" \n",
    "\n",
    "# This USB adapter is so average. Not bad, but I wouldn't give again that money for it. \n",
    "rev_hr = \"Ovaj USB adapter je onako, prosječan. Nije loš, ali ne bih ponovno dao te novce za njega.\"\n",
    "\n",
    "# This is by far the best USB charger I have ever had. My phone is charged in less than an hour, so amazing!\n",
    "rev_zh = \"这是迄今为止我所拥有的最好的USB充电器。我的手机在不到一小时内就充好电了，太神奇了!\"\n",
    "rev_zh2 = \"那是拖鞋，但是他說他建議皮鞋\"\n",
    "revs = [rev_de, rev_it, rev_hr, rev_zh2]"
   ]
  },
  {
   "cell_type": "code",
   "execution_count": 37,
   "id": "ced835e0",
   "metadata": {},
   "outputs": [
    {
     "name": "stdout",
     "output_type": "stream",
     "text": [
      "Das ist ein ziemlich schlechter Lautsprecher, man kann kaum etwas hören.\n",
      "[0.9900897 0.0099103]\n",
      "Predicted label: NEG\n",
      "\n",
      "La tastiera è leggera, facile da usare e in realtà piuttosto bella. Vale assolutamente i soldi!\n",
      "[0.00184052 0.99815948]\n",
      "Predicted label: POS\n",
      "\n",
      "Ovaj USB adapter je onako, prosječan. Nije loš, ali ne bih ponovno dao te novce za njega.\n",
      "[0.62147646 0.37852354]\n",
      "Predicted label: NEG\n",
      "\n",
      "那是拖鞋，但是他說他建議皮鞋\n",
      "[0.90575011 0.09424989]\n",
      "Predicted label: NEG\n",
      "\n"
     ]
    }
   ],
   "source": [
    "# let's encode the reviews with the sentence_transformer \n",
    "rev_embeddings = sent_encoder.encode(revs)#TODO: embed the reviews above with the sent_encoder\n",
    "\n",
    "# now let's classify them and make predictions with our LR classifier\n",
    "predict_probs = classifier.predict_proba(rev_embeddings)\n",
    "\n",
    "# let's print each review and the predicted sentiment probabilities\n",
    "for i in range(len(revs)):\n",
    "    print(revs[i])\n",
    "    print(predict_probs[i])\n",
    "    pred_label = \"NEG\" if predict_probs[i][0] > predict_probs[i][1] else \"POS\"  \n",
    "    print(\"Predicted label: \" + pred_label)\n",
    "    print()\n",
    "    "
   ]
  },
  {
   "cell_type": "code",
   "execution_count": 34,
   "id": "6450af23",
   "metadata": {},
   "outputs": [],
   "source": [
    "# TODO: discuss the expected transfer performance for the above target languages. What could be the main factors\n",
    "# that determine the success of transfer of a classifier based on the pretrained multilingual encoder from the source language\n",
    "# (i.e., English) to a concrete target language?"
   ]
  },
  {
   "cell_type": "code",
   "execution_count": 35,
   "id": "e2092c29",
   "metadata": {},
   "outputs": [],
   "source": [
    "# Answer: \n",
    "# I think the main factor of the NEG or POS, is according to the embedding vectorized floats, according to the weight value,\n",
    "# we can know the relationship between the contexts. And then according to the contexts values, matching the pretrained POS or NEG\n",
    "# sentences' contexts."
   ]
  }
 ],
 "metadata": {
  "kernelspec": {
   "display_name": "Python 3 (ipykernel)",
   "language": "python",
   "name": "python3"
  },
  "language_info": {
   "codemirror_mode": {
    "name": "ipython",
    "version": 3
   },
   "file_extension": ".py",
   "mimetype": "text/x-python",
   "name": "python",
   "nbconvert_exporter": "python",
   "pygments_lexer": "ipython3",
   "version": "3.8.10"
  }
 },
 "nbformat": 4,
 "nbformat_minor": 5
}
