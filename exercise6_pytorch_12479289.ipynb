{
 "cells": [
  {
   "cell_type": "markdown",
   "metadata": {
    "id": "um8Z-HYBexDi"
   },
   "source": [
    "# Exercise 6: Pytorch and Feed-Forward Net\n",
    "\n",
    "In this exercise, you will use pytorch to implement and train a feed-forward net (FFN) for binary sentence classification. The model takes averaged pretrained word embeddings as sentence representations, and classifies them as stemming from author A or B.\n",
    "\n",
    "This is a very naive model, which cannot represent things like word order or multi-word expressions. However, it is a useful baseline for more complex models. If a complex model, such as a CNN, fails to beat this simple baseline, then there may be something wrong with it.\n",
    "\n",
    "You should complete the parts of the exercies that are marked as **TODO**.\n",
    "A correctly completed **TODO** gives 2 bonus points. Partially correct answers give 1 bonus point.\n",
    "Some **TODO**s are inside a comment in a code block: Here, you should complete the line of code.\n",
    "Other **TODO**s are inside text blocks: Here, you should write a few sentences to answer the question, preferably inside the same text block.\n",
    "\n",
    "**Submission deadline:** 07.12.2021\n",
    "\n",
    "**Instructions for submission:** After completing the exercise, save a copy of the notebook as exercise6_pytorch_MATRIKELNUMMER.ipynb, where MATRIKELNUMMER is your student ID number. Then upload the notebook to moodle (submission exercise sheet 6).\n",
    "\n",
    "In order to understand the code, it can be helpful to experiment a bit during development. You are welcome to print variables, reduce dataset sizes, or change the hyperparameters. But please remove these changes before submitting the notebook. If we cannot run your notebook (e.g., because you commented out an important variable, or because a print statement is congesting stdout), then we cannot grade it. \n",
    "\n",
    "To make the most of this exercise, you should try to read and understand the entire code, not just the parts that contain a **TODO**. If you have questions, write them down for the exercise, which will happen in the week after the submission deadline.\n",
    "\n",
    "**CUDA:** You can try switching to the GPU for this exercise (on colab: GPU Runtime -> Change Runtime Type). This is not mandatory. Due to the small size of the model, you may not see a major speed-up relative to training on the CPU."
   ]
  },
  {
   "cell_type": "markdown",
   "metadata": {
    "id": "BJQ0LG5qUSMs"
   },
   "source": [
    "# FastText\n",
    "We will need pretrained FastText embeddings. Here, we download pretrained embeddings from Facebook AI. If this command doesn't work on your machine, you should download and unzip the file manually and move it to the working directory."
   ]
  },
  {
   "cell_type": "code",
   "execution_count": null,
   "metadata": {
    "colab": {
     "base_uri": "https://localhost:8080/"
    },
    "id": "3r7zMNhBURii",
    "outputId": "982a0228-1290-4c32-caa0-23661917ec4a"
   },
   "outputs": [
    {
     "name": "stdout",
     "output_type": "stream",
     "text": [
      "--2021-12-04 19:33:45--  https://dl.fbaipublicfiles.com/fasttext/vectors-english/crawl-300d-2M.vec.zip\n",
      "Resolving dl.fbaipublicfiles.com (dl.fbaipublicfiles.com)... 104.22.74.142, 104.22.75.142, 172.67.9.4, ...\n",
      "Connecting to dl.fbaipublicfiles.com (dl.fbaipublicfiles.com)|104.22.74.142|:443... connected.\n",
      "HTTP request sent, awaiting response... 200 OK\n",
      "Length: 1523785255 (1.4G) [application/zip]\n",
      "Saving to: ‘crawl-300d-2M.vec.zip’\n",
      "\n",
      "crawl-300d-2M.vec.z 100%[===================>]   1.42G  31.6MB/s    in 46s     \n",
      "\n",
      "2021-12-04 19:34:32 (31.3 MB/s) - ‘crawl-300d-2M.vec.zip’ saved [1523785255/1523785255]\n",
      "\n",
      "Archive:  crawl-300d-2M.vec.zip\n",
      "  inflating: crawl-300d-2M.vec       \n",
      "1999995 300\n",
      ", -0.0282 -0.0557 -0.0451 -0.0434 0.0712 -0.0855 -0.1085 -0.0561 -0.4523 -0.0202 0.0975 0.1047 0.1962 -0.0693 0.0213 -0.0235 0.1336 -0.0420 -0.0564 -0.0798 0.0424 -0.0409 -0.0536 -0.0252 0.0135 0.0064 0.1235 0.0461 0.0120 -0.0372 0.0650 0.0041 -0.1074 -0.0263 0.1133 -0.0029 0.0671 0.1065 0.0234 -0.0160 0.0070 0.4355 -0.0752 -0.4328 0.0457 0.0604 -0.0740 -0.0055 -0.0089 -0.2926 -0.0545 -0.1519 0.0990 -0.0193 -0.0050 0.0511 0.0404 0.1023 -0.0128 0.0488 -0.1567 -0.0759 -0.0190 0.1442 0.0047 -0.0186 0.0140 -0.0385 -0.0853 0.1572 0.1770 0.0084 -0.0250 -0.1145 -0.0663 -0.1244 -0.3977 -0.0124 -0.4586 -0.0220 0.5746 0.0218 -0.0754 0.0099 0.0397 -0.0154 0.0424 -0.0150 -0.0016 0.0305 0.0101 0.2266 0.1394 0.0189 0.0069 0.0394 0.0355 -0.0111 -0.0687 -0.0078 0.0224 0.0817 -0.1949 0.0001 0.4047 -0.0237 -0.0656 -0.0684 0.0233 0.0438 0.1203 -0.0276 0.0416 0.0114 -0.4529 0.1538 0.1323 -0.0186 -0.0914 -0.0312 0.1051 0.0212 0.0798 -0.0104 -0.0206 -0.0025 0.0043 -0.0378 0.2689 0.0747 -0.0418 -0.0048 -0.0387 0.0432 0.1704 0.0614 0.0905 -0.0436 -0.0141 -0.0315 0.0276 0.0151 -0.0103 -0.0266 -0.0512 -0.0408 -0.0651 0.0662 -0.0936 0.1371 0.0458 -0.1366 -0.0075 -0.0104 -0.0732 0.1205 0.1035 0.0106 -0.0317 -0.0316 0.6639 -0.0022 -0.1343 0.0144 -0.0338 0.0034 -0.0429 -0.0821 0.0037 0.1029 -0.0204 -0.0269 0.0052 -0.1034 0.1068 0.0121 0.0980 -0.0458 0.0199 -0.0132 0.1936 -0.0213 0.0209 -0.0025 0.0416 -0.0337 0.0516 -0.1014 0.0203 0.0198 -0.0305 -0.0313 0.0543 -0.0106 0.1441 -0.0178 -0.0627 0.0475 0.0352 -0.0254 -0.0949 0.0401 0.0317 0.0055 -0.0536 0.0191 -0.0511 -0.0409 -0.0030 0.1582 0.0108 0.5237 0.0436 0.0306 -0.0392 0.0177 0.0069 0.0605 0.1206 -0.0216 -0.0633 -0.2965 0.0521 -0.0150 -0.2207 -0.0642 -0.0906 -0.0121 0.0569 0.0944 -0.0652 -0.0108 -0.0477 0.0023 0.0077 -0.1547 0.0463 0.0698 -0.0376 -0.0291 0.0033 -0.0102 -0.0743 0.0085 0.0805 -0.0291 -0.0674 -0.0586 -0.0653 0.0283 -0.0255 0.0869 -0.0868 0.0090 0.3245 -0.0573 -0.0289 0.0470 -0.0117 0.0174 0.0132 -0.0226 -0.0664 0.0188 0.0263 0.0111 -0.0049 -0.0656 0.0295 0.0435 0.0290 0.1163 0.0448 -0.1139 -0.0553 -0.0528 0.1745 -0.0146 -0.1308 -0.0607 -0.0134 0.0781 0.0378 0.0228 -0.0728 -0.0059 0.0158 -0.0141 -0.0002 0.0193 -0.0148 -0.0463 0.0444 0.3034 0.1020 -0.0871 0.0317 -0.0370 -0.0725 -0.0042\n",
      "the 0.0231 0.0170 0.0157 -0.0773 0.1088 0.0031 -0.1487 -0.2672 -0.0357 -0.0487 0.0807 0.1532 -0.0739 -0.0291 -0.0445 -0.0014 0.1014 0.0186 -0.0253 0.0200 -0.0026 -0.0179 0.0005 0.0054 -0.0134 0.0233 -0.0755 -0.0156 0.0415 -0.4985 0.0410 -0.0616 0.0047 0.0325 -0.0162 -0.0172 0.0988 0.0766 -0.0796 -0.0345 0.0124 -0.1007 -0.0292 -0.0762 -0.1261 -0.0531 0.0424 0.0144 -0.0683 0.2859 0.0399 0.0201 0.3240 -0.0656 -0.0497 0.0090 0.0902 -0.0138 -0.0412 -0.0297 0.3139 -0.1428 0.0166 -0.0219 -0.0575 0.1359 -0.1655 0.0019 0.0323 -0.0013 -0.3033 -0.0091 0.1462 0.1860 -0.0524 0.1886 -0.7372 -0.0248 -0.0205 0.0022 0.5988 -0.0359 -0.0269 -0.0483 0.0109 -0.0044 0.0592 0.0174 0.0010 -0.0012 -0.0251 0.4620 -0.0443 -0.0350 0.0115 0.1496 0.3125 -0.0091 0.2517 0.0654 0.0237 -0.0432 0.0952 0.0650 -0.2932 0.0630 0.0236 0.0340 -0.0012 0.0889 -0.0006 -0.1736 0.0374 0.0313 -0.6184 0.0282 -0.3836 0.0589 0.2443 0.0602 0.0057 -0.0038 0.1352 0.0053 0.0193 -0.0213 0.0248 0.0214 0.2334 -0.0438 0.0527 0.0262 0.0655 -0.0859 0.2642 -0.0393 -0.0163 0.0681 -0.0175 -0.1158 0.0950 0.0475 0.0069 0.5164 -0.0026 -0.0255 -0.0801 -0.0262 0.1113 0.0798 -0.0015 0.0252 -0.0379 -0.0260 -0.0282 -0.0420 0.0482 -0.0175 0.0282 0.0400 0.3998 -0.1054 0.0755 0.1027 -0.0199 0.0381 -0.0333 -0.0342 0.0267 0.0865 0.0024 -0.0091 0.0163 -0.0287 0.0364 -0.0202 -0.0367 -0.0356 -0.0614 -0.0551 0.2649 -0.0371 0.0207 0.0364 0.0512 -0.0843 -0.0138 0.0710 0.0843 0.0291 -0.0100 0.0398 -0.0646 -0.0595 -0.0258 -0.0282 0.0311 0.0147 -0.0449 0.0276 -0.1168 0.0219 -0.0231 -0.0162 -0.0286 0.0128 -0.0259 0.0153 0.1042 -0.1207 -0.0135 0.5405 -0.0362 0.0476 -0.0180 -0.0735 0.0034 -0.0026 -0.0057 0.0380 -0.0401 -0.1016 0.0344 0.0402 0.0513 -0.0815 0.0390 0.0076 0.0175 0.0030 -0.0707 0.0150 -0.1174 0.0266 -0.0795 0.1988 0.0978 -0.0587 -0.0533 0.0273 0.0442 -0.0463 -0.0708 0.0176 -0.0994 0.0846 0.3620 -0.0207 0.0256 -0.0145 0.0309 0.0082 0.0042 -0.0314 0.1196 -0.0346 0.0386 -0.0368 -0.0333 -0.0032 -0.0048 -0.0006 0.0509 -0.0232 0.1183 -0.1314 0.0149 0.0762 -0.0161 0.0160 0.0390 -0.1922 0.0031 -0.0666 0.0593 -0.0621 0.0421 0.0328 -0.0901 -0.0159 0.1015 0.6164 -0.0650 0.1241 0.0059 0.0653 -0.0386 0.0166 0.0403 0.0169 -0.0008 0.0052 -0.0363 -0.2508 0.1252 -0.1008 -0.0308 0.0744 -0.1118 0.0963\n",
      ". -0.0849 -0.0582 -0.0321 0.0483 -0.0185 -0.0836 0.0355 -0.0049 0.0408 0.0620 -0.0691 0.1964 0.0262 -0.1129 0.0037 -0.0415 0.0821 -0.0587 -0.0619 -0.0050 -0.0194 -0.0557 0.0033 0.0259 -0.0200 0.0457 -0.0032 -0.0549 -0.0763 0.0982 -0.0161 -0.0123 -0.0801 -0.0477 0.0559 0.0041 -0.0440 0.0447 -0.0725 0.1337 0.0031 0.0226 -0.0238 -0.5231 -0.0961 -0.0447 0.0853 0.0400 -0.0298 -0.2125 -0.0317 0.1255 0.1059 -0.0336 -0.0343 0.1063 0.0050 0.2630 0.0024 -0.0902 -0.0464 0.1566 0.0023 -0.0134 -0.0430 -0.1372 0.0277 0.0629 0.0293 0.2234 -0.4412 -0.0227 -0.0124 0.1725 -0.1077 -0.0013 -0.9133 0.0918 -0.0731 -0.0192 0.3905 -0.0151 -0.0250 0.0343 -0.0580 -0.0400 0.0749 0.0043 -0.0396 -0.0485 0.0259 0.2128 0.0113 0.0071 -0.0145 0.0159 0.1943 0.0060 -0.0056 -0.0936 -0.0175 0.0453 0.1851 0.0965 0.0726 0.0101 0.0610 0.0741 -0.0031 0.2374 0.0219 -0.3550 0.0241 -0.0251 -0.6988 -0.0659 0.1613 0.0229 -0.1041 -0.0439 -0.1282 -0.0637 0.0291 0.0084 0.0725 0.0023 0.0348 0.0520 0.3231 0.0831 -0.0812 -0.0585 0.0259 -0.0839 -0.1581 0.0229 -0.1054 -0.0447 0.0007 0.1580 -0.0250 -0.0520 0.0212 0.2872 0.0254 -0.0891 0.1588 -0.0058 0.0145 0.0651 -0.0112 -0.0234 0.0185 -0.0201 -0.1141 -0.0928 -0.1534 0.0962 0.0283 -0.0145 0.7386 -0.0550 -0.1209 -0.1235 -0.0133 -0.0382 -0.0069 -0.1459 -0.0862 -0.0622 -0.0364 -0.0578 0.1219 -0.0134 0.1200 -0.0189 0.0195 0.0861 0.0720 0.0442 -0.1197 -0.0342 0.0207 -0.0034 0.0289 0.0547 0.0884 0.0417 0.0318 0.0930 -0.0618 -0.0350 0.0440 -0.1528 0.0119 0.0049 -0.0836 0.0051 0.0025 -0.0020 -0.0984 -0.0107 0.0165 0.0645 0.0537 0.0490 -0.0347 -0.1648 0.0246 0.1209 -0.0432 0.5224 0.0886 0.0531 0.0101 -0.0463 0.0366 0.0253 0.1061 -0.0940 0.0328 -0.4222 0.0464 -0.0445 -0.0959 -0.0345 0.0484 -0.0101 0.0694 0.0105 -0.0632 0.0233 0.0040 0.0487 0.0059 0.1483 -0.0005 0.0161 -0.0226 -0.0227 0.0037 -0.0744 -0.0132 -0.0674 -0.0437 -0.0032 -0.8350 0.0416 -0.0222 -0.0430 0.0721 -0.0385 -0.0779 0.0806 -0.0553 0.0729 -0.0590 -0.0160 -0.1271 0.0447 -0.0418 -0.0455 -0.0055 0.0562 0.0992 0.0895 -0.0579 -0.0543 -0.0809 0.1197 0.0066 0.1038 -0.0315 -0.0305 -0.0607 -0.0920 0.0601 -0.1285 -0.0505 -0.0420 0.1033 -0.4818 -0.0033 -0.0102 0.0050 0.0565 -0.0160 0.0023 -0.0928 -0.1318 0.0133 0.0344 0.0186 -0.4995 -0.0130 0.0633 -0.0330 0.0032 -0.0237 -0.0366\n",
      "and -0.1081 0.0191 0.0354 0.0127 0.0664 -0.0126 -0.1882 0.0631 -0.2306 0.0095 0.0917 0.1513 0.0558 -0.0643 -0.0288 -0.0447 0.1603 0.0613 0.0349 -0.0578 0.0003 -0.1399 0.0163 -0.0419 -0.0487 0.0057 0.0017 -0.0268 -0.0170 0.1045 0.0815 -0.0060 0.0635 -0.1710 0.0276 -0.0230 0.0824 0.0304 -0.1595 0.0851 -0.0556 0.0329 -0.0921 0.0196 -0.0404 0.0361 -0.0843 0.1014 -0.0393 -0.1805 -0.0073 0.2247 -0.0621 -0.0575 -0.0316 0.0198 0.0602 0.1312 -0.1278 0.0177 -0.0600 -0.2904 -0.0465 -0.1078 -0.0701 -0.0497 -0.1102 0.0156 -0.0595 0.0762 0.2638 0.0353 0.0745 0.0361 -0.0561 -0.1179 -0.4751 0.0458 -0.0672 -0.0022 0.9264 0.0101 -0.1085 0.0669 -0.0417 -0.0428 0.0391 -0.0581 0.0107 -0.0873 -0.0016 0.5711 0.0345 0.0930 -0.0647 -0.0820 0.0587 -0.1307 0.0480 0.0226 0.0115 0.0296 -0.1675 0.0399 0.2511 0.0423 0.1299 -0.0336 -0.0977 0.0146 0.3527 0.0122 0.1031 -0.0657 -0.3704 0.0445 0.1242 -0.0031 0.0255 -0.0109 0.1575 0.0288 0.2549 -0.0280 0.0462 -0.0282 -0.0154 0.0405 0.3191 0.0113 -0.0136 0.0182 -0.0385 -0.0499 -0.0810 -0.0134 -0.1413 0.0566 -0.0423 -0.0609 0.1063 0.0386 -0.0375 0.2714 -0.0665 -0.0219 0.0579 0.0550 0.0772 0.2024 -0.0365 -0.0764 0.0318 0.0004 -0.0424 -0.0579 0.0428 0.0211 -0.0061 0.0243 0.5702 0.0798 -0.0502 -0.0195 0.0242 -0.0339 -0.0441 -0.1095 0.0426 -0.0234 -0.0057 -0.0209 -0.0903 -0.0654 0.1559 0.0051 0.0037 -0.0008 -0.0050 0.0508 0.0105 0.0251 0.0270 0.0039 0.0621 0.0519 -0.0156 -0.1285 -0.0564 -0.0263 0.0401 0.0372 -0.1040 -0.0674 0.0866 -0.0033 -0.0076 0.0064 -0.0114 -0.0239 0.0135 0.0801 0.0171 0.0425 -0.0499 0.0615 0.0355 -0.0833 0.0378 0.0288 -0.0392 0.5679 -0.0120 0.0699 -0.0893 -0.0105 0.0219 -0.0136 0.1063 -0.0014 -0.0062 -0.0617 0.0357 0.0030 -0.0414 -0.0634 0.0701 0.0501 0.0241 0.0379 -0.0234 -0.0116 0.0391 -0.0169 -0.0019 0.0731 0.0597 0.0191 -0.0262 -0.0256 0.0631 -0.0261 0.0185 0.0100 0.1126 -0.0487 0.1545 0.0438 0.0147 -0.0278 -0.0493 -0.0866 -0.0281 -0.0955 0.0879 0.0194 -0.0323 -0.0126 -0.0810 0.0088 0.0002 0.0059 0.0858 0.0024 0.0401 -0.0205 0.0304 0.0678 0.0566 0.0097 0.0039 -0.0968 0.0079 -0.3838 -0.0642 -0.0417 -0.0666 0.0337 0.0053 -0.0263 -0.0310 0.2002 -0.0096 0.0796 0.0743 0.0709 -0.0077 -0.0169 -0.0083 -0.0322 0.0608 0.0227 -0.0306 0.3945 0.0200 -0.0613 -0.0611 0.1104 0.0475 -0.0599\n"
     ]
    }
   ],
   "source": [
    "!if [ -f crawl-300d-2M.vec.zip ]; then rm crawl-300d-2M.vec.zip; fi; \n",
    "!if [ -f crawl-300d-2M.vec ]; then rm crawl-300d-2M.vec; fi; \n",
    "!wget https://dl.fbaipublicfiles.com/fasttext/vectors-english/crawl-300d-2M.vec.zip\n",
    "!unzip crawl-300d-2M.vec.zip\n",
    "!rm crawl-300d-2M.vec.zip\n",
    "!head -5 crawl-300d-2M.vec"
   ]
  },
  {
   "cell_type": "markdown",
   "metadata": {
    "id": "ODf2A5HRKLJF"
   },
   "source": [
    "# Required libraries"
   ]
  },
  {
   "cell_type": "code",
   "execution_count": null,
   "metadata": {
    "colab": {
     "base_uri": "https://localhost:8080/"
    },
    "id": "Pa0dYqRYKLsq",
    "outputId": "f73ca335-09f4-404d-bd78-1c2741dfeaa0"
   },
   "outputs": [
    {
     "name": "stdout",
     "output_type": "stream",
     "text": [
      "\u001b[K     |████████████████████████████████| 20.1 MB 1.5 MB/s \n",
      "\u001b[31mERROR: pip's dependency resolver does not currently take into account all the packages that are installed. This behaviour is the source of the following dependency conflicts.\n",
      "kapre 0.3.6 requires numpy>=1.18.5, but you have numpy 1.18.0 which is incompatible.\n",
      "datascience 0.10.6 requires folium==0.2.1, but you have folium 0.8.3 which is incompatible.\n",
      "albumentations 0.1.12 requires imgaug<0.2.7,>=0.2.5, but you have imgaug 0.2.9 which is incompatible.\u001b[0m\n",
      "\u001b[K     |████████████████████████████████| 776.7 MB 4.3 kB/s \n",
      "\u001b[31mERROR: pip's dependency resolver does not currently take into account all the packages that are installed. This behaviour is the source of the following dependency conflicts.\n",
      "torchvision 0.11.1+cu111 requires torch==1.10.0, but you have torch 1.7.0 which is incompatible.\n",
      "torchtext 0.11.0 requires torch==1.10.0, but you have torch 1.7.0 which is incompatible.\n",
      "torchaudio 0.10.0+cu111 requires torch==1.10.0, but you have torch 1.7.0 which is incompatible.\u001b[0m\n",
      "\u001b[K     |████████████████████████████████| 24.2 MB 1.5 MB/s \n",
      "\u001b[K     |████████████████████████████████| 121 kB 5.4 MB/s \n",
      "\u001b[K     |████████████████████████████████| 56 kB 2.5 MB/s \n",
      "\u001b[31mERROR: pip's dependency resolver does not currently take into account all the packages that are installed. This behaviour is the source of the following dependency conflicts.\n",
      "torchtext 0.11.0 requires torch==1.10.0, but you have torch 1.7.0 which is incompatible.\n",
      "panel 0.12.1 requires tqdm>=4.48.0, but you have tqdm 4.41.1 which is incompatible.\u001b[0m\n",
      "\u001b[?25h"
     ]
    }
   ],
   "source": [
    "!pip install -q numpy==1.18.0\n",
    "!pip install -q torch==1.7.0\n",
    "!pip install -q gensim==3.8.3\n",
    "!pip install -q matplotlib==3.2.2\n",
    "!pip install -q nltk==3.2.5\n",
    "!pip install -q ipywidgets==7.5.1\n",
    "!pip install -q tqdm==4.41.1"
   ]
  },
  {
   "cell_type": "code",
   "execution_count": 32,
   "metadata": {
    "id": "WNWK1wAcVbf0"
   },
   "outputs": [],
   "source": [
    "import torch\n",
    "import numpy as np\n",
    "import nltk\n",
    "import matplotlib.pyplot as pyplot\n",
    "\n",
    "import torch.nn as nn\n",
    "import torch.optim as optim\n",
    "import torch.utils.data as data\n",
    "import torch.nn.functional as F\n",
    "import collections\n",
    "from tqdm.notebook import tqdm\n",
    "from gensim.models import KeyedVectors"
   ]
  },
  {
   "cell_type": "markdown",
   "metadata": {
    "id": "zKr6Z_HMLdMq"
   },
   "source": [
    "# Hyperparameters"
   ]
  },
  {
   "cell_type": "code",
   "execution_count": 33,
   "metadata": {
    "id": "z1i250N5CczN"
   },
   "outputs": [],
   "source": [
    "HIDDEN_SIZE = 30\n",
    "BATCH_SIZE = 512\n",
    "MAX_EMBEDDINGS = 400000\n",
    "PATIENCE = 15"
   ]
  },
  {
   "cell_type": "markdown",
   "metadata": {
    "id": "Bjp3e2c6_Q9u"
   },
   "source": [
    "# Data"
   ]
  },
  {
   "cell_type": "markdown",
   "metadata": {
    "id": "432H3N9oIiek"
   },
   "source": [
    "Here, we load the FastText embeddings into memory. The limit parameter defines how many embeddings (lines) we read.\n"
   ]
  },
  {
   "cell_type": "code",
   "execution_count": 34,
   "metadata": {
    "colab": {
     "background_save": true
    },
    "id": "w1j-kqykY3MB"
   },
   "outputs": [],
   "source": [
    "fasttext = KeyedVectors.load_word2vec_format('crawl-300d-2M.vec',\n",
    "                                             limit=MAX_EMBEDDINGS)"
   ]
  },
  {
   "cell_type": "markdown",
   "metadata": {
    "id": "13jW9f3FZUWv"
   },
   "source": [
    "\n",
    "We will classify sentences as being written by author A (Shakespeare) or author B (Jane Austen).\n",
    "Targets (classes) are 0 for Shakespeare and 1 for Austen.\n",
    "For each author, there are two training books and one development book."
   ]
  },
  {
   "cell_type": "code",
   "execution_count": 35,
   "metadata": {
    "colab": {
     "background_save": true
    },
    "id": "Fb8u4SZy2IY_"
   },
   "outputs": [],
   "source": [
    "BOOKS = {'train': {0.0: ['shakespeare-macbeth.txt', 'shakespeare-caesar.txt'], \n",
    "                   1.0: ['austen-sense.txt', 'austen-emma.txt']},\n",
    "         'dev': {0.0: ['shakespeare-hamlet.txt'], \n",
    "                 1.0: ['austen-persuasion.txt']}}"
   ]
  },
  {
   "cell_type": "markdown",
   "metadata": {
    "id": "L0UYu14dY_l4"
   },
   "source": [
    "Let's create datasets.\n",
    "We represent sentences as the mean of their word embeddings."
   ]
  },
  {
   "cell_type": "code",
   "execution_count": 36,
   "metadata": {
    "colab": {
     "background_save": true
    },
    "id": "rTDv6LWSEadx",
    "outputId": "c7ce6b5e-d5de-4ddf-e9e8-4f985ba7d4ad"
   },
   "outputs": [
    {
     "name": "stdout",
     "output_type": "stream",
     "text": [
      "[nltk_data] Downloading package gutenberg to\n",
      "[nltk_data]     /home/min20120907/nltk_data...\n",
      "[nltk_data]   Package gutenberg is already up-to-date!\n",
      "[nltk_data] Downloading package punkt to\n",
      "[nltk_data]     /home/min20120907/nltk_data...\n",
      "[nltk_data]   Package punkt is already up-to-date!\n",
      "tensor([[0.],\n",
      "        [0.],\n",
      "        [0.],\n",
      "        ...,\n",
      "        [1.],\n",
      "        [1.],\n",
      "        [1.]])\n",
      "tensor([[0.],\n",
      "        [0.],\n",
      "        [0.],\n",
      "        ...,\n",
      "        [1.],\n",
      "        [1.],\n",
      "        [1.]])\n"
     ]
    }
   ],
   "source": [
    "nltk.download('gutenberg')\n",
    "nltk.download('punkt')\n",
    "\n",
    "datasets = {}\n",
    "for dsetname in ('train', 'dev'):\n",
    "  inputs, targets = [], []\n",
    "  for target in (0.0, 1.0):\n",
    "    for sent in nltk.corpus.gutenberg.sents(BOOKS[dsetname][target]):\n",
    "      sent = [word for word in sent if word in fasttext]\n",
    "      if len(sent) > 0: # if all words are unknown, skip sentence\n",
    "        embedded = np.mean([fasttext[word] for word in sent], 0)\n",
    "        inputs.append(embedded)\n",
    "        targets.append(np.array([target]))\n",
    "  \n",
    "  inputs = torch.tensor(inputs, dtype=torch.float32)\n",
    "  \n",
    "  targets = torch.tensor(targets, dtype=torch.float32)\n",
    "  dataset = data.TensorDataset(inputs, targets) # TODO: Create a TensorDataset from inputs and targets\n",
    "  datasets[dsetname] = dataset\n",
    "  print(targets)"
   ]
  },
  {
   "cell_type": "markdown",
   "metadata": {
    "id": "SnEfWQ2NMGAh"
   },
   "source": [
    "Let's look at a few datapoints:"
   ]
  },
  {
   "cell_type": "code",
   "execution_count": 37,
   "metadata": {
    "colab": {
     "background_save": true
    },
    "id": "p9d65g1BKke7",
    "outputId": "fadd09f1-7b81-40a8-82c7-627a5a518113"
   },
   "outputs": [
    {
     "name": "stdout",
     "output_type": "stream",
     "text": [
      "tensor([-0.0822,  0.0306, -0.2864,  0.0185,  0.0347,  0.1339,  0.1732, -0.1981])\n",
      "tensor([0.])\n",
      "tensor([-0.1327,  0.0476, -0.3165,  0.1483, -0.2254,  0.0178,  0.2899, -0.0626])\n",
      "tensor([0.])\n",
      "tensor([-0.2161, -0.1676, -0.0987,  0.2132, -0.0021,  0.1987,  0.0909,  0.1210])\n",
      "tensor([0.])\n",
      "tensor([-0.1247, -0.1852,  0.2241,  0.1931, -0.0819,  0.0157,  0.0958, -0.0313])\n",
      "tensor([0.])\n",
      "tensor([-0.1599, -0.0355, -0.0110, -0.0190,  0.1337, -0.1702,  0.2293, -0.0459])\n",
      "tensor([0.])\n"
     ]
    }
   ],
   "source": [
    "for i, (inputs, target) in zip(range(5), datasets['train']):\n",
    "  print(inputs[:8])\n",
    "  print(target)"
   ]
  },
  {
   "cell_type": "markdown",
   "metadata": {
    "id": "It9FrjXhMmku"
   },
   "source": [
    "# Training loop\n",
    "\n",
    "Here, we define the training loop.\n",
    "There are three functions:\n",
    "\n",
    "\n",
    "*   do_step(...), which performs a single forward pass (and backward pass if necessary) for one batch (one inputs and targets tensor)\n",
    "*   do_epoch(...), which iterates over a dataloader once\n",
    "*   training_with_early_stopping(...), which iterates over the epochs\n",
    "\n",
    "First, you should complete the do_step(...) function:\n",
    "\n"
   ]
  },
  {
   "cell_type": "code",
   "execution_count": 93,
   "metadata": {
    "colab": {
     "background_save": true
    },
    "id": "iKVUwPM_2i5G"
   },
   "outputs": [],
   "source": [
    "def do_step(model, inputs, targets, optimizer=None):\n",
    "  \"\"\"\n",
    "  Does a single forward pass (and backward pass if necessary) for one data batch\n",
    "\n",
    "  @param model nn.Module object\n",
    "  @param inputs batch tensor (N, input_size)\n",
    "  @param targets batch tensor (N, 1)\n",
    "  @param optimizer optimizer object; if None, no backpropagation is done\n",
    "  \"\"\"\n",
    "  loss_function = torch.nn.MSELoss()# TODO: Choose an appropriate loss function for this task.\n",
    "  \n",
    "  device = next(model.parameters()).device \n",
    "  # this is a hacky way of finding out the device of the model\n",
    "  # not reliable when different parts of the model live on different devices\n",
    "  inputs, targets = inputs.to(device=device), targets.to(device=device)\n",
    "\n",
    "  probabilities = loss_function(inputs, targets)  # TODO: Calculate the predicted probabilities\n",
    "  loss = loss_function(probabilities, targets) # TODO: Calculate the loss\n",
    "\n",
    "  if optimizer is not None:\n",
    "     optimizer.zero_grad()# TODO: Take all necessary steps for gradient backpropagation and parameter updates\n",
    "     optimizer.step()\n",
    "\n",
    "  predictions = probabilities / probabilities.max()/1.0  # TODO: Convert probabilities into predictions (0.0 or 1.0) that we can compare against the targets. Assume that the threshold is at 0.5.\n",
    "  num_correct = (predictions == targets).to(dtype=torch.int32).sum()\n",
    "  return loss * inputs.shape[0], num_correct"
   ]
  },
  {
   "cell_type": "code",
   "execution_count": 94,
   "metadata": {
    "colab": {
     "background_save": true
    },
    "id": "IxkJ7cWE2j12"
   },
   "outputs": [],
   "source": [
    "def do_epoch(model, dataloader, optimizer=None):\n",
    "  \"\"\"\n",
    "  Does a single epoch over the dataloader.\n",
    "\n",
    "  @param model nn.Module object\n",
    "  @param dataloader dataloader to iterate over\n",
    "  @param optimizer optimizer object; if None, no backpropagation is done\n",
    "  \"\"\"\n",
    "  all_accuracies = []\n",
    "  avg_loss, avg_acc = 0.0, 0.0\n",
    "  for inputs, targets in dataloader:\n",
    "    loss, acc = do_step(model, inputs, targets, optimizer)\n",
    "    avg_loss += loss / len(dataloader.dataset)\n",
    "    avg_acc += acc / len(dataloader.dataset)\n",
    "  return avg_loss, avg_acc"
   ]
  },
  {
   "cell_type": "markdown",
   "metadata": {
    "id": "8Zl4QDVDvF3s"
   },
   "source": [
    "In this function, you should instantiate the optimizer.\n",
    "Go to the torch.optim [documentation](https://pytorch.org/docs/stable/optim.html) and pick one of the optimizer classes whose names start with *Ada*.\n",
    "Don't worry about selecting the \"right\" optimizer, your guess is as good as anybody else's at this point.\n",
    "\n",
    "Also, you should set the criterion for early stopping."
   ]
  },
  {
   "cell_type": "code",
   "execution_count": 97,
   "metadata": {
    "colab": {
     "background_save": true
    },
    "id": "M8ZfBZ6-fvYb"
   },
   "outputs": [],
   "source": [
    "def training_with_early_stopping(model, datasets, batch_size=16, patience=0):\n",
    "  \"\"\"\n",
    "  Outer training loop with early stopping.\n",
    "\n",
    "  @param model nn.Module object\n",
    "  @param datasets dictionary that contains train and dev datasets\n",
    "  @param batch_size batch size for training and eval\n",
    "  @param patience parameter for early stopping on dev_acc\n",
    "  \"\"\"\n",
    "\n",
    "  if torch.cuda.is_available():\n",
    "    print('Moving model to GPU. Old device:', next(model.parameters()).device)\n",
    "    model = model.to('cuda')\n",
    "    print('New device:', next(model.parameters()).device)\n",
    "\n",
    "  optimizer = torch.optim.Adam(model.parameters(), lr=1e-4)# TODO: Instantiate your optimizer\n",
    "\n",
    "  dataloaders = {dsetname: data.DataLoader(datasets[dsetname],\n",
    "                                           batch_size=batch_size,\n",
    "                                           shuffle=dsetname=='train') \\\n",
    "                 for dsetname in datasets}\n",
    "\n",
    "  results = {'train_loss': [], 'train_acc': [], 'dev_loss': [], 'dev_acc': []}\n",
    "\n",
    "  with tqdm() as progressbar:\n",
    "    for epoch in range(2000): # stop after 2000 epochs at the latest\n",
    "      for dsetname, dataloader in dataloaders.items():\n",
    "        opt = optimizer if dsetname == 'train' else None\n",
    "        loss, acc = do_epoch(model,\n",
    "                             dataloader, \n",
    "                             optimizer=optimizer if dsetname=='train' else None)\n",
    "        \n",
    "        results[f'{dsetname}_loss'].append(loss.to('cpu').detach().numpy())\n",
    "        results[f'{dsetname}_acc'].append(acc.to('cpu').detach().numpy())\n",
    "\n",
    "      best_epoch = np.argmax(results['dev_acc'])\n",
    "      best_dev_acc = results['dev_acc'][best_epoch]\n",
    "      progressbar.update(1)\n",
    "      progressbar.set_description(\n",
    "          f'Best dev acc so far: {best_dev_acc:.5} in epoch {best_epoch}')\n",
    "\n",
    "      if best_epoch > patience: # TODO: Exit the loop if our highest dev_acc was more than P epochs ago, where P is the patience parameter\n",
    "        break\n",
    "  \n",
    "  return results"
   ]
  },
  {
   "cell_type": "markdown",
   "metadata": {
    "id": "1mPYovrJeyrb"
   },
   "source": [
    "Here, you should instantiate two classifier models:\n",
    "a logistic regression model and a two-layer Feed-Forward Net (FFN).\n",
    "Each model maps from $N$-dimensional vectors to $1$-dimensional vectors, where $N$ is the vector size of the FastText embeddings.\n",
    "\n",
    "The logistic regression model consists of a linear layer, followed by a sigmoid activation.\n",
    "\n",
    "The FFN consists of a linear layer, followed by a relu nonlinearity, followed by a second linear layer, follwed by a sigmoid activation.\n",
    "The hidden size is stored in the HIDDEN_SIZE hyperparameter.\n",
    "\n",
    "You can create the models by defining module classes and then instantiating them, as described in the lecture. But there is an easier way ([hint](https://pytorch.org/docs/stable/generated/torch.nn.Sequential.html))."
   ]
  },
  {
   "cell_type": "code",
   "execution_count": 98,
   "metadata": {
    "colab": {
     "background_save": true
    },
    "id": "WGML3MN0_d23",
    "outputId": "8edddfc2-01be-46c6-ad64-ddc2818db324"
   },
   "outputs": [
    {
     "name": "stdout",
     "output_type": "stream",
     "text": [
      "300\n",
      "1\n"
     ]
    },
    {
     "data": {
      "application/vnd.jupyter.widget-view+json": {
       "model_id": "cb5f328b4f9945269682924130011c6c",
       "version_major": 2,
       "version_minor": 0
      },
      "text/plain": [
       "HBox(children=(FloatProgress(value=1.0, bar_style='info', max=1.0), HTML(value='')))"
      ]
     },
     "metadata": {},
     "output_type": "display_data"
    },
    {
     "name": "stdout",
     "output_type": "stream",
     "text": [
      "\n"
     ]
    },
    {
     "data": {
      "application/vnd.jupyter.widget-view+json": {
       "model_id": "66894c0da9a24aa48682531de710ca21",
       "version_major": 2,
       "version_minor": 0
      },
      "text/plain": [
       "HBox(children=(FloatProgress(value=1.0, bar_style='info', max=1.0), HTML(value='')))"
      ]
     },
     "metadata": {},
     "output_type": "display_data"
    },
    {
     "name": "stdout",
     "output_type": "stream",
     "text": [
      "\n"
     ]
    }
   ],
   "source": [
    "torch.manual_seed(0)\n",
    "if torch.cuda.is_available():\n",
    "  torch.cuda.manual_seed(0)\n",
    "# same as the above code\n",
    "print(inputs.size(dim=0))\n",
    "print(target.size(dim=0))\n",
    "logistic = nn.Sequential(collections.OrderedDict([\n",
    "          ('linear1', nn.Linear(inputs.size(dim=0),target.size(dim=0))),\n",
    "          ('sigmoid1', nn.Sigmoid())\n",
    "        ])) # TODO: Logistic regression model (linear -> sigmoid)\n",
    "ffn = nn.Sequential(collections.OrderedDict([\n",
    "          ('conv1', nn.Linear(inputs.size(dim=0),target.size(dim=0))),\n",
    "          ('relu1', nn.ReLU()),\n",
    "          ('linear1', nn.Linear(inputs.size(dim=0), target.size(dim=0))),\n",
    "          ('sigmoid1', nn.Sigmoid())\n",
    "        ])) # TODO: Feed-Forward net (linear -> relu -> linear -> sigmoid)\n",
    "\n",
    "results = {}\n",
    "results['logistic'] = training_with_early_stopping(logistic, \n",
    "                                                   datasets,\n",
    "                                                   batch_size=BATCH_SIZE,\n",
    "                                                   patience=PATIENCE)\n",
    "results['ffn'] = training_with_early_stopping(ffn, \n",
    "                                              datasets,\n",
    "                                              batch_size=BATCH_SIZE,\n",
    "                                              patience=PATIENCE)"
   ]
  },
  {
   "cell_type": "markdown",
   "metadata": {
    "id": "pLlKeyouHkpL"
   },
   "source": [
    "# Results\n",
    "\n",
    "Here, we plot the training loss/accuracy and dev loss/accuracy over the epochs."
   ]
  },
  {
   "cell_type": "code",
   "execution_count": 99,
   "metadata": {
    "colab": {
     "background_save": true
    },
    "id": "oNNi5dfQy1g7",
    "scrolled": true
   },
   "outputs": [
    {
     "data": {
      "image/png": "[encoded data removed]",
      "text/plain": [
       "<Figure size 1080x216 with 4 Axes>"
      ]
     },
     "metadata": {
      "needs_background": "light"
     },
     "output_type": "display_data"
    }
   ],
   "source": [
    "fig, plots = pyplot.subplots(ncols=4, figsize=(15,3))\n",
    "for modelname, result in results.items():\n",
    "  for key, plot in zip(result.keys(), plots.flatten()):\n",
    "    plot.plot(result[key], label=modelname)\n",
    "    plot.set_xlabel('Epoch')\n",
    "    plot.set_ylabel(key)\n",
    "    plot.legend()\n",
    "fig.tight_layout()"
   ]
  },
  {
   "cell_type": "markdown",
   "metadata": {
    "id": "hkkBE157HJ_X"
   },
   "source": [
    "**TODO:** In a few sentences, describe the plots and the conclusions that you draw from them. \n",
    "we can see that the loss is getting smaller every epoch. But it seems the accuracy didn't change much.\n",
    "**TODO:** What are possible next steps for improving the model? List at least two.\n",
    "Expand the database.\n",
    "Do more epoches training"
   ]
  }
 ],
 "metadata": {
  "accelerator": "GPU",
  "colab": {
   "collapsed_sections": [],
   "name": "exercise6_ffn.ipynb",
   "provenance": [],
   "toc_visible": true
  },
  "kernelspec": {
   "display_name": "Python 3 (ipykernel)",
   "language": "python",
   "name": "python3"
  },
  "language_info": {
   "codemirror_mode": {
    "name": "ipython",
    "version": 3
   },
   "file_extension": ".py",
   "mimetype": "text/x-python",
   "name": "python",
   "nbconvert_exporter": "python",
   "pygments_lexer": "ipython3",
   "version": "3.8.10"
  }
 },
 "nbformat": 4,
 "nbformat_minor": 1
}
