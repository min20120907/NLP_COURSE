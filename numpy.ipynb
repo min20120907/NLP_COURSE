{
 "cells": [
  {
   "cell_type": "markdown",
   "metadata": {},
   "source": [
    "# Deep Learning for Natural Language Processing\n",
    "## Exercise Sheet 4 - numpy\n",
    "\n",
    "You should answer each question with a line of code in the cell below.\n",
    "A correctly completed answer gives 2 points. Partially correct answers give 1 point.\n",
    "For each of these tasks, there is a way to solve it directly and elegantly with numpy, we will therefor not accept solutions with for-loops, long lists of typed out array indices and similar constructions.\n",
    "\n",
    "**Submission deadline:** 23.11.2021, 23:59 \n",
    "\n",
    "**Exercise:** 01.12.2021\n",
    "\n",
    "**Instructions for submission:** \n",
    "You should complete the parts of the exercises that are marked as **TODO**. A correctly completed **TODO** gives 2 bonus points. Partially correct answers give 1 bonus point. After completing the exercise, save a copy of the notebook as exercise4_numpy_MATRIKELNUMMER.ipynb, where MATRIKELNUMMER is your matriculation number. Then upload the notebook to moodle (submission exercise sheet 4).\n",
    "\n",
    "**Note:** In order to understand the code, it can be helpful to experiment a bit during development. You are welcome to print variables, reduce dataset sizes, or experiment with hyperparameters. But please remove these changes before submitting the notebook. If we cannot run your notebook (e.g., because you commented out an important variable, or because a print statement is congesting stdout), then we cannot grade it. \n",
    "\n",
    "Total points: 30"
   ]
  },
  {
   "cell_type": "markdown",
   "metadata": {},
   "source": [
    "* import the numpy package under the name np"
   ]
  },
  {
   "cell_type": "code",
   "execution_count": 3,
   "metadata": {},
   "outputs": [],
   "source": [
    "#TODO\n",
    "import numpy as np"
   ]
  },
  {
   "cell_type": "markdown",
   "metadata": {},
   "source": [
    "* generate a vector with values ranging from 42 inclusive to 80 exclusive"
   ]
  },
  {
   "cell_type": "code",
   "execution_count": 4,
   "metadata": {},
   "outputs": [
    {
     "output_type": "stream",
     "name": "stdout",
     "text": [
      "[42 43 44 45 46 47 48 49 50 51 52 53 54 55 56 57 58 59 60 61 62 63 64 65\n 66 67 68 69 70 71 72 73 74 75 76 77 78 79]\n"
     ]
    }
   ],
   "source": [
    "#TODO\n",
    "vector1 = np.array([a for a in range(42,80)])"
   ]
  },
  {
   "cell_type": "markdown",
   "metadata": {},
   "source": [
    "* revert the previously generated vector"
   ]
  },
  {
   "cell_type": "code",
   "execution_count": 6,
   "metadata": {},
   "outputs": [
    {
     "output_type": "stream",
     "name": "stdout",
     "text": [
      "[79 78 77 76 75 74 73 72 71 70 69 68 67 66 65 64 63 62 61 60 59 58 57 56\n 55 54 53 52 51 50 49 48 47 46 45 44 43 42]\n"
     ]
    }
   ],
   "source": [
    "#TODO\n",
    "vector1 = np.flip(vector1)\n",
    "print(vector1)"
   ]
  },
  {
   "cell_type": "markdown",
   "metadata": {},
   "source": [
    "* create a null vector of size 15 but the third, fifth and eight values set to 1"
   ]
  },
  {
   "cell_type": "code",
   "execution_count": 8,
   "metadata": {},
   "outputs": [
    {
     "output_type": "stream",
     "name": "stdout",
     "text": [
      "[1.7165319e-316 0.0000000e+000 1.0000000e+000 0.0000000e+000\n 1.0000000e+000 0.0000000e+000 0.0000000e+000 1.0000000e+000\n 0.0000000e+000 0.0000000e+000 0.0000000e+000 0.0000000e+000\n 0.0000000e+000 0.0000000e+000 0.0000000e+000]\n"
     ]
    }
   ],
   "source": [
    "#TODO\n",
    "vector2 = np.empty(15)\n",
    "vector2[2] = vector2[4] = vector2[7] = 1\n",
    "print(vector2)"
   ]
  },
  {
   "cell_type": "markdown",
   "metadata": {},
   "source": [
    "* create a 4x4 matrix with random values"
   ]
  },
  {
   "cell_type": "code",
   "execution_count": 16,
   "metadata": {},
   "outputs": [
    {
     "output_type": "stream",
     "name": "stdout",
     "text": [
      "[[0.57982976 0.58067732 0.41824408 0.54315018]\n [0.71615977 0.06102696 0.01251527 0.11611251]\n [0.93599878 0.75567186 0.10112035 0.93950186]\n [0.59803789 0.50466145 0.66197514 0.72677184]]\n"
     ]
    }
   ],
   "source": [
    "#TODO\n",
    "matrix1 = np.random.rand(4, 4)\n",
    "print(matrix1)"
   ]
  },
  {
   "source": [
    "* create a 5x5 2d array with 0 on the borders and 1 inside"
   ],
   "cell_type": "markdown",
   "metadata": {}
  },
  {
   "cell_type": "code",
   "execution_count": 15,
   "metadata": {},
   "outputs": [
    {
     "output_type": "stream",
     "name": "stdout",
     "text": [
      "[[1. 1. 1. 1. 1.]\n [1. 0. 0. 0. 1.]\n [1. 0. 0. 0. 1.]\n [1. 0. 0. 0. 1.]\n [1. 1. 1. 1. 1.]]\n"
     ]
    }
   ],
   "source": [
    "#TODO\n",
    "array1 = np.ones((5,5))\n",
    "array1[1:-1,1:-1] = 0\n",
    "print(array1)"
   ]
  },
  {
   "cell_type": "markdown",
   "metadata": {},
   "source": [
    "* create a 4x5 2d array with random values and compute the mean values of each row"
   ]
  },
  {
   "cell_type": "code",
   "execution_count": 17,
   "metadata": {},
   "outputs": [
    {
     "output_type": "stream",
     "name": "stdout",
     "text": [
      "0.6527741172912768\n0.4780594717969108\n0.49322780192797044\n0.7642434134481009\n"
     ]
    }
   ],
   "source": [
    "#TODO\n",
    "array2 = np.random.randn(4,5)\n",
    "for a in array2:\n",
    "    print(np.mean(a))"
   ]
  },
  {
   "cell_type": "markdown",
   "metadata": {},
   "source": [
    "* create a vector of size 5 with values drawn from an uniform distribution and sort it"
   ]
  },
  {
   "cell_type": "code",
   "execution_count": 23,
   "metadata": {},
   "outputs": [
    {
     "output_type": "stream",
     "name": "stdout",
     "text": [
      "Before:  [0.07040179 0.28390012 0.79524985 0.5665684  0.30377521]\nAfter:  [0.07040179 0.28390012 0.30377521 0.5665684  0.79524985]\n"
     ]
    }
   ],
   "source": [
    "#TODO\n",
    "vector3 = np.random.uniform(0.0, 1.0, 5)\n",
    "print(\"Before: \", vector3)\n",
    "vector3 = np.sort(vector3)\n",
    "print(\"After: \", vector3)"
   ]
  },
  {
   "cell_type": "markdown",
   "metadata": {},
   "source": [
    "* consider an array of shape (3,4,5), what is the index (x,y,z) of the 30th element? Note that\n",
    "there is a way to find this index directly within numpy"
   ]
  },
  {
   "cell_type": "code",
   "execution_count": 24,
   "metadata": {},
   "outputs": [
    {
     "output_type": "stream",
     "name": "stdout",
     "text": [
      "-0.10476269907275165\n"
     ]
    }
   ],
   "source": [
    "#TODO\n",
    "array3 = np.random.randn(3,4,5)\n",
    "# to find nth element, which n will follow the equation n = x*y*z, and x<=y<=z\n",
    "# In this kind of situation, we set n = 30\n",
    "n=30\n",
    "# Finding the index\n",
    "x = y = z = 0\n",
    "for a in range(3):\n",
    "    for b in range(4):\n",
    "        for c in range(5):\n",
    "            if a*b*c == n:\n",
    "                x = a\n",
    "                y = b\n",
    "                z = c\n",
    "                break\n",
    "print(array3[x][y][z])"
   ]
  },
  {
   "cell_type": "markdown",
   "metadata": {},
   "source": [
    "* compute the dot product of a 3x4 and a 4x2 matrix, each containing only ones"
   ]
  },
  {
   "cell_type": "code",
   "execution_count": 26,
   "metadata": {},
   "outputs": [
    {
     "output_type": "stream",
     "name": "stdout",
     "text": [
      "[[4. 4.]\n [4. 4.]\n [4. 4.]]\n"
     ]
    }
   ],
   "source": [
    "#TODO\n",
    "# Generate two random arrays as an example\n",
    "array4 = np.ones((3, 4))\n",
    "array5 = np.ones((4, 2))\n",
    "result1 = np.dot(array4, array5)\n",
    "print(result1)"
   ]
  },
  {
   "cell_type": "markdown",
   "metadata": {},
   "source": [
    "* create an array containing all dates of the days you had at your disposal to work on this sheet including start and\n",
    "end day in the format YYYY-MM-DD. Hint: there is a special data type for dates in numpy. Do not simply type all individual days out."
   ]
  },
  {
   "cell_type": "code",
   "execution_count": 39,
   "metadata": {},
   "outputs": [],
   "source": [
    "#TODO\n",
    "array6 = np.arange('2021-11-17', '2021-11-23', dtype='datetime64[D]')"
   ]
  },
  {
   "cell_type": "markdown",
   "metadata": {},
   "source": [
    "* create a 1d array with 10 random values between 0 and 5 and find the value nearest to 4"
   ]
  },
  {
   "cell_type": "code",
   "execution_count": 37,
   "metadata": {},
   "outputs": [
    {
     "output_type": "stream",
     "name": "stdout",
     "text": [
      "4\n"
     ]
    }
   ],
   "source": [
    "#TODO\n",
    "list1 = []\n",
    "for a in range(10):\n",
    "    list1.append(np.random.randint(0,5))\n",
    "array7 = np.array(list1)\n",
    "nearest_value = array7[(np.abs(array7-4)).argmin()]\n",
    "print(nearest_value)"
   ]
  },
  {
   "cell_type": "markdown",
   "metadata": {},
   "source": [
    "* Create a four-dimensional array and compute the sums over the first two axes at once"
   ]
  },
  {
   "cell_type": "code",
   "execution_count": 50,
   "metadata": {},
   "outputs": [
    {
     "output_type": "stream",
     "name": "stdout",
     "text": [
      "7.992066819429298\n"
     ]
    }
   ],
   "source": [
    "#TODO\n",
    "array8 = np.random.randn(1,2,3,4)\n",
    "sum1 = np.sum(array8,axis=2)\n",
    "print(np.sum(sum1))"
   ]
  },
  {
   "cell_type": "markdown",
   "metadata": {},
   "source": [
    "* given the array [0,1,2,3,4,5,0,2,3,1,2,3,2,3,2], find the most frequent value and its indexes"
   ]
  },
  {
   "cell_type": "code",
   "execution_count": 53,
   "metadata": {},
   "outputs": [
    {
     "output_type": "stream",
     "name": "stdout",
     "text": [
      "2\n0\n"
     ]
    }
   ],
   "source": [
    "x = [0,1,2,3,4,5,0,2,3,1,2,3,2,3,2]\n",
    "x_arr = np.array(x)\n",
    "mfn = np.bincount(x_arr).argmax()\n",
    "mfn_index = 0\n",
    "for a in range(len(x)):\n",
    "    if a is mfn:\n",
    "        mfn_index = a\n",
    "        break\n",
    "print(mfn)\n",
    "print(mfn_index)\n",
    "#TODO"
   ]
  },
  {
   "cell_type": "markdown",
   "metadata": {},
   "source": [
    "* given the array [0,0,1,5,0,2,0,0,3,0], find all indexes of non-zero values and all indexes of values\n",
    "greater than 1"
   ]
  },
  {
   "cell_type": "code",
   "execution_count": 54,
   "metadata": {},
   "outputs": [
    {
     "output_type": "stream",
     "name": "stdout",
     "text": [
      "[1, 5, 2, 3]\n[5, 2, 3]\n"
     ]
    }
   ],
   "source": [
    "x = [0,0,1,5,0,2,0,0,3,0]\n",
    "index2 = []\n",
    "index3 = []\n",
    "for a in x:\n",
    "    if a != 0:\n",
    "        index2.append(a)\n",
    "    if a > 1:\n",
    "        index3.append(a)\n",
    "print(index2)\n",
    "print(index3)\n",
    "\n",
    "#TODO"
   ]
  },
  {
   "cell_type": "code",
   "execution_count": null,
   "metadata": {},
   "outputs": [],
   "source": []
  }
 ],
 "metadata": {
  "kernelspec": {
   "display_name": "Python 3 (ipykernel)",
   "language": "python",
   "name": "python3"
  },
  "language_info": {
   "codemirror_mode": {
    "name": "ipython",
    "version": 3
   },
   "file_extension": ".py",
   "mimetype": "text/x-python",
   "name": "python",
   "nbconvert_exporter": "python",
   "pygments_lexer": "ipython3",
   "version": "3.8.5"
  },
  "name": ""
 },
 "nbformat": 4,
 "nbformat_minor": 1
}